{
 "cells": [
  {
   "cell_type": "code",
   "execution_count": 64,
   "id": "14c308e6-1de7-4fe7-b5f5-0bc0a4d5d13d",
   "metadata": {},
   "outputs": [],
   "source": [
    "# ----------------------------------------\n",
    "# 1. IMPORTAR LIBRERÍAS\n",
    "# ----------------------------------------\n",
    "import numpy as np\n",
    "import time\n",
    "import pandas as pd\n",
    "import matplotlib.pyplot as plt\n",
    "import tensorflow as tf\n",
    "from tensorflow.keras.layers import Dense, Input, LeakyReLU, Multiply, Lambda, RepeatVector, BatchNormalization, Dropout, Add\n",
    "from tensorflow.keras.models import Model\n",
    "from tensorflow.keras.callbacks import EarlyStopping, ReduceLROnPlateau, ModelCheckpoint\n",
    "from tensorflow.keras.regularizers import l2  # Añadimos esta importación\n",
    "from sklearn.model_selection import train_test_split, KFold\n",
    "from sklearn.preprocessing import StandardScaler\n",
    "\n",
    "# Configurar semillas aleatorias para reproducibilidad\n",
    "np.random.seed(42)\n",
    "tf.random.set_seed(42)"
   ]
  },
  {
   "cell_type": "code",
   "execution_count": 65,
   "id": "1a5a2265",
   "metadata": {},
   "outputs": [
    {
     "name": "stdout",
     "output_type": "stream",
     "text": [
      "Dimensiones del DataFrame final: (40000, 17)\n",
      "\n",
      "Columnas en el DataFrame final:\n",
      "['P', 'T', 'Q', 'SurfGeom_0', 'SurfGeom_1', 'Angles_0', 'Angles_2', 'Angles_3', 'Skin_0', 's2m_1', 's2m_2', 'SurfType_0', 'Result_0', 'Result_1', 'Result_2', 'Result_3', 'Result_4']\n"
     ]
    }
   ],
   "source": [
    "# ----------------------------------------\n",
    "# 2. CARGA Y PREPROCESAMIENTO DE DATOS\n",
    "# ----------------------------------------\n",
    "# Cargar el CSV y eliminar la columna DateTimes\n",
    "df = pd.read_csv('./dataset_rttov_rad.csv')\n",
    "df = df.drop(columns=['DateTimes'])\n",
    "\n",
    "# Convertir columnas de texto a arrays numéricos\n",
    "P_values    = np.array([np.array(eval(row)) for row in df['P']])\n",
    "T_values    = np.array([np.array(eval(row)) for row in df['T']])\n",
    "Q_values    = np.array([np.array(eval(row)) for row in df['Q']])\n",
    "CO2_values  = np.array([np.array(eval(row)) for row in df['CO2']])\n",
    "Angles      = np.array([np.array(eval(row)) for row in df['Angles']])\n",
    "SurfGeom    = np.array([np.array(eval(row)) for row in df['SurfGeom']])\n",
    "Skin        = np.array([np.array(eval(row)) for row in df['Skin']])\n",
    "s2m         = np.array([np.array(eval(row)) for row in df['s2m']])\n",
    "SurfType    = np.array([np.array(eval(row)) for row in df['SurfType']])\n",
    "\n",
    "# Calcular medias\n",
    "P_mean   = np.mean(P_values, axis=1)\n",
    "T_mean   = np.mean(T_values, axis=1)\n",
    "Q_mean   = np.mean(Q_values, axis=1)\n",
    "CO2_mean = np.mean(CO2_values, axis=1)\n",
    "\n",
    "# Crear DataFrames\n",
    "SurfGeom_df = pd.DataFrame(SurfGeom, columns=[f\"SurfGeom_{i}\" for i in range(SurfGeom.shape[1])])\n",
    "Angles_df   = pd.DataFrame(Angles,   columns=[f\"Angles_{i}\" for i in range(Angles.shape[1])])\n",
    "Skin_df     = pd.DataFrame(Skin,     columns=[f\"Skin_{i}\" for i in range(Skin.shape[1])])\n",
    "s2m_df      = pd.DataFrame(s2m,      columns=[f\"s2m_{i}\" for i in range(s2m.shape[1])])\n",
    "SurfType_df = pd.DataFrame(SurfType, columns=[f\"SurfType_{i}\" for i in range(SurfType.shape[1])])\n",
    "\n",
    "# Procesar resultados\n",
    "Results    = np.array([np.array(eval(row)) for row in df['Result']])\n",
    "results_df = pd.DataFrame(Results, columns=[f\"Result_{i}\" for i in range(Results.shape[1])])\n",
    "\n",
    "# Crear DataFrame final\n",
    "stats_df = pd.DataFrame({\n",
    "    \"P\": P_mean, \n",
    "    \"T\": T_mean, \n",
    "    \"Q\": Q_mean,\n",
    "    \"CO2\": CO2_mean\n",
    "})\n",
    "\n",
    "final_df = pd.concat([stats_df, SurfGeom_df, Angles_df, Skin_df, s2m_df, SurfType_df, results_df], axis=1)\n",
    "\n",
    "# Limpiar columnas\n",
    "final_df = final_df.drop(columns=['Skin_1', 'Skin_2', 'Skin_3', 'Skin_4', 'Skin_5', \n",
    "                                 'Skin_6', 'Skin_7', 'Skin_8', 's2m_3', 's2m_4', 's2m_5',\n",
    "                                 'SurfType_1', 'CO2'])\n",
    "final_df = final_df.drop(columns=['SurfGeom_2','s2m_0','Angles_1'])\n",
    "\n",
    "print(\"Dimensiones del DataFrame final:\", final_df.shape)\n",
    "print(\"\\nColumnas en el DataFrame final:\")\n",
    "print(final_df.columns.tolist())"
   ]
  },
  {
   "cell_type": "markdown",
   "id": "25c71ecf",
   "metadata": {},
   "source": []
  },
  {
   "cell_type": "code",
   "execution_count": 66,
   "id": "5e530bcf",
   "metadata": {},
   "outputs": [
    {
     "name": "stdout",
     "output_type": "stream",
     "text": [
      "Estadísticas de los datos normalizados:\n",
      "\n",
      "X_train:\n",
      "Media: -0.000387\n",
      "Desviación estándar: 0.971563\n",
      "\n",
      "X_test:\n",
      "Media: 0.001546\n",
      "Desviación estándar: 0.975407\n",
      "\n",
      "Y_train:\n",
      "Media: 0.002576\n",
      "Desviación estándar: 0.998017\n",
      "\n",
      "Y_test:\n",
      "Media: -0.010306\n",
      "Desviación estándar: 1.007818\n",
      "\n",
      "Dimensiones de los datos:\n",
      "X_train: (32000, 12)\n",
      "X_test: (8000, 12)\n",
      "Y_train: (32000, 5)\n",
      "Y_test: (8000, 5)\n",
      "trunk_train: (32000, 5, 1)\n",
      "trunk_test: (8000, 5, 1)\n"
     ]
    }
   ],
   "source": [
    "# ----------------------------------------\n",
    "# 3. PREPARACIÓN DE DATOS PARA DEEPONET\n",
    "# ----------------------------------------\n",
    "# Separar features y target\n",
    "X = final_df.drop(columns=['Result_0','Result_1','Result_2','Result_3','Result_4']).copy()\n",
    "Y = final_df[['Result_0','Result_1','Result_2','Result_3','Result_4']].copy()\n",
    "\n",
    "# Función de normalización robusta\n",
    "def robust_normalize(data, axis=0):\n",
    "    mean = np.mean(data, axis=axis)\n",
    "    std = np.std(data, axis=axis)\n",
    "    epsilon = 1e-8  # Para evitar división por cero\n",
    "    return (data - mean) / (std + epsilon), mean, std\n",
    "\n",
    "# Normalizar los datos\n",
    "X_scaled, X_mean, X_std = robust_normalize(X.values)\n",
    "Y_scaled, Y_mean, Y_std = robust_normalize(Y.values)\n",
    "\n",
    "# División train/test después de la normalización\n",
    "X_train, X_test, Y_train, Y_test = train_test_split(\n",
    "    X_scaled, Y_scaled,\n",
    "    test_size=0.2,\n",
    "    random_state=42\n",
    ")\n",
    "\n",
    "# Preparar datos trunk\n",
    "n_sensor = 5\n",
    "trunk_coords = np.linspace(0, 1, n_sensor).reshape(n_sensor, 1)\n",
    "trunk_train = np.repeat(trunk_coords[None, :, :], X_train.shape[0], axis=0)\n",
    "trunk_test = np.repeat(trunk_coords[None, :, :], X_test.shape[0], axis=0)\n",
    "\n",
    "# Verificar la normalización\n",
    "print(\"Estadísticas de los datos normalizados:\")\n",
    "print(\"\\nX_train:\")\n",
    "print(f\"Media: {np.mean(X_train):.6f}\")\n",
    "print(f\"Desviación estándar: {np.std(X_train):.6f}\")\n",
    "print(\"\\nX_test:\")\n",
    "print(f\"Media: {np.mean(X_test):.6f}\")\n",
    "print(f\"Desviación estándar: {np.std(X_test):.6f}\")\n",
    "print(\"\\nY_train:\")\n",
    "print(f\"Media: {np.mean(Y_train):.6f}\")\n",
    "print(f\"Desviación estándar: {np.std(Y_train):.6f}\")\n",
    "print(\"\\nY_test:\")\n",
    "print(f\"Media: {np.mean(Y_test):.6f}\")\n",
    "print(f\"Desviación estándar: {np.std(Y_test):.6f}\")\n",
    "\n",
    "print(\"\\nDimensiones de los datos:\")\n",
    "print(f\"X_train: {X_train.shape}\")\n",
    "print(f\"X_test: {X_test.shape}\")\n",
    "print(f\"Y_train: {Y_train.shape}\")\n",
    "print(f\"Y_test: {Y_test.shape}\")\n",
    "print(f\"trunk_train: {trunk_train.shape}\")\n",
    "print(f\"trunk_test: {trunk_test.shape}\")"
   ]
  },
  {
   "cell_type": "code",
   "execution_count": 67,
   "id": "1b0b1e2b",
   "metadata": {},
   "outputs": [
    {
     "data": {
      "text/plain": [
       "\"\\n# Crear y compilar modelo\\nmodel = create_deeponet(input_dim=X_train.shape[1], n_sensor=n_sensor)\\nmodel.compile(\\n    optimizer='adam',\\n    loss='mse',\\n    metrics=['mae']\\n)\\n\""
      ]
     },
     "execution_count": 67,
     "metadata": {},
     "output_type": "execute_result"
    }
   ],
   "source": [
    "# ----------------------------------------\n",
    "# 4. MODELO DEEPONET\n",
    "# ----------------------------------------\n",
    "\n",
    "def create_deeponet(input_dim, n_sensor):\n",
    "    # Branch network\n",
    "    branch_input = Input(shape=(input_dim,))\n",
    "    branch = Dense(128, kernel_regularizer=l2(1e-4),\n",
    "                  kernel_initializer='he_normal')(branch_input)\n",
    "    branch = LeakyReLU(alpha=0.1)(branch)\n",
    "    branch = BatchNormalization(momentum=0.9)(branch)\n",
    "    branch = Dropout(0.1)(branch)\n",
    "\n",
    "    branch = Dense(256, kernel_regularizer=l2(1e-4),\n",
    "                  kernel_initializer='he_normal')(branch)\n",
    "    branch = LeakyReLU(alpha=0.1)(branch)\n",
    "    branch = BatchNormalization(momentum=0.9)(branch)\n",
    "    branch = Dropout(0.1)(branch)\n",
    "    branch = Dense(128, kernel_regularizer=l2(1e-4),\n",
    "                  kernel_initializer='he_normal')(branch)\n",
    "    branch = LeakyReLU(alpha=0.1)(branch)\n",
    "    branch = BatchNormalization(momentum=0.9)(branch)\n",
    "    branch = Dense(32)(branch)\n",
    "\n",
    "    # Trunk network\n",
    "    trunk_input = Input(shape=(n_sensor, 1))\n",
    "    trunk = Dense(128, kernel_initializer='he_normal')(trunk_input)\n",
    "    trunk = LeakyReLU(alpha=0.1)(trunk)\n",
    "    trunk = BatchNormalization(momentum=0.9)(trunk)\n",
    "    trunk = Dense(128, kernel_initializer='he_normal')(trunk)\n",
    "    trunk = LeakyReLU(alpha=0.1)(trunk)\n",
    "    trunk = BatchNormalization(momentum=0.9)(trunk)\n",
    "    trunk = Dense(32)(trunk)\n",
    "\n",
    "    # Expandir branch para que coincida con la dimensión del trunk\n",
    "    branch_expanded = RepeatVector(n_sensor)(branch)\n",
    "\n",
    "    output = Multiply()([branch_expanded, trunk])\n",
    "    output = Dense(32, activation='relu')(output)\n",
    "    output = Dense(5)(output)\n",
    "    output = Lambda(lambda x: x[:, 0, :])(output)\n",
    "\n",
    "    return Model(inputs=[branch_input, trunk_input], outputs=output)\n",
    "\n",
    "# Crear y compilar modelo\n",
    "n_sensor = 5\n",
    "trunk_coords = np.linspace(0, 1, n_sensor).reshape(-1, 1)  # Shape: (5, 1)\n",
    "\n",
    "# Preparar datos de entrenamiento\n",
    "trunk_train = np.tile(trunk_coords, (X_train.shape[0], 1))  # Shape: (n_samples, 5)\n",
    "trunk_train = trunk_train.reshape(X_train.shape[0], n_sensor, 1)  # Shape: (n_samples, 5, 1)\n",
    "\n",
    "# Preparar datos de prueba\n",
    "trunk_test = np.tile(trunk_coords, (X_test.shape[0], 1))  # Shape: (n_samples, 5)\n",
    "trunk_test = trunk_test.reshape(X_test.shape[0], n_sensor, 1)  # Shape: (n_samples, 5, 1)\n",
    "\n",
    "\"\"\"\n",
    "# Crear y compilar modelo\n",
    "model = create_deeponet(input_dim=X_train.shape[1], n_sensor=n_sensor)\n",
    "model.compile(\n",
    "    optimizer='adam',\n",
    "    loss='mse',\n",
    "    metrics=['mae']\n",
    ")\n",
    "\"\"\""
   ]
  },
  {
   "cell_type": "code",
   "execution_count": 68,
   "id": "c9a3346a",
   "metadata": {},
   "outputs": [
    {
     "name": "stdout",
     "output_type": "stream",
     "text": [
      "Epoch 1/500\n"
     ]
    },
    {
     "name": "stderr",
     "output_type": "stream",
     "text": [
      "/Users/esther/Documents/Mis-cosas/TFM/.venv/lib/python3.10/site-packages/keras/src/layers/activations/leaky_relu.py:41: UserWarning: Argument `alpha` is deprecated. Use `negative_slope` instead.\n",
      "  warnings.warn(\n"
     ]
    },
    {
     "name": "stdout",
     "output_type": "stream",
     "text": [
      "\u001b[1m193/200\u001b[0m \u001b[32m━━━━━━━━━━━━━━━━━━━\u001b[0m\u001b[37m━\u001b[0m \u001b[1m0s\u001b[0m 6ms/step - loss: 0.6217 - mae: 0.4473 - mse: 0.5184"
     ]
    },
    {
     "name": "stderr",
     "output_type": "stream",
     "text": [
      "WARNING:absl:You are saving your model as an HDF5 file via `model.save()` or `keras.saving.save_model(model)`. This file format is considered legacy. We recommend using instead the native Keras format, e.g. `model.save('my_model.keras')` or `keras.saving.save_model(model, 'my_model.keras')`. \n"
     ]
    },
    {
     "name": "stdout",
     "output_type": "stream",
     "text": [
      "\u001b[1m200/200\u001b[0m \u001b[32m━━━━━━━━━━━━━━━━━━━━\u001b[0m\u001b[37m\u001b[0m \u001b[1m3s\u001b[0m 7ms/step - loss: 0.6091 - mae: 0.4406 - mse: 0.5058 - val_loss: 0.1704 - val_mae: 0.1596 - val_mse: 0.0680 - learning_rate: 5.0000e-04\n",
      "Epoch 2/500\n",
      "\u001b[1m193/200\u001b[0m \u001b[32m━━━━━━━━━━━━━━━━━━━\u001b[0m\u001b[37m━\u001b[0m \u001b[1m0s\u001b[0m 5ms/step - loss: 0.1750 - mae: 0.1786 - mse: 0.0729"
     ]
    },
    {
     "name": "stderr",
     "output_type": "stream",
     "text": [
      "WARNING:absl:You are saving your model as an HDF5 file via `model.save()` or `keras.saving.save_model(model)`. This file format is considered legacy. We recommend using instead the native Keras format, e.g. `model.save('my_model.keras')` or `keras.saving.save_model(model, 'my_model.keras')`. \n"
     ]
    },
    {
     "name": "stdout",
     "output_type": "stream",
     "text": [
      "\u001b[1m200/200\u001b[0m \u001b[32m━━━━━━━━━━━━━━━━━━━━\u001b[0m\u001b[37m\u001b[0m \u001b[1m1s\u001b[0m 5ms/step - loss: 0.1749 - mae: 0.1786 - mse: 0.0729 - val_loss: 0.1545 - val_mae: 0.1409 - val_mse: 0.0539 - learning_rate: 5.0000e-04\n",
      "Epoch 3/500\n",
      "\u001b[1m193/200\u001b[0m \u001b[32m━━━━━━━━━━━━━━━━━━━\u001b[0m\u001b[37m━\u001b[0m \u001b[1m0s\u001b[0m 5ms/step - loss: 0.1615 - mae: 0.1624 - mse: 0.0614"
     ]
    },
    {
     "name": "stderr",
     "output_type": "stream",
     "text": [
      "WARNING:absl:You are saving your model as an HDF5 file via `model.save()` or `keras.saving.save_model(model)`. This file format is considered legacy. We recommend using instead the native Keras format, e.g. `model.save('my_model.keras')` or `keras.saving.save_model(model, 'my_model.keras')`. \n"
     ]
    },
    {
     "name": "stdout",
     "output_type": "stream",
     "text": [
      "\u001b[1m200/200\u001b[0m \u001b[32m━━━━━━━━━━━━━━━━━━━━\u001b[0m\u001b[37m\u001b[0m \u001b[1m1s\u001b[0m 5ms/step - loss: 0.1614 - mae: 0.1624 - mse: 0.0614 - val_loss: 0.1412 - val_mae: 0.1242 - val_mse: 0.0428 - learning_rate: 5.0000e-04\n",
      "Epoch 4/500\n",
      "\u001b[1m193/200\u001b[0m \u001b[32m━━━━━━━━━━━━━━━━━━━\u001b[0m\u001b[37m━\u001b[0m \u001b[1m0s\u001b[0m 5ms/step - loss: 0.1524 - mae: 0.1532 - mse: 0.0545"
     ]
    },
    {
     "name": "stderr",
     "output_type": "stream",
     "text": [
      "WARNING:absl:You are saving your model as an HDF5 file via `model.save()` or `keras.saving.save_model(model)`. This file format is considered legacy. We recommend using instead the native Keras format, e.g. `model.save('my_model.keras')` or `keras.saving.save_model(model, 'my_model.keras')`. \n"
     ]
    },
    {
     "name": "stdout",
     "output_type": "stream",
     "text": [
      "\u001b[1m200/200\u001b[0m \u001b[32m━━━━━━━━━━━━━━━━━━━━\u001b[0m\u001b[37m\u001b[0m \u001b[1m1s\u001b[0m 6ms/step - loss: 0.1524 - mae: 0.1532 - mse: 0.0545 - val_loss: 0.1334 - val_mae: 0.1140 - val_mse: 0.0373 - learning_rate: 5.0000e-04\n",
      "Epoch 5/500\n",
      "\u001b[1m193/200\u001b[0m \u001b[32m━━━━━━━━━━━━━━━━━━━\u001b[0m\u001b[37m━\u001b[0m \u001b[1m0s\u001b[0m 5ms/step - loss: 0.1451 - mae: 0.1449 - mse: 0.0497"
     ]
    },
    {
     "name": "stderr",
     "output_type": "stream",
     "text": [
      "WARNING:absl:You are saving your model as an HDF5 file via `model.save()` or `keras.saving.save_model(model)`. This file format is considered legacy. We recommend using instead the native Keras format, e.g. `model.save('my_model.keras')` or `keras.saving.save_model(model, 'my_model.keras')`. \n"
     ]
    },
    {
     "name": "stdout",
     "output_type": "stream",
     "text": [
      "\u001b[1m200/200\u001b[0m \u001b[32m━━━━━━━━━━━━━━━━━━━━\u001b[0m\u001b[37m\u001b[0m \u001b[1m1s\u001b[0m 6ms/step - loss: 0.1451 - mae: 0.1449 - mse: 0.0497 - val_loss: 0.1285 - val_mae: 0.1096 - val_mse: 0.0349 - learning_rate: 5.0000e-04\n",
      "Epoch 6/500\n",
      "\u001b[1m194/200\u001b[0m \u001b[32m━━━━━━━━━━━━━━━━━━━\u001b[0m\u001b[37m━\u001b[0m \u001b[1m0s\u001b[0m 5ms/step - loss: 0.1395 - mae: 0.1389 - mse: 0.0465"
     ]
    },
    {
     "name": "stderr",
     "output_type": "stream",
     "text": [
      "WARNING:absl:You are saving your model as an HDF5 file via `model.save()` or `keras.saving.save_model(model)`. This file format is considered legacy. We recommend using instead the native Keras format, e.g. `model.save('my_model.keras')` or `keras.saving.save_model(model, 'my_model.keras')`. \n"
     ]
    },
    {
     "name": "stdout",
     "output_type": "stream",
     "text": [
      "\u001b[1m200/200\u001b[0m \u001b[32m━━━━━━━━━━━━━━━━━━━━\u001b[0m\u001b[37m\u001b[0m \u001b[1m1s\u001b[0m 5ms/step - loss: 0.1395 - mae: 0.1389 - mse: 0.0466 - val_loss: 0.1248 - val_mae: 0.1073 - val_mse: 0.0337 - learning_rate: 5.0000e-04\n",
      "Epoch 7/500\n",
      "\u001b[1m192/200\u001b[0m \u001b[32m━━━━━━━━━━━━━━━━━━━\u001b[0m\u001b[37m━\u001b[0m \u001b[1m0s\u001b[0m 5ms/step - loss: 0.1345 - mae: 0.1337 - mse: 0.0440"
     ]
    },
    {
     "name": "stderr",
     "output_type": "stream",
     "text": [
      "WARNING:absl:You are saving your model as an HDF5 file via `model.save()` or `keras.saving.save_model(model)`. This file format is considered legacy. We recommend using instead the native Keras format, e.g. `model.save('my_model.keras')` or `keras.saving.save_model(model, 'my_model.keras')`. \n"
     ]
    },
    {
     "name": "stdout",
     "output_type": "stream",
     "text": [
      "\u001b[1m200/200\u001b[0m \u001b[32m━━━━━━━━━━━━━━━━━━━━\u001b[0m\u001b[37m\u001b[0m \u001b[1m1s\u001b[0m 5ms/step - loss: 0.1345 - mae: 0.1337 - mse: 0.0440 - val_loss: 0.1213 - val_mae: 0.1050 - val_mse: 0.0327 - learning_rate: 5.0000e-04\n",
      "Epoch 8/500\n",
      "\u001b[1m192/200\u001b[0m \u001b[32m━━━━━━━━━━━━━━━━━━━\u001b[0m\u001b[37m━\u001b[0m \u001b[1m0s\u001b[0m 5ms/step - loss: 0.1298 - mae: 0.1301 - mse: 0.0419"
     ]
    },
    {
     "name": "stderr",
     "output_type": "stream",
     "text": [
      "WARNING:absl:You are saving your model as an HDF5 file via `model.save()` or `keras.saving.save_model(model)`. This file format is considered legacy. We recommend using instead the native Keras format, e.g. `model.save('my_model.keras')` or `keras.saving.save_model(model, 'my_model.keras')`. \n"
     ]
    },
    {
     "name": "stdout",
     "output_type": "stream",
     "text": [
      "\u001b[1m200/200\u001b[0m \u001b[32m━━━━━━━━━━━━━━━━━━━━\u001b[0m\u001b[37m\u001b[0m \u001b[1m1s\u001b[0m 5ms/step - loss: 0.1298 - mae: 0.1302 - mse: 0.0419 - val_loss: 0.1176 - val_mae: 0.1015 - val_mse: 0.0315 - learning_rate: 5.0000e-04\n",
      "Epoch 9/500\n",
      "\u001b[1m196/200\u001b[0m \u001b[32m━━━━━━━━━━━━━━━━━━━\u001b[0m\u001b[37m━\u001b[0m \u001b[1m0s\u001b[0m 5ms/step - loss: 0.1252 - mae: 0.1254 - mse: 0.0397"
     ]
    },
    {
     "name": "stderr",
     "output_type": "stream",
     "text": [
      "WARNING:absl:You are saving your model as an HDF5 file via `model.save()` or `keras.saving.save_model(model)`. This file format is considered legacy. We recommend using instead the native Keras format, e.g. `model.save('my_model.keras')` or `keras.saving.save_model(model, 'my_model.keras')`. \n"
     ]
    },
    {
     "name": "stdout",
     "output_type": "stream",
     "text": [
      "\u001b[1m200/200\u001b[0m \u001b[32m━━━━━━━━━━━━━━━━━━━━\u001b[0m\u001b[37m\u001b[0m \u001b[1m1s\u001b[0m 6ms/step - loss: 0.1252 - mae: 0.1255 - mse: 0.0397 - val_loss: 0.1149 - val_mae: 0.1018 - val_mse: 0.0312 - learning_rate: 5.0000e-04\n",
      "Epoch 10/500\n",
      "\u001b[1m196/200\u001b[0m \u001b[32m━━━━━━━━━━━━━━━━━━━\u001b[0m\u001b[37m━\u001b[0m \u001b[1m0s\u001b[0m 5ms/step - loss: 0.1221 - mae: 0.1236 - mse: 0.0390"
     ]
    },
    {
     "name": "stderr",
     "output_type": "stream",
     "text": [
      "WARNING:absl:You are saving your model as an HDF5 file via `model.save()` or `keras.saving.save_model(model)`. This file format is considered legacy. We recommend using instead the native Keras format, e.g. `model.save('my_model.keras')` or `keras.saving.save_model(model, 'my_model.keras')`. \n"
     ]
    },
    {
     "name": "stdout",
     "output_type": "stream",
     "text": [
      "\u001b[1m200/200\u001b[0m \u001b[32m━━━━━━━━━━━━━━━━━━━━\u001b[0m\u001b[37m\u001b[0m \u001b[1m1s\u001b[0m 6ms/step - loss: 0.1221 - mae: 0.1236 - mse: 0.0390 - val_loss: 0.1123 - val_mae: 0.1016 - val_mse: 0.0310 - learning_rate: 5.0000e-04\n",
      "Epoch 11/500\n",
      "\u001b[1m190/200\u001b[0m \u001b[32m━━━━━━━━━━━━━━━━━━━\u001b[0m\u001b[37m━\u001b[0m \u001b[1m0s\u001b[0m 5ms/step - loss: 0.1188 - mae: 0.1214 - mse: 0.0380"
     ]
    },
    {
     "name": "stderr",
     "output_type": "stream",
     "text": [
      "WARNING:absl:You are saving your model as an HDF5 file via `model.save()` or `keras.saving.save_model(model)`. This file format is considered legacy. We recommend using instead the native Keras format, e.g. `model.save('my_model.keras')` or `keras.saving.save_model(model, 'my_model.keras')`. \n"
     ]
    },
    {
     "name": "stdout",
     "output_type": "stream",
     "text": [
      "\u001b[1m200/200\u001b[0m \u001b[32m━━━━━━━━━━━━━━━━━━━━\u001b[0m\u001b[37m\u001b[0m \u001b[1m1s\u001b[0m 5ms/step - loss: 0.1188 - mae: 0.1214 - mse: 0.0380 - val_loss: 0.1098 - val_mae: 0.1012 - val_mse: 0.0307 - learning_rate: 5.0000e-04\n",
      "Epoch 12/500\n",
      "\u001b[1m190/200\u001b[0m \u001b[32m━━━━━━━━━━━━━━━━━━━\u001b[0m\u001b[37m━\u001b[0m \u001b[1m0s\u001b[0m 5ms/step - loss: 0.1156 - mae: 0.1197 - mse: 0.0371"
     ]
    },
    {
     "name": "stderr",
     "output_type": "stream",
     "text": [
      "WARNING:absl:You are saving your model as an HDF5 file via `model.save()` or `keras.saving.save_model(model)`. This file format is considered legacy. We recommend using instead the native Keras format, e.g. `model.save('my_model.keras')` or `keras.saving.save_model(model, 'my_model.keras')`. \n"
     ]
    },
    {
     "name": "stdout",
     "output_type": "stream",
     "text": [
      "\u001b[1m200/200\u001b[0m \u001b[32m━━━━━━━━━━━━━━━━━━━━\u001b[0m\u001b[37m\u001b[0m \u001b[1m1s\u001b[0m 5ms/step - loss: 0.1156 - mae: 0.1198 - mse: 0.0372 - val_loss: 0.1071 - val_mae: 0.1000 - val_mse: 0.0303 - learning_rate: 5.0000e-04\n",
      "Epoch 13/500\n",
      "\u001b[1m194/200\u001b[0m \u001b[32m━━━━━━━━━━━━━━━━━━━\u001b[0m\u001b[37m━\u001b[0m \u001b[1m0s\u001b[0m 5ms/step - loss: 0.1133 - mae: 0.1187 - mse: 0.0370"
     ]
    },
    {
     "name": "stderr",
     "output_type": "stream",
     "text": [
      "WARNING:absl:You are saving your model as an HDF5 file via `model.save()` or `keras.saving.save_model(model)`. This file format is considered legacy. We recommend using instead the native Keras format, e.g. `model.save('my_model.keras')` or `keras.saving.save_model(model, 'my_model.keras')`. \n"
     ]
    },
    {
     "name": "stdout",
     "output_type": "stream",
     "text": [
      "\u001b[1m200/200\u001b[0m \u001b[32m━━━━━━━━━━━━━━━━━━━━\u001b[0m\u001b[37m\u001b[0m \u001b[1m1s\u001b[0m 6ms/step - loss: 0.1133 - mae: 0.1188 - mse: 0.0370 - val_loss: 0.1048 - val_mae: 0.0986 - val_mse: 0.0302 - learning_rate: 5.0000e-04\n",
      "Epoch 14/500\n",
      "\u001b[1m195/200\u001b[0m \u001b[32m━━━━━━━━━━━━━━━━━━━\u001b[0m\u001b[37m━\u001b[0m \u001b[1m0s\u001b[0m 5ms/step - loss: 0.1100 - mae: 0.1164 - mse: 0.0358"
     ]
    },
    {
     "name": "stderr",
     "output_type": "stream",
     "text": [
      "WARNING:absl:You are saving your model as an HDF5 file via `model.save()` or `keras.saving.save_model(model)`. This file format is considered legacy. We recommend using instead the native Keras format, e.g. `model.save('my_model.keras')` or `keras.saving.save_model(model, 'my_model.keras')`. \n"
     ]
    },
    {
     "name": "stdout",
     "output_type": "stream",
     "text": [
      "\u001b[1m200/200\u001b[0m \u001b[32m━━━━━━━━━━━━━━━━━━━━\u001b[0m\u001b[37m\u001b[0m \u001b[1m1s\u001b[0m 5ms/step - loss: 0.1100 - mae: 0.1165 - mse: 0.0358 - val_loss: 0.1020 - val_mae: 0.0984 - val_mse: 0.0294 - learning_rate: 5.0000e-04\n",
      "Epoch 15/500\n",
      "\u001b[1m190/200\u001b[0m \u001b[32m━━━━━━━━━━━━━━━━━━━\u001b[0m\u001b[37m━\u001b[0m \u001b[1m0s\u001b[0m 5ms/step - loss: 0.1072 - mae: 0.1158 - mse: 0.0350"
     ]
    },
    {
     "name": "stderr",
     "output_type": "stream",
     "text": [
      "WARNING:absl:You are saving your model as an HDF5 file via `model.save()` or `keras.saving.save_model(model)`. This file format is considered legacy. We recommend using instead the native Keras format, e.g. `model.save('my_model.keras')` or `keras.saving.save_model(model, 'my_model.keras')`. \n"
     ]
    },
    {
     "name": "stdout",
     "output_type": "stream",
     "text": [
      "\u001b[1m200/200\u001b[0m \u001b[32m━━━━━━━━━━━━━━━━━━━━\u001b[0m\u001b[37m\u001b[0m \u001b[1m1s\u001b[0m 5ms/step - loss: 0.1072 - mae: 0.1159 - mse: 0.0351 - val_loss: 0.1002 - val_mae: 0.0984 - val_mse: 0.0296 - learning_rate: 5.0000e-04\n",
      "Epoch 16/500\n",
      "\u001b[1m194/200\u001b[0m \u001b[32m━━━━━━━━━━━━━━━━━━━\u001b[0m\u001b[37m━\u001b[0m \u001b[1m0s\u001b[0m 5ms/step - loss: 0.1052 - mae: 0.1152 - mse: 0.0351"
     ]
    },
    {
     "name": "stderr",
     "output_type": "stream",
     "text": [
      "WARNING:absl:You are saving your model as an HDF5 file via `model.save()` or `keras.saving.save_model(model)`. This file format is considered legacy. We recommend using instead the native Keras format, e.g. `model.save('my_model.keras')` or `keras.saving.save_model(model, 'my_model.keras')`. \n"
     ]
    },
    {
     "name": "stdout",
     "output_type": "stream",
     "text": [
      "\u001b[1m200/200\u001b[0m \u001b[32m━━━━━━━━━━━━━━━━━━━━\u001b[0m\u001b[37m\u001b[0m \u001b[1m1s\u001b[0m 5ms/step - loss: 0.1052 - mae: 0.1153 - mse: 0.0351 - val_loss: 0.0980 - val_mae: 0.0973 - val_mse: 0.0293 - learning_rate: 5.0000e-04\n",
      "Epoch 17/500\n",
      "\u001b[1m199/200\u001b[0m \u001b[32m━━━━━━━━━━━━━━━━━━━\u001b[0m\u001b[37m━\u001b[0m \u001b[1m0s\u001b[0m 5ms/step - loss: 0.1029 - mae: 0.1147 - mse: 0.0347"
     ]
    },
    {
     "name": "stderr",
     "output_type": "stream",
     "text": [
      "WARNING:absl:You are saving your model as an HDF5 file via `model.save()` or `keras.saving.save_model(model)`. This file format is considered legacy. We recommend using instead the native Keras format, e.g. `model.save('my_model.keras')` or `keras.saving.save_model(model, 'my_model.keras')`. \n"
     ]
    },
    {
     "name": "stdout",
     "output_type": "stream",
     "text": [
      "\u001b[1m200/200\u001b[0m \u001b[32m━━━━━━━━━━━━━━━━━━━━\u001b[0m\u001b[37m\u001b[0m \u001b[1m1s\u001b[0m 6ms/step - loss: 0.1029 - mae: 0.1147 - mse: 0.0347 - val_loss: 0.0949 - val_mae: 0.0940 - val_mse: 0.0281 - learning_rate: 5.0000e-04\n",
      "Epoch 18/500\n",
      "\u001b[1m194/200\u001b[0m \u001b[32m━━━━━━━━━━━━━━━━━━━\u001b[0m\u001b[37m━\u001b[0m \u001b[1m0s\u001b[0m 5ms/step - loss: 0.1007 - mae: 0.1130 - mse: 0.0343"
     ]
    },
    {
     "name": "stderr",
     "output_type": "stream",
     "text": [
      "WARNING:absl:You are saving your model as an HDF5 file via `model.save()` or `keras.saving.save_model(model)`. This file format is considered legacy. We recommend using instead the native Keras format, e.g. `model.save('my_model.keras')` or `keras.saving.save_model(model, 'my_model.keras')`. \n"
     ]
    },
    {
     "name": "stdout",
     "output_type": "stream",
     "text": [
      "\u001b[1m200/200\u001b[0m \u001b[32m━━━━━━━━━━━━━━━━━━━━\u001b[0m\u001b[37m\u001b[0m \u001b[1m1s\u001b[0m 5ms/step - loss: 0.1007 - mae: 0.1131 - mse: 0.0343 - val_loss: 0.0939 - val_mae: 0.0961 - val_mse: 0.0288 - learning_rate: 5.0000e-04\n",
      "Epoch 19/500\n",
      "\u001b[1m195/200\u001b[0m \u001b[32m━━━━━━━━━━━━━━━━━━━\u001b[0m\u001b[37m━\u001b[0m \u001b[1m0s\u001b[0m 5ms/step - loss: 0.0987 - mae: 0.1122 - mse: 0.0340"
     ]
    },
    {
     "name": "stderr",
     "output_type": "stream",
     "text": [
      "WARNING:absl:You are saving your model as an HDF5 file via `model.save()` or `keras.saving.save_model(model)`. This file format is considered legacy. We recommend using instead the native Keras format, e.g. `model.save('my_model.keras')` or `keras.saving.save_model(model, 'my_model.keras')`. \n"
     ]
    },
    {
     "name": "stdout",
     "output_type": "stream",
     "text": [
      "\u001b[1m200/200\u001b[0m \u001b[32m━━━━━━━━━━━━━━━━━━━━\u001b[0m\u001b[37m\u001b[0m \u001b[1m1s\u001b[0m 5ms/step - loss: 0.0986 - mae: 0.1122 - mse: 0.0340 - val_loss: 0.0919 - val_mae: 0.0950 - val_mse: 0.0285 - learning_rate: 5.0000e-04\n",
      "Epoch 20/500\n",
      "\u001b[1m191/200\u001b[0m \u001b[32m━━━━━━━━━━━━━━━━━━━\u001b[0m\u001b[37m━\u001b[0m \u001b[1m0s\u001b[0m 5ms/step - loss: 0.0968 - mae: 0.1120 - mse: 0.0338"
     ]
    },
    {
     "name": "stderr",
     "output_type": "stream",
     "text": [
      "WARNING:absl:You are saving your model as an HDF5 file via `model.save()` or `keras.saving.save_model(model)`. This file format is considered legacy. We recommend using instead the native Keras format, e.g. `model.save('my_model.keras')` or `keras.saving.save_model(model, 'my_model.keras')`. \n"
     ]
    },
    {
     "name": "stdout",
     "output_type": "stream",
     "text": [
      "\u001b[1m200/200\u001b[0m \u001b[32m━━━━━━━━━━━━━━━━━━━━\u001b[0m\u001b[37m\u001b[0m \u001b[1m1s\u001b[0m 5ms/step - loss: 0.0968 - mae: 0.1121 - mse: 0.0338 - val_loss: 0.0902 - val_mae: 0.0956 - val_mse: 0.0285 - learning_rate: 5.0000e-04\n",
      "Epoch 21/500\n",
      "\u001b[1m195/200\u001b[0m \u001b[32m━━━━━━━━━━━━━━━━━━━\u001b[0m\u001b[37m━\u001b[0m \u001b[1m0s\u001b[0m 5ms/step - loss: 0.0940 - mae: 0.1104 - mse: 0.0327"
     ]
    },
    {
     "name": "stderr",
     "output_type": "stream",
     "text": [
      "WARNING:absl:You are saving your model as an HDF5 file via `model.save()` or `keras.saving.save_model(model)`. This file format is considered legacy. We recommend using instead the native Keras format, e.g. `model.save('my_model.keras')` or `keras.saving.save_model(model, 'my_model.keras')`. \n"
     ]
    },
    {
     "name": "stdout",
     "output_type": "stream",
     "text": [
      "\u001b[1m200/200\u001b[0m \u001b[32m━━━━━━━━━━━━━━━━━━━━\u001b[0m\u001b[37m\u001b[0m \u001b[1m1s\u001b[0m 6ms/step - loss: 0.0940 - mae: 0.1104 - mse: 0.0327 - val_loss: 0.0877 - val_mae: 0.0946 - val_mse: 0.0275 - learning_rate: 5.0000e-04\n",
      "Epoch 22/500\n",
      "\u001b[1m197/200\u001b[0m \u001b[32m━━━━━━━━━━━━━━━━━━━\u001b[0m\u001b[37m━\u001b[0m \u001b[1m0s\u001b[0m 5ms/step - loss: 0.0926 - mae: 0.1095 - mse: 0.0329"
     ]
    },
    {
     "name": "stderr",
     "output_type": "stream",
     "text": [
      "WARNING:absl:You are saving your model as an HDF5 file via `model.save()` or `keras.saving.save_model(model)`. This file format is considered legacy. We recommend using instead the native Keras format, e.g. `model.save('my_model.keras')` or `keras.saving.save_model(model, 'my_model.keras')`. \n"
     ]
    },
    {
     "name": "stdout",
     "output_type": "stream",
     "text": [
      "\u001b[1m200/200\u001b[0m \u001b[32m━━━━━━━━━━━━━━━━━━━━\u001b[0m\u001b[37m\u001b[0m \u001b[1m1s\u001b[0m 6ms/step - loss: 0.0926 - mae: 0.1095 - mse: 0.0329 - val_loss: 0.0866 - val_mae: 0.0944 - val_mse: 0.0280 - learning_rate: 5.0000e-04\n",
      "Epoch 23/500\n",
      "\u001b[1m197/200\u001b[0m \u001b[32m━━━━━━━━━━━━━━━━━━━\u001b[0m\u001b[37m━\u001b[0m \u001b[1m0s\u001b[0m 5ms/step - loss: 0.0908 - mae: 0.1091 - mse: 0.0325"
     ]
    },
    {
     "name": "stderr",
     "output_type": "stream",
     "text": [
      "WARNING:absl:You are saving your model as an HDF5 file via `model.save()` or `keras.saving.save_model(model)`. This file format is considered legacy. We recommend using instead the native Keras format, e.g. `model.save('my_model.keras')` or `keras.saving.save_model(model, 'my_model.keras')`. \n"
     ]
    },
    {
     "name": "stdout",
     "output_type": "stream",
     "text": [
      "\u001b[1m200/200\u001b[0m \u001b[32m━━━━━━━━━━━━━━━━━━━━\u001b[0m\u001b[37m\u001b[0m \u001b[1m1s\u001b[0m 5ms/step - loss: 0.0908 - mae: 0.1092 - mse: 0.0325 - val_loss: 0.0849 - val_mae: 0.0947 - val_mse: 0.0277 - learning_rate: 5.0000e-04\n",
      "Epoch 24/500\n",
      "\u001b[1m199/200\u001b[0m \u001b[32m━━━━━━━━━━━━━━━━━━━\u001b[0m\u001b[37m━\u001b[0m \u001b[1m0s\u001b[0m 5ms/step - loss: 0.0884 - mae: 0.1079 - mse: 0.0317"
     ]
    },
    {
     "name": "stderr",
     "output_type": "stream",
     "text": [
      "WARNING:absl:You are saving your model as an HDF5 file via `model.save()` or `keras.saving.save_model(model)`. This file format is considered legacy. We recommend using instead the native Keras format, e.g. `model.save('my_model.keras')` or `keras.saving.save_model(model, 'my_model.keras')`. \n"
     ]
    },
    {
     "name": "stdout",
     "output_type": "stream",
     "text": [
      "\u001b[1m200/200\u001b[0m \u001b[32m━━━━━━━━━━━━━━━━━━━━\u001b[0m\u001b[37m\u001b[0m \u001b[1m1s\u001b[0m 5ms/step - loss: 0.0884 - mae: 0.1079 - mse: 0.0317 - val_loss: 0.0826 - val_mae: 0.0930 - val_mse: 0.0269 - learning_rate: 5.0000e-04\n",
      "Epoch 25/500\n",
      "\u001b[1m200/200\u001b[0m \u001b[32m━━━━━━━━━━━━━━━━━━━━\u001b[0m\u001b[37m\u001b[0m \u001b[1m0s\u001b[0m 5ms/step - loss: 0.0872 - mae: 0.1077 - mse: 0.0318"
     ]
    },
    {
     "name": "stderr",
     "output_type": "stream",
     "text": [
      "WARNING:absl:You are saving your model as an HDF5 file via `model.save()` or `keras.saving.save_model(model)`. This file format is considered legacy. We recommend using instead the native Keras format, e.g. `model.save('my_model.keras')` or `keras.saving.save_model(model, 'my_model.keras')`. \n"
     ]
    },
    {
     "name": "stdout",
     "output_type": "stream",
     "text": [
      "\u001b[1m200/200\u001b[0m \u001b[32m━━━━━━━━━━━━━━━━━━━━\u001b[0m\u001b[37m\u001b[0m \u001b[1m1s\u001b[0m 6ms/step - loss: 0.0872 - mae: 0.1077 - mse: 0.0318 - val_loss: 0.0814 - val_mae: 0.0933 - val_mse: 0.0271 - learning_rate: 5.0000e-04\n",
      "Epoch 26/500\n",
      "\u001b[1m191/200\u001b[0m \u001b[32m━━━━━━━━━━━━━━━━━━━\u001b[0m\u001b[37m━\u001b[0m \u001b[1m0s\u001b[0m 5ms/step - loss: 0.0855 - mae: 0.1067 - mse: 0.0315"
     ]
    },
    {
     "name": "stderr",
     "output_type": "stream",
     "text": [
      "WARNING:absl:You are saving your model as an HDF5 file via `model.save()` or `keras.saving.save_model(model)`. This file format is considered legacy. We recommend using instead the native Keras format, e.g. `model.save('my_model.keras')` or `keras.saving.save_model(model, 'my_model.keras')`. \n"
     ]
    },
    {
     "name": "stdout",
     "output_type": "stream",
     "text": [
      "\u001b[1m200/200\u001b[0m \u001b[32m━━━━━━━━━━━━━━━━━━━━\u001b[0m\u001b[37m\u001b[0m \u001b[1m1s\u001b[0m 5ms/step - loss: 0.0855 - mae: 0.1067 - mse: 0.0315 - val_loss: 0.0798 - val_mae: 0.0922 - val_mse: 0.0268 - learning_rate: 5.0000e-04\n",
      "Epoch 27/500\n",
      "\u001b[1m192/200\u001b[0m \u001b[32m━━━━━━━━━━━━━━━━━━━\u001b[0m\u001b[37m━\u001b[0m \u001b[1m0s\u001b[0m 5ms/step - loss: 0.0836 - mae: 0.1058 - mse: 0.0309"
     ]
    },
    {
     "name": "stderr",
     "output_type": "stream",
     "text": [
      "WARNING:absl:You are saving your model as an HDF5 file via `model.save()` or `keras.saving.save_model(model)`. This file format is considered legacy. We recommend using instead the native Keras format, e.g. `model.save('my_model.keras')` or `keras.saving.save_model(model, 'my_model.keras')`. \n"
     ]
    },
    {
     "name": "stdout",
     "output_type": "stream",
     "text": [
      "\u001b[1m200/200\u001b[0m \u001b[32m━━━━━━━━━━━━━━━━━━━━\u001b[0m\u001b[37m\u001b[0m \u001b[1m1s\u001b[0m 5ms/step - loss: 0.0836 - mae: 0.1058 - mse: 0.0309 - val_loss: 0.0783 - val_mae: 0.0913 - val_mse: 0.0265 - learning_rate: 5.0000e-04\n",
      "Epoch 28/500\n",
      "\u001b[1m200/200\u001b[0m \u001b[32m━━━━━━━━━━━━━━━━━━━━\u001b[0m\u001b[37m\u001b[0m \u001b[1m0s\u001b[0m 5ms/step - loss: 0.0820 - mae: 0.1055 - mse: 0.0306"
     ]
    },
    {
     "name": "stderr",
     "output_type": "stream",
     "text": [
      "WARNING:absl:You are saving your model as an HDF5 file via `model.save()` or `keras.saving.save_model(model)`. This file format is considered legacy. We recommend using instead the native Keras format, e.g. `model.save('my_model.keras')` or `keras.saving.save_model(model, 'my_model.keras')`. \n"
     ]
    },
    {
     "name": "stdout",
     "output_type": "stream",
     "text": [
      "\u001b[1m200/200\u001b[0m \u001b[32m━━━━━━━━━━━━━━━━━━━━\u001b[0m\u001b[37m\u001b[0m \u001b[1m1s\u001b[0m 5ms/step - loss: 0.0820 - mae: 0.1055 - mse: 0.0306 - val_loss: 0.0771 - val_mae: 0.0913 - val_mse: 0.0266 - learning_rate: 5.0000e-04\n",
      "Epoch 29/500\n",
      "\u001b[1m198/200\u001b[0m \u001b[32m━━━━━━━━━━━━━━━━━━━\u001b[0m\u001b[37m━\u001b[0m \u001b[1m0s\u001b[0m 5ms/step - loss: 0.0809 - mae: 0.1055 - mse: 0.0307"
     ]
    },
    {
     "name": "stderr",
     "output_type": "stream",
     "text": [
      "WARNING:absl:You are saving your model as an HDF5 file via `model.save()` or `keras.saving.save_model(model)`. This file format is considered legacy. We recommend using instead the native Keras format, e.g. `model.save('my_model.keras')` or `keras.saving.save_model(model, 'my_model.keras')`. \n"
     ]
    },
    {
     "name": "stdout",
     "output_type": "stream",
     "text": [
      "\u001b[1m200/200\u001b[0m \u001b[32m━━━━━━━━━━━━━━━━━━━━\u001b[0m\u001b[37m\u001b[0m \u001b[1m1s\u001b[0m 5ms/step - loss: 0.0809 - mae: 0.1055 - mse: 0.0307 - val_loss: 0.0756 - val_mae: 0.0915 - val_mse: 0.0263 - learning_rate: 5.0000e-04\n",
      "Epoch 30/500\n",
      "\u001b[1m199/200\u001b[0m \u001b[32m━━━━━━━━━━━━━━━━━━━\u001b[0m\u001b[37m━\u001b[0m \u001b[1m0s\u001b[0m 5ms/step - loss: 0.0797 - mae: 0.1057 - mse: 0.0307"
     ]
    },
    {
     "name": "stderr",
     "output_type": "stream",
     "text": [
      "WARNING:absl:You are saving your model as an HDF5 file via `model.save()` or `keras.saving.save_model(model)`. This file format is considered legacy. We recommend using instead the native Keras format, e.g. `model.save('my_model.keras')` or `keras.saving.save_model(model, 'my_model.keras')`. \n"
     ]
    },
    {
     "name": "stdout",
     "output_type": "stream",
     "text": [
      "\u001b[1m200/200\u001b[0m \u001b[32m━━━━━━━━━━━━━━━━━━━━\u001b[0m\u001b[37m\u001b[0m \u001b[1m1s\u001b[0m 6ms/step - loss: 0.0797 - mae: 0.1057 - mse: 0.0307 - val_loss: 0.0743 - val_mae: 0.0909 - val_mse: 0.0262 - learning_rate: 5.0000e-04\n",
      "Epoch 31/500\n",
      "\u001b[1m193/200\u001b[0m \u001b[32m━━━━━━━━━━━━━━━━━━━\u001b[0m\u001b[37m━\u001b[0m \u001b[1m0s\u001b[0m 5ms/step - loss: 0.0783 - mae: 0.1052 - mse: 0.0304"
     ]
    },
    {
     "name": "stderr",
     "output_type": "stream",
     "text": [
      "WARNING:absl:You are saving your model as an HDF5 file via `model.save()` or `keras.saving.save_model(model)`. This file format is considered legacy. We recommend using instead the native Keras format, e.g. `model.save('my_model.keras')` or `keras.saving.save_model(model, 'my_model.keras')`. \n"
     ]
    },
    {
     "name": "stdout",
     "output_type": "stream",
     "text": [
      "\u001b[1m200/200\u001b[0m \u001b[32m━━━━━━━━━━━━━━━━━━━━\u001b[0m\u001b[37m\u001b[0m \u001b[1m1s\u001b[0m 5ms/step - loss: 0.0783 - mae: 0.1052 - mse: 0.0304 - val_loss: 0.0732 - val_mae: 0.0913 - val_mse: 0.0261 - learning_rate: 5.0000e-04\n",
      "Epoch 32/500\n",
      "\u001b[1m197/200\u001b[0m \u001b[32m━━━━━━━━━━━━━━━━━━━\u001b[0m\u001b[37m━\u001b[0m \u001b[1m0s\u001b[0m 5ms/step - loss: 0.0769 - mae: 0.1044 - mse: 0.0301"
     ]
    },
    {
     "name": "stderr",
     "output_type": "stream",
     "text": [
      "WARNING:absl:You are saving your model as an HDF5 file via `model.save()` or `keras.saving.save_model(model)`. This file format is considered legacy. We recommend using instead the native Keras format, e.g. `model.save('my_model.keras')` or `keras.saving.save_model(model, 'my_model.keras')`. \n"
     ]
    },
    {
     "name": "stdout",
     "output_type": "stream",
     "text": [
      "\u001b[1m200/200\u001b[0m \u001b[32m━━━━━━━━━━━━━━━━━━━━\u001b[0m\u001b[37m\u001b[0m \u001b[1m1s\u001b[0m 5ms/step - loss: 0.0769 - mae: 0.1044 - mse: 0.0301 - val_loss: 0.0714 - val_mae: 0.0889 - val_mse: 0.0254 - learning_rate: 5.0000e-04\n",
      "Epoch 33/500\n",
      "\u001b[1m197/200\u001b[0m \u001b[32m━━━━━━━━━━━━━━━━━━━\u001b[0m\u001b[37m━\u001b[0m \u001b[1m0s\u001b[0m 5ms/step - loss: 0.0752 - mae: 0.1030 - mse: 0.0294"
     ]
    },
    {
     "name": "stderr",
     "output_type": "stream",
     "text": [
      "WARNING:absl:You are saving your model as an HDF5 file via `model.save()` or `keras.saving.save_model(model)`. This file format is considered legacy. We recommend using instead the native Keras format, e.g. `model.save('my_model.keras')` or `keras.saving.save_model(model, 'my_model.keras')`. \n"
     ]
    },
    {
     "name": "stdout",
     "output_type": "stream",
     "text": [
      "\u001b[1m200/200\u001b[0m \u001b[32m━━━━━━━━━━━━━━━━━━━━\u001b[0m\u001b[37m\u001b[0m \u001b[1m1s\u001b[0m 5ms/step - loss: 0.0752 - mae: 0.1030 - mse: 0.0294 - val_loss: 0.0703 - val_mae: 0.0884 - val_mse: 0.0253 - learning_rate: 5.0000e-04\n",
      "Epoch 34/500\n",
      "\u001b[1m196/200\u001b[0m \u001b[32m━━━━━━━━━━━━━━━━━━━\u001b[0m\u001b[37m━\u001b[0m \u001b[1m0s\u001b[0m 5ms/step - loss: 0.0736 - mae: 0.1021 - mse: 0.0289"
     ]
    },
    {
     "name": "stderr",
     "output_type": "stream",
     "text": [
      "WARNING:absl:You are saving your model as an HDF5 file via `model.save()` or `keras.saving.save_model(model)`. This file format is considered legacy. We recommend using instead the native Keras format, e.g. `model.save('my_model.keras')` or `keras.saving.save_model(model, 'my_model.keras')`. \n"
     ]
    },
    {
     "name": "stdout",
     "output_type": "stream",
     "text": [
      "\u001b[1m200/200\u001b[0m \u001b[32m━━━━━━━━━━━━━━━━━━━━\u001b[0m\u001b[37m\u001b[0m \u001b[1m1s\u001b[0m 6ms/step - loss: 0.0736 - mae: 0.1021 - mse: 0.0289 - val_loss: 0.0689 - val_mae: 0.0878 - val_mse: 0.0249 - learning_rate: 5.0000e-04\n",
      "Epoch 35/500\n",
      "\u001b[1m192/200\u001b[0m \u001b[32m━━━━━━━━━━━━━━━━━━━\u001b[0m\u001b[37m━\u001b[0m \u001b[1m0s\u001b[0m 5ms/step - loss: 0.0728 - mae: 0.1022 - mse: 0.0291"
     ]
    },
    {
     "name": "stderr",
     "output_type": "stream",
     "text": [
      "WARNING:absl:You are saving your model as an HDF5 file via `model.save()` or `keras.saving.save_model(model)`. This file format is considered legacy. We recommend using instead the native Keras format, e.g. `model.save('my_model.keras')` or `keras.saving.save_model(model, 'my_model.keras')`. \n"
     ]
    },
    {
     "name": "stdout",
     "output_type": "stream",
     "text": [
      "\u001b[1m200/200\u001b[0m \u001b[32m━━━━━━━━━━━━━━━━━━━━\u001b[0m\u001b[37m\u001b[0m \u001b[1m1s\u001b[0m 5ms/step - loss: 0.0728 - mae: 0.1023 - mse: 0.0291 - val_loss: 0.0682 - val_mae: 0.0885 - val_mse: 0.0252 - learning_rate: 5.0000e-04\n",
      "Epoch 36/500\n",
      "\u001b[1m191/200\u001b[0m \u001b[32m━━━━━━━━━━━━━━━━━━━\u001b[0m\u001b[37m━\u001b[0m \u001b[1m0s\u001b[0m 5ms/step - loss: 0.0719 - mae: 0.1018 - mse: 0.0291"
     ]
    },
    {
     "name": "stderr",
     "output_type": "stream",
     "text": [
      "WARNING:absl:You are saving your model as an HDF5 file via `model.save()` or `keras.saving.save_model(model)`. This file format is considered legacy. We recommend using instead the native Keras format, e.g. `model.save('my_model.keras')` or `keras.saving.save_model(model, 'my_model.keras')`. \n"
     ]
    },
    {
     "name": "stdout",
     "output_type": "stream",
     "text": [
      "\u001b[1m200/200\u001b[0m \u001b[32m━━━━━━━━━━━━━━━━━━━━\u001b[0m\u001b[37m\u001b[0m \u001b[1m1s\u001b[0m 5ms/step - loss: 0.0718 - mae: 0.1019 - mse: 0.0291 - val_loss: 0.0665 - val_mae: 0.0863 - val_mse: 0.0244 - learning_rate: 5.0000e-04\n",
      "Epoch 37/500\n",
      "\u001b[1m194/200\u001b[0m \u001b[32m━━━━━━━━━━━━━━━━━━━\u001b[0m\u001b[37m━\u001b[0m \u001b[1m0s\u001b[0m 5ms/step - loss: 0.0705 - mae: 0.1009 - mse: 0.0287"
     ]
    },
    {
     "name": "stderr",
     "output_type": "stream",
     "text": [
      "WARNING:absl:You are saving your model as an HDF5 file via `model.save()` or `keras.saving.save_model(model)`. This file format is considered legacy. We recommend using instead the native Keras format, e.g. `model.save('my_model.keras')` or `keras.saving.save_model(model, 'my_model.keras')`. \n"
     ]
    },
    {
     "name": "stdout",
     "output_type": "stream",
     "text": [
      "\u001b[1m200/200\u001b[0m \u001b[32m━━━━━━━━━━━━━━━━━━━━\u001b[0m\u001b[37m\u001b[0m \u001b[1m1s\u001b[0m 5ms/step - loss: 0.0705 - mae: 0.1010 - mse: 0.0287 - val_loss: 0.0663 - val_mae: 0.0913 - val_mse: 0.0252 - learning_rate: 5.0000e-04\n",
      "Epoch 38/500\n",
      "\u001b[1m196/200\u001b[0m \u001b[32m━━━━━━━━━━━━━━━━━━━\u001b[0m\u001b[37m━\u001b[0m \u001b[1m0s\u001b[0m 5ms/step - loss: 0.0694 - mae: 0.1010 - mse: 0.0285"
     ]
    },
    {
     "name": "stderr",
     "output_type": "stream",
     "text": [
      "WARNING:absl:You are saving your model as an HDF5 file via `model.save()` or `keras.saving.save_model(model)`. This file format is considered legacy. We recommend using instead the native Keras format, e.g. `model.save('my_model.keras')` or `keras.saving.save_model(model, 'my_model.keras')`. \n"
     ]
    },
    {
     "name": "stdout",
     "output_type": "stream",
     "text": [
      "\u001b[1m200/200\u001b[0m \u001b[32m━━━━━━━━━━━━━━━━━━━━\u001b[0m\u001b[37m\u001b[0m \u001b[1m1s\u001b[0m 5ms/step - loss: 0.0694 - mae: 0.1011 - mse: 0.0285 - val_loss: 0.0649 - val_mae: 0.0881 - val_mse: 0.0246 - learning_rate: 5.0000e-04\n",
      "Epoch 39/500\n",
      "\u001b[1m198/200\u001b[0m \u001b[32m━━━━━━━━━━━━━━━━━━━\u001b[0m\u001b[37m━\u001b[0m \u001b[1m0s\u001b[0m 5ms/step - loss: 0.0682 - mae: 0.1008 - mse: 0.0281"
     ]
    },
    {
     "name": "stderr",
     "output_type": "stream",
     "text": [
      "WARNING:absl:You are saving your model as an HDF5 file via `model.save()` or `keras.saving.save_model(model)`. This file format is considered legacy. We recommend using instead the native Keras format, e.g. `model.save('my_model.keras')` or `keras.saving.save_model(model, 'my_model.keras')`. \n"
     ]
    },
    {
     "name": "stdout",
     "output_type": "stream",
     "text": [
      "\u001b[1m200/200\u001b[0m \u001b[32m━━━━━━━━━━━━━━━━━━━━\u001b[0m\u001b[37m\u001b[0m \u001b[1m1s\u001b[0m 6ms/step - loss: 0.0682 - mae: 0.1008 - mse: 0.0281 - val_loss: 0.0638 - val_mae: 0.0874 - val_mse: 0.0244 - learning_rate: 5.0000e-04\n",
      "Epoch 40/500\n",
      "\u001b[1m193/200\u001b[0m \u001b[32m━━━━━━━━━━━━━━━━━━━\u001b[0m\u001b[37m━\u001b[0m \u001b[1m0s\u001b[0m 5ms/step - loss: 0.0672 - mae: 0.1003 - mse: 0.0280"
     ]
    },
    {
     "name": "stderr",
     "output_type": "stream",
     "text": [
      "WARNING:absl:You are saving your model as an HDF5 file via `model.save()` or `keras.saving.save_model(model)`. This file format is considered legacy. We recommend using instead the native Keras format, e.g. `model.save('my_model.keras')` or `keras.saving.save_model(model, 'my_model.keras')`. \n"
     ]
    },
    {
     "name": "stdout",
     "output_type": "stream",
     "text": [
      "\u001b[1m200/200\u001b[0m \u001b[32m━━━━━━━━━━━━━━━━━━━━\u001b[0m\u001b[37m\u001b[0m \u001b[1m1s\u001b[0m 5ms/step - loss: 0.0672 - mae: 0.1003 - mse: 0.0280 - val_loss: 0.0630 - val_mae: 0.0885 - val_mse: 0.0245 - learning_rate: 5.0000e-04\n",
      "Epoch 41/500\n",
      "\u001b[1m198/200\u001b[0m \u001b[32m━━━━━━━━━━━━━━━━━━━\u001b[0m\u001b[37m━\u001b[0m \u001b[1m0s\u001b[0m 5ms/step - loss: 0.0662 - mae: 0.0999 - mse: 0.0278"
     ]
    },
    {
     "name": "stderr",
     "output_type": "stream",
     "text": [
      "WARNING:absl:You are saving your model as an HDF5 file via `model.save()` or `keras.saving.save_model(model)`. This file format is considered legacy. We recommend using instead the native Keras format, e.g. `model.save('my_model.keras')` or `keras.saving.save_model(model, 'my_model.keras')`. \n"
     ]
    },
    {
     "name": "stdout",
     "output_type": "stream",
     "text": [
      "\u001b[1m200/200\u001b[0m \u001b[32m━━━━━━━━━━━━━━━━━━━━\u001b[0m\u001b[37m\u001b[0m \u001b[1m1s\u001b[0m 5ms/step - loss: 0.0662 - mae: 0.0999 - mse: 0.0278 - val_loss: 0.0618 - val_mae: 0.0871 - val_mse: 0.0241 - learning_rate: 5.0000e-04\n",
      "Epoch 42/500\n",
      "\u001b[1m200/200\u001b[0m \u001b[32m━━━━━━━━━━━━━━━━━━━━\u001b[0m\u001b[37m\u001b[0m \u001b[1m0s\u001b[0m 5ms/step - loss: 0.0654 - mae: 0.0995 - mse: 0.0279"
     ]
    },
    {
     "name": "stderr",
     "output_type": "stream",
     "text": [
      "WARNING:absl:You are saving your model as an HDF5 file via `model.save()` or `keras.saving.save_model(model)`. This file format is considered legacy. We recommend using instead the native Keras format, e.g. `model.save('my_model.keras')` or `keras.saving.save_model(model, 'my_model.keras')`. \n"
     ]
    },
    {
     "name": "stdout",
     "output_type": "stream",
     "text": [
      "\u001b[1m200/200\u001b[0m \u001b[32m━━━━━━━━━━━━━━━━━━━━\u001b[0m\u001b[37m\u001b[0m \u001b[1m1s\u001b[0m 6ms/step - loss: 0.0654 - mae: 0.0995 - mse: 0.0279 - val_loss: 0.0609 - val_mae: 0.0878 - val_mse: 0.0240 - learning_rate: 5.0000e-04\n",
      "Epoch 43/500\n",
      "\u001b[1m197/200\u001b[0m \u001b[32m━━━━━━━━━━━━━━━━━━━\u001b[0m\u001b[37m━\u001b[0m \u001b[1m0s\u001b[0m 5ms/step - loss: 0.0647 - mae: 0.1001 - mse: 0.0279"
     ]
    },
    {
     "name": "stderr",
     "output_type": "stream",
     "text": [
      "WARNING:absl:You are saving your model as an HDF5 file via `model.save()` or `keras.saving.save_model(model)`. This file format is considered legacy. We recommend using instead the native Keras format, e.g. `model.save('my_model.keras')` or `keras.saving.save_model(model, 'my_model.keras')`. \n"
     ]
    },
    {
     "name": "stdout",
     "output_type": "stream",
     "text": [
      "\u001b[1m200/200\u001b[0m \u001b[32m━━━━━━━━━━━━━━━━━━━━\u001b[0m\u001b[37m\u001b[0m \u001b[1m1s\u001b[0m 6ms/step - loss: 0.0647 - mae: 0.1001 - mse: 0.0279 - val_loss: 0.0600 - val_mae: 0.0861 - val_mse: 0.0238 - learning_rate: 5.0000e-04\n",
      "Epoch 44/500\n",
      "\u001b[1m200/200\u001b[0m \u001b[32m━━━━━━━━━━━━━━━━━━━━\u001b[0m\u001b[37m\u001b[0m \u001b[1m1s\u001b[0m 5ms/step - loss: 0.0635 - mae: 0.0986 - mse: 0.0275 - val_loss: 0.0602 - val_mae: 0.0877 - val_mse: 0.0247 - learning_rate: 5.0000e-04\n",
      "Epoch 45/500\n",
      "\u001b[1m193/200\u001b[0m \u001b[32m━━━━━━━━━━━━━━━━━━━\u001b[0m\u001b[37m━\u001b[0m \u001b[1m0s\u001b[0m 5ms/step - loss: 0.0628 - mae: 0.0983 - mse: 0.0275"
     ]
    },
    {
     "name": "stderr",
     "output_type": "stream",
     "text": [
      "WARNING:absl:You are saving your model as an HDF5 file via `model.save()` or `keras.saving.save_model(model)`. This file format is considered legacy. We recommend using instead the native Keras format, e.g. `model.save('my_model.keras')` or `keras.saving.save_model(model, 'my_model.keras')`. \n"
     ]
    },
    {
     "name": "stdout",
     "output_type": "stream",
     "text": [
      "\u001b[1m200/200\u001b[0m \u001b[32m━━━━━━━━━━━━━━━━━━━━\u001b[0m\u001b[37m\u001b[0m \u001b[1m1s\u001b[0m 5ms/step - loss: 0.0628 - mae: 0.0984 - mse: 0.0275 - val_loss: 0.0582 - val_mae: 0.0848 - val_mse: 0.0235 - learning_rate: 5.0000e-04\n",
      "Epoch 46/500\n",
      "\u001b[1m196/200\u001b[0m \u001b[32m━━━━━━━━━━━━━━━━━━━\u001b[0m\u001b[37m━\u001b[0m \u001b[1m0s\u001b[0m 5ms/step - loss: 0.0614 - mae: 0.0977 - mse: 0.0268"
     ]
    },
    {
     "name": "stderr",
     "output_type": "stream",
     "text": [
      "WARNING:absl:You are saving your model as an HDF5 file via `model.save()` or `keras.saving.save_model(model)`. This file format is considered legacy. We recommend using instead the native Keras format, e.g. `model.save('my_model.keras')` or `keras.saving.save_model(model, 'my_model.keras')`. \n"
     ]
    },
    {
     "name": "stdout",
     "output_type": "stream",
     "text": [
      "\u001b[1m200/200\u001b[0m \u001b[32m━━━━━━━━━━━━━━━━━━━━\u001b[0m\u001b[37m\u001b[0m \u001b[1m1s\u001b[0m 6ms/step - loss: 0.0614 - mae: 0.0977 - mse: 0.0268 - val_loss: 0.0578 - val_mae: 0.0849 - val_mse: 0.0238 - learning_rate: 5.0000e-04\n",
      "Epoch 47/500\n",
      "\u001b[1m196/200\u001b[0m \u001b[32m━━━━━━━━━━━━━━━━━━━\u001b[0m\u001b[37m━\u001b[0m \u001b[1m0s\u001b[0m 5ms/step - loss: 0.0610 - mae: 0.0975 - mse: 0.0271"
     ]
    },
    {
     "name": "stderr",
     "output_type": "stream",
     "text": [
      "WARNING:absl:You are saving your model as an HDF5 file via `model.save()` or `keras.saving.save_model(model)`. This file format is considered legacy. We recommend using instead the native Keras format, e.g. `model.save('my_model.keras')` or `keras.saving.save_model(model, 'my_model.keras')`. \n"
     ]
    },
    {
     "name": "stdout",
     "output_type": "stream",
     "text": [
      "\u001b[1m200/200\u001b[0m \u001b[32m━━━━━━━━━━━━━━━━━━━━\u001b[0m\u001b[37m\u001b[0m \u001b[1m1s\u001b[0m 6ms/step - loss: 0.0610 - mae: 0.0976 - mse: 0.0271 - val_loss: 0.0574 - val_mae: 0.0876 - val_mse: 0.0240 - learning_rate: 5.0000e-04\n",
      "Epoch 48/500\n",
      "\u001b[1m194/200\u001b[0m \u001b[32m━━━━━━━━━━━━━━━━━━━\u001b[0m\u001b[37m━\u001b[0m \u001b[1m0s\u001b[0m 6ms/step - loss: 0.0602 - mae: 0.0976 - mse: 0.0270"
     ]
    },
    {
     "name": "stderr",
     "output_type": "stream",
     "text": [
      "WARNING:absl:You are saving your model as an HDF5 file via `model.save()` or `keras.saving.save_model(model)`. This file format is considered legacy. We recommend using instead the native Keras format, e.g. `model.save('my_model.keras')` or `keras.saving.save_model(model, 'my_model.keras')`. \n"
     ]
    },
    {
     "name": "stdout",
     "output_type": "stream",
     "text": [
      "\u001b[1m200/200\u001b[0m \u001b[32m━━━━━━━━━━━━━━━━━━━━\u001b[0m\u001b[37m\u001b[0m \u001b[1m1s\u001b[0m 6ms/step - loss: 0.0602 - mae: 0.0977 - mse: 0.0270 - val_loss: 0.0567 - val_mae: 0.0874 - val_mse: 0.0239 - learning_rate: 5.0000e-04\n",
      "Epoch 49/500\n",
      "\u001b[1m198/200\u001b[0m \u001b[32m━━━━━━━━━━━━━━━━━━━\u001b[0m\u001b[37m━\u001b[0m \u001b[1m0s\u001b[0m 5ms/step - loss: 0.0589 - mae: 0.0972 - mse: 0.0263"
     ]
    },
    {
     "name": "stderr",
     "output_type": "stream",
     "text": [
      "WARNING:absl:You are saving your model as an HDF5 file via `model.save()` or `keras.saving.save_model(model)`. This file format is considered legacy. We recommend using instead the native Keras format, e.g. `model.save('my_model.keras')` or `keras.saving.save_model(model, 'my_model.keras')`. \n"
     ]
    },
    {
     "name": "stdout",
     "output_type": "stream",
     "text": [
      "\u001b[1m200/200\u001b[0m \u001b[32m━━━━━━━━━━━━━━━━━━━━\u001b[0m\u001b[37m\u001b[0m \u001b[1m1s\u001b[0m 6ms/step - loss: 0.0589 - mae: 0.0973 - mse: 0.0263 - val_loss: 0.0561 - val_mae: 0.0853 - val_mse: 0.0240 - learning_rate: 5.0000e-04\n",
      "Epoch 50/500\n",
      "\u001b[1m196/200\u001b[0m \u001b[32m━━━━━━━━━━━━━━━━━━━\u001b[0m\u001b[37m━\u001b[0m \u001b[1m0s\u001b[0m 5ms/step - loss: 0.0583 - mae: 0.0969 - mse: 0.0263"
     ]
    },
    {
     "name": "stderr",
     "output_type": "stream",
     "text": [
      "WARNING:absl:You are saving your model as an HDF5 file via `model.save()` or `keras.saving.save_model(model)`. This file format is considered legacy. We recommend using instead the native Keras format, e.g. `model.save('my_model.keras')` or `keras.saving.save_model(model, 'my_model.keras')`. \n"
     ]
    },
    {
     "name": "stdout",
     "output_type": "stream",
     "text": [
      "\u001b[1m200/200\u001b[0m \u001b[32m━━━━━━━━━━━━━━━━━━━━\u001b[0m\u001b[37m\u001b[0m \u001b[1m1s\u001b[0m 6ms/step - loss: 0.0583 - mae: 0.0969 - mse: 0.0263 - val_loss: 0.0557 - val_mae: 0.0877 - val_mse: 0.0243 - learning_rate: 5.0000e-04\n",
      "Epoch 51/500\n",
      "\u001b[1m190/200\u001b[0m \u001b[32m━━━━━━━━━━━━━━━━━━━\u001b[0m\u001b[37m━\u001b[0m \u001b[1m0s\u001b[0m 5ms/step - loss: 0.0583 - mae: 0.0972 - mse: 0.0269"
     ]
    },
    {
     "name": "stderr",
     "output_type": "stream",
     "text": [
      "WARNING:absl:You are saving your model as an HDF5 file via `model.save()` or `keras.saving.save_model(model)`. This file format is considered legacy. We recommend using instead the native Keras format, e.g. `model.save('my_model.keras')` or `keras.saving.save_model(model, 'my_model.keras')`. \n"
     ]
    },
    {
     "name": "stdout",
     "output_type": "stream",
     "text": [
      "\u001b[1m200/200\u001b[0m \u001b[32m━━━━━━━━━━━━━━━━━━━━\u001b[0m\u001b[37m\u001b[0m \u001b[1m1s\u001b[0m 6ms/step - loss: 0.0583 - mae: 0.0972 - mse: 0.0269 - val_loss: 0.0547 - val_mae: 0.0866 - val_mse: 0.0238 - learning_rate: 5.0000e-04\n",
      "Epoch 52/500\n",
      "\u001b[1m193/200\u001b[0m \u001b[32m━━━━━━━━━━━━━━━━━━━\u001b[0m\u001b[37m━\u001b[0m \u001b[1m0s\u001b[0m 5ms/step - loss: 0.0576 - mae: 0.0973 - mse: 0.0269"
     ]
    },
    {
     "name": "stderr",
     "output_type": "stream",
     "text": [
      "WARNING:absl:You are saving your model as an HDF5 file via `model.save()` or `keras.saving.save_model(model)`. This file format is considered legacy. We recommend using instead the native Keras format, e.g. `model.save('my_model.keras')` or `keras.saving.save_model(model, 'my_model.keras')`. \n"
     ]
    },
    {
     "name": "stdout",
     "output_type": "stream",
     "text": [
      "\u001b[1m200/200\u001b[0m \u001b[32m━━━━━━━━━━━━━━━━━━━━\u001b[0m\u001b[37m\u001b[0m \u001b[1m1s\u001b[0m 5ms/step - loss: 0.0576 - mae: 0.0973 - mse: 0.0269 - val_loss: 0.0542 - val_mae: 0.0862 - val_mse: 0.0239 - learning_rate: 5.0000e-04\n",
      "Epoch 53/500\n",
      "\u001b[1m195/200\u001b[0m \u001b[32m━━━━━━━━━━━━━━━━━━━\u001b[0m\u001b[37m━\u001b[0m \u001b[1m0s\u001b[0m 5ms/step - loss: 0.0564 - mae: 0.0966 - mse: 0.0262"
     ]
    },
    {
     "name": "stderr",
     "output_type": "stream",
     "text": [
      "WARNING:absl:You are saving your model as an HDF5 file via `model.save()` or `keras.saving.save_model(model)`. This file format is considered legacy. We recommend using instead the native Keras format, e.g. `model.save('my_model.keras')` or `keras.saving.save_model(model, 'my_model.keras')`. \n"
     ]
    },
    {
     "name": "stdout",
     "output_type": "stream",
     "text": [
      "\u001b[1m200/200\u001b[0m \u001b[32m━━━━━━━━━━━━━━━━━━━━\u001b[0m\u001b[37m\u001b[0m \u001b[1m1s\u001b[0m 5ms/step - loss: 0.0564 - mae: 0.0967 - mse: 0.0262 - val_loss: 0.0538 - val_mae: 0.0860 - val_mse: 0.0240 - learning_rate: 5.0000e-04\n",
      "Epoch 54/500\n",
      "\u001b[1m192/200\u001b[0m \u001b[32m━━━━━━━━━━━━━━━━━━━\u001b[0m\u001b[37m━\u001b[0m \u001b[1m0s\u001b[0m 5ms/step - loss: 0.0557 - mae: 0.0962 - mse: 0.0261"
     ]
    },
    {
     "name": "stderr",
     "output_type": "stream",
     "text": [
      "WARNING:absl:You are saving your model as an HDF5 file via `model.save()` or `keras.saving.save_model(model)`. This file format is considered legacy. We recommend using instead the native Keras format, e.g. `model.save('my_model.keras')` or `keras.saving.save_model(model, 'my_model.keras')`. \n"
     ]
    },
    {
     "name": "stdout",
     "output_type": "stream",
     "text": [
      "\u001b[1m200/200\u001b[0m \u001b[32m━━━━━━━━━━━━━━━━━━━━\u001b[0m\u001b[37m\u001b[0m \u001b[1m1s\u001b[0m 5ms/step - loss: 0.0558 - mae: 0.0962 - mse: 0.0262 - val_loss: 0.0531 - val_mae: 0.0880 - val_mse: 0.0239 - learning_rate: 5.0000e-04\n",
      "Epoch 55/500\n",
      "\u001b[1m200/200\u001b[0m \u001b[32m━━━━━━━━━━━━━━━━━━━━\u001b[0m\u001b[37m\u001b[0m \u001b[1m0s\u001b[0m 5ms/step - loss: 0.0557 - mae: 0.0966 - mse: 0.0266"
     ]
    },
    {
     "name": "stderr",
     "output_type": "stream",
     "text": [
      "WARNING:absl:You are saving your model as an HDF5 file via `model.save()` or `keras.saving.save_model(model)`. This file format is considered legacy. We recommend using instead the native Keras format, e.g. `model.save('my_model.keras')` or `keras.saving.save_model(model, 'my_model.keras')`. \n"
     ]
    },
    {
     "name": "stdout",
     "output_type": "stream",
     "text": [
      "\u001b[1m200/200\u001b[0m \u001b[32m━━━━━━━━━━━━━━━━━━━━\u001b[0m\u001b[37m\u001b[0m \u001b[1m1s\u001b[0m 6ms/step - loss: 0.0557 - mae: 0.0966 - mse: 0.0266 - val_loss: 0.0519 - val_mae: 0.0856 - val_mse: 0.0233 - learning_rate: 5.0000e-04\n",
      "Epoch 56/500\n",
      "\u001b[1m198/200\u001b[0m \u001b[32m━━━━━━━━━━━━━━━━━━━\u001b[0m\u001b[37m━\u001b[0m \u001b[1m0s\u001b[0m 5ms/step - loss: 0.0550 - mae: 0.0959 - mse: 0.0264"
     ]
    },
    {
     "name": "stderr",
     "output_type": "stream",
     "text": [
      "WARNING:absl:You are saving your model as an HDF5 file via `model.save()` or `keras.saving.save_model(model)`. This file format is considered legacy. We recommend using instead the native Keras format, e.g. `model.save('my_model.keras')` or `keras.saving.save_model(model, 'my_model.keras')`. \n"
     ]
    },
    {
     "name": "stdout",
     "output_type": "stream",
     "text": [
      "\u001b[1m200/200\u001b[0m \u001b[32m━━━━━━━━━━━━━━━━━━━━\u001b[0m\u001b[37m\u001b[0m \u001b[1m1s\u001b[0m 5ms/step - loss: 0.0549 - mae: 0.0959 - mse: 0.0264 - val_loss: 0.0515 - val_mae: 0.0851 - val_mse: 0.0234 - learning_rate: 5.0000e-04\n",
      "Epoch 57/500\n",
      "\u001b[1m193/200\u001b[0m \u001b[32m━━━━━━━━━━━━━━━━━━━\u001b[0m\u001b[37m━\u001b[0m \u001b[1m0s\u001b[0m 5ms/step - loss: 0.0538 - mae: 0.0953 - mse: 0.0258"
     ]
    },
    {
     "name": "stderr",
     "output_type": "stream",
     "text": [
      "WARNING:absl:You are saving your model as an HDF5 file via `model.save()` or `keras.saving.save_model(model)`. This file format is considered legacy. We recommend using instead the native Keras format, e.g. `model.save('my_model.keras')` or `keras.saving.save_model(model, 'my_model.keras')`. \n"
     ]
    },
    {
     "name": "stdout",
     "output_type": "stream",
     "text": [
      "\u001b[1m200/200\u001b[0m \u001b[32m━━━━━━━━━━━━━━━━━━━━\u001b[0m\u001b[37m\u001b[0m \u001b[1m1s\u001b[0m 6ms/step - loss: 0.0538 - mae: 0.0954 - mse: 0.0258 - val_loss: 0.0506 - val_mae: 0.0850 - val_mse: 0.0230 - learning_rate: 5.0000e-04\n",
      "Epoch 58/500\n",
      "\u001b[1m200/200\u001b[0m \u001b[32m━━━━━━━━━━━━━━━━━━━━\u001b[0m\u001b[37m\u001b[0m \u001b[1m1s\u001b[0m 6ms/step - loss: 0.0534 - mae: 0.0949 - mse: 0.0259 - val_loss: 0.0510 - val_mae: 0.0853 - val_mse: 0.0239 - learning_rate: 5.0000e-04\n",
      "Epoch 59/500\n",
      "\u001b[1m193/200\u001b[0m \u001b[32m━━━━━━━━━━━━━━━━━━━\u001b[0m\u001b[37m━\u001b[0m \u001b[1m0s\u001b[0m 5ms/step - loss: 0.0531 - mae: 0.0954 - mse: 0.0261"
     ]
    },
    {
     "name": "stderr",
     "output_type": "stream",
     "text": [
      "WARNING:absl:You are saving your model as an HDF5 file via `model.save()` or `keras.saving.save_model(model)`. This file format is considered legacy. We recommend using instead the native Keras format, e.g. `model.save('my_model.keras')` or `keras.saving.save_model(model, 'my_model.keras')`. \n"
     ]
    },
    {
     "name": "stdout",
     "output_type": "stream",
     "text": [
      "\u001b[1m200/200\u001b[0m \u001b[32m━━━━━━━━━━━━━━━━━━━━\u001b[0m\u001b[37m\u001b[0m \u001b[1m1s\u001b[0m 6ms/step - loss: 0.0531 - mae: 0.0954 - mse: 0.0261 - val_loss: 0.0500 - val_mae: 0.0855 - val_mse: 0.0234 - learning_rate: 5.0000e-04\n",
      "Epoch 60/500\n",
      "\u001b[1m194/200\u001b[0m \u001b[32m━━━━━━━━━━━━━━━━━━━\u001b[0m\u001b[37m━\u001b[0m \u001b[1m0s\u001b[0m 5ms/step - loss: 0.0523 - mae: 0.0955 - mse: 0.0258"
     ]
    },
    {
     "name": "stderr",
     "output_type": "stream",
     "text": [
      "WARNING:absl:You are saving your model as an HDF5 file via `model.save()` or `keras.saving.save_model(model)`. This file format is considered legacy. We recommend using instead the native Keras format, e.g. `model.save('my_model.keras')` or `keras.saving.save_model(model, 'my_model.keras')`. \n"
     ]
    },
    {
     "name": "stdout",
     "output_type": "stream",
     "text": [
      "\u001b[1m200/200\u001b[0m \u001b[32m━━━━━━━━━━━━━━━━━━━━\u001b[0m\u001b[37m\u001b[0m \u001b[1m1s\u001b[0m 5ms/step - loss: 0.0523 - mae: 0.0955 - mse: 0.0258 - val_loss: 0.0495 - val_mae: 0.0856 - val_mse: 0.0233 - learning_rate: 5.0000e-04\n",
      "Epoch 61/500\n",
      "\u001b[1m196/200\u001b[0m \u001b[32m━━━━━━━━━━━━━━━━━━━\u001b[0m\u001b[37m━\u001b[0m \u001b[1m0s\u001b[0m 5ms/step - loss: 0.0521 - mae: 0.0949 - mse: 0.0260"
     ]
    },
    {
     "name": "stderr",
     "output_type": "stream",
     "text": [
      "WARNING:absl:You are saving your model as an HDF5 file via `model.save()` or `keras.saving.save_model(model)`. This file format is considered legacy. We recommend using instead the native Keras format, e.g. `model.save('my_model.keras')` or `keras.saving.save_model(model, 'my_model.keras')`. \n"
     ]
    },
    {
     "name": "stdout",
     "output_type": "stream",
     "text": [
      "\u001b[1m200/200\u001b[0m \u001b[32m━━━━━━━━━━━━━━━━━━━━\u001b[0m\u001b[37m\u001b[0m \u001b[1m1s\u001b[0m 5ms/step - loss: 0.0521 - mae: 0.0949 - mse: 0.0260 - val_loss: 0.0491 - val_mae: 0.0831 - val_mse: 0.0234 - learning_rate: 5.0000e-04\n",
      "Epoch 62/500\n",
      "\u001b[1m196/200\u001b[0m \u001b[32m━━━━━━━━━━━━━━━━━━━\u001b[0m\u001b[37m━\u001b[0m \u001b[1m0s\u001b[0m 5ms/step - loss: 0.0511 - mae: 0.0938 - mse: 0.0254"
     ]
    },
    {
     "name": "stderr",
     "output_type": "stream",
     "text": [
      "WARNING:absl:You are saving your model as an HDF5 file via `model.save()` or `keras.saving.save_model(model)`. This file format is considered legacy. We recommend using instead the native Keras format, e.g. `model.save('my_model.keras')` or `keras.saving.save_model(model, 'my_model.keras')`. \n"
     ]
    },
    {
     "name": "stdout",
     "output_type": "stream",
     "text": [
      "\u001b[1m200/200\u001b[0m \u001b[32m━━━━━━━━━━━━━━━━━━━━\u001b[0m\u001b[37m\u001b[0m \u001b[1m1s\u001b[0m 6ms/step - loss: 0.0511 - mae: 0.0938 - mse: 0.0254 - val_loss: 0.0488 - val_mae: 0.0865 - val_mse: 0.0235 - learning_rate: 5.0000e-04\n",
      "Epoch 63/500\n",
      "\u001b[1m195/200\u001b[0m \u001b[32m━━━━━━━━━━━━━━━━━━━\u001b[0m\u001b[37m━\u001b[0m \u001b[1m0s\u001b[0m 5ms/step - loss: 0.0510 - mae: 0.0947 - mse: 0.0259"
     ]
    },
    {
     "name": "stderr",
     "output_type": "stream",
     "text": [
      "WARNING:absl:You are saving your model as an HDF5 file via `model.save()` or `keras.saving.save_model(model)`. This file format is considered legacy. We recommend using instead the native Keras format, e.g. `model.save('my_model.keras')` or `keras.saving.save_model(model, 'my_model.keras')`. \n"
     ]
    },
    {
     "name": "stdout",
     "output_type": "stream",
     "text": [
      "\u001b[1m200/200\u001b[0m \u001b[32m━━━━━━━━━━━━━━━━━━━━\u001b[0m\u001b[37m\u001b[0m \u001b[1m1s\u001b[0m 6ms/step - loss: 0.0510 - mae: 0.0947 - mse: 0.0259 - val_loss: 0.0481 - val_mae: 0.0837 - val_mse: 0.0233 - learning_rate: 5.0000e-04\n",
      "Epoch 64/500\n",
      "\u001b[1m200/200\u001b[0m \u001b[32m━━━━━━━━━━━━━━━━━━━━\u001b[0m\u001b[37m\u001b[0m \u001b[1m1s\u001b[0m 6ms/step - loss: 0.0500 - mae: 0.0934 - mse: 0.0253 - val_loss: 0.0484 - val_mae: 0.0837 - val_mse: 0.0240 - learning_rate: 5.0000e-04\n",
      "Epoch 65/500\n",
      "\u001b[1m193/200\u001b[0m \u001b[32m━━━━━━━━━━━━━━━━━━━\u001b[0m\u001b[37m━\u001b[0m \u001b[1m0s\u001b[0m 5ms/step - loss: 0.0499 - mae: 0.0942 - mse: 0.0256"
     ]
    },
    {
     "name": "stderr",
     "output_type": "stream",
     "text": [
      "WARNING:absl:You are saving your model as an HDF5 file via `model.save()` or `keras.saving.save_model(model)`. This file format is considered legacy. We recommend using instead the native Keras format, e.g. `model.save('my_model.keras')` or `keras.saving.save_model(model, 'my_model.keras')`. \n"
     ]
    },
    {
     "name": "stdout",
     "output_type": "stream",
     "text": [
      "\u001b[1m200/200\u001b[0m \u001b[32m━━━━━━━━━━━━━━━━━━━━\u001b[0m\u001b[37m\u001b[0m \u001b[1m1s\u001b[0m 5ms/step - loss: 0.0499 - mae: 0.0942 - mse: 0.0256 - val_loss: 0.0474 - val_mae: 0.0862 - val_mse: 0.0234 - learning_rate: 5.0000e-04\n",
      "Epoch 66/500\n",
      "\u001b[1m192/200\u001b[0m \u001b[32m━━━━━━━━━━━━━━━━━━━\u001b[0m\u001b[37m━\u001b[0m \u001b[1m0s\u001b[0m 5ms/step - loss: 0.0491 - mae: 0.0936 - mse: 0.0252"
     ]
    },
    {
     "name": "stderr",
     "output_type": "stream",
     "text": [
      "WARNING:absl:You are saving your model as an HDF5 file via `model.save()` or `keras.saving.save_model(model)`. This file format is considered legacy. We recommend using instead the native Keras format, e.g. `model.save('my_model.keras')` or `keras.saving.save_model(model, 'my_model.keras')`. \n"
     ]
    },
    {
     "name": "stdout",
     "output_type": "stream",
     "text": [
      "\u001b[1m200/200\u001b[0m \u001b[32m━━━━━━━━━━━━━━━━━━━━\u001b[0m\u001b[37m\u001b[0m \u001b[1m1s\u001b[0m 5ms/step - loss: 0.0491 - mae: 0.0936 - mse: 0.0252 - val_loss: 0.0471 - val_mae: 0.0849 - val_mse: 0.0235 - learning_rate: 5.0000e-04\n",
      "Epoch 67/500\n",
      "\u001b[1m194/200\u001b[0m \u001b[32m━━━━━━━━━━━━━━━━━━━\u001b[0m\u001b[37m━\u001b[0m \u001b[1m0s\u001b[0m 5ms/step - loss: 0.0486 - mae: 0.0938 - mse: 0.0251"
     ]
    },
    {
     "name": "stderr",
     "output_type": "stream",
     "text": [
      "WARNING:absl:You are saving your model as an HDF5 file via `model.save()` or `keras.saving.save_model(model)`. This file format is considered legacy. We recommend using instead the native Keras format, e.g. `model.save('my_model.keras')` or `keras.saving.save_model(model, 'my_model.keras')`. \n"
     ]
    },
    {
     "name": "stdout",
     "output_type": "stream",
     "text": [
      "\u001b[1m200/200\u001b[0m \u001b[32m━━━━━━━━━━━━━━━━━━━━\u001b[0m\u001b[37m\u001b[0m \u001b[1m1s\u001b[0m 6ms/step - loss: 0.0486 - mae: 0.0939 - mse: 0.0251 - val_loss: 0.0464 - val_mae: 0.0834 - val_mse: 0.0232 - learning_rate: 5.0000e-04\n",
      "Epoch 68/500\n",
      "\u001b[1m195/200\u001b[0m \u001b[32m━━━━━━━━━━━━━━━━━━━\u001b[0m\u001b[37m━\u001b[0m \u001b[1m0s\u001b[0m 5ms/step - loss: 0.0484 - mae: 0.0935 - mse: 0.0253"
     ]
    },
    {
     "name": "stderr",
     "output_type": "stream",
     "text": [
      "WARNING:absl:You are saving your model as an HDF5 file via `model.save()` or `keras.saving.save_model(model)`. This file format is considered legacy. We recommend using instead the native Keras format, e.g. `model.save('my_model.keras')` or `keras.saving.save_model(model, 'my_model.keras')`. \n"
     ]
    },
    {
     "name": "stdout",
     "output_type": "stream",
     "text": [
      "\u001b[1m200/200\u001b[0m \u001b[32m━━━━━━━━━━━━━━━━━━━━\u001b[0m\u001b[37m\u001b[0m \u001b[1m1s\u001b[0m 5ms/step - loss: 0.0484 - mae: 0.0936 - mse: 0.0253 - val_loss: 0.0462 - val_mae: 0.0850 - val_mse: 0.0234 - learning_rate: 5.0000e-04\n",
      "Epoch 69/500\n",
      "\u001b[1m195/200\u001b[0m \u001b[32m━━━━━━━━━━━━━━━━━━━\u001b[0m\u001b[37m━\u001b[0m \u001b[1m0s\u001b[0m 5ms/step - loss: 0.0477 - mae: 0.0935 - mse: 0.0249"
     ]
    },
    {
     "name": "stderr",
     "output_type": "stream",
     "text": [
      "WARNING:absl:You are saving your model as an HDF5 file via `model.save()` or `keras.saving.save_model(model)`. This file format is considered legacy. We recommend using instead the native Keras format, e.g. `model.save('my_model.keras')` or `keras.saving.save_model(model, 'my_model.keras')`. \n"
     ]
    },
    {
     "name": "stdout",
     "output_type": "stream",
     "text": [
      "\u001b[1m200/200\u001b[0m \u001b[32m━━━━━━━━━━━━━━━━━━━━\u001b[0m\u001b[37m\u001b[0m \u001b[1m1s\u001b[0m 5ms/step - loss: 0.0477 - mae: 0.0935 - mse: 0.0249 - val_loss: 0.0456 - val_mae: 0.0847 - val_mse: 0.0231 - learning_rate: 5.0000e-04\n",
      "Epoch 70/500\n",
      "\u001b[1m200/200\u001b[0m \u001b[32m━━━━━━━━━━━━━━━━━━━━\u001b[0m\u001b[37m\u001b[0m \u001b[1m1s\u001b[0m 5ms/step - loss: 0.0474 - mae: 0.0933 - mse: 0.0251 - val_loss: 0.0458 - val_mae: 0.0872 - val_mse: 0.0237 - learning_rate: 5.0000e-04\n",
      "Epoch 71/500\n",
      "\u001b[1m191/200\u001b[0m \u001b[32m━━━━━━━━━━━━━━━━━━━\u001b[0m\u001b[37m━\u001b[0m \u001b[1m0s\u001b[0m 5ms/step - loss: 0.0473 - mae: 0.0936 - mse: 0.0253"
     ]
    },
    {
     "name": "stderr",
     "output_type": "stream",
     "text": [
      "WARNING:absl:You are saving your model as an HDF5 file via `model.save()` or `keras.saving.save_model(model)`. This file format is considered legacy. We recommend using instead the native Keras format, e.g. `model.save('my_model.keras')` or `keras.saving.save_model(model, 'my_model.keras')`. \n"
     ]
    },
    {
     "name": "stdout",
     "output_type": "stream",
     "text": [
      "\u001b[1m200/200\u001b[0m \u001b[32m━━━━━━━━━━━━━━━━━━━━\u001b[0m\u001b[37m\u001b[0m \u001b[1m1s\u001b[0m 6ms/step - loss: 0.0473 - mae: 0.0937 - mse: 0.0253 - val_loss: 0.0452 - val_mae: 0.0851 - val_mse: 0.0234 - learning_rate: 5.0000e-04\n",
      "Epoch 72/500\n",
      "\u001b[1m190/200\u001b[0m \u001b[32m━━━━━━━━━━━━━━━━━━━\u001b[0m\u001b[37m━\u001b[0m \u001b[1m0s\u001b[0m 5ms/step - loss: 0.0465 - mae: 0.0932 - mse: 0.0248"
     ]
    },
    {
     "name": "stderr",
     "output_type": "stream",
     "text": [
      "WARNING:absl:You are saving your model as an HDF5 file via `model.save()` or `keras.saving.save_model(model)`. This file format is considered legacy. We recommend using instead the native Keras format, e.g. `model.save('my_model.keras')` or `keras.saving.save_model(model, 'my_model.keras')`. \n"
     ]
    },
    {
     "name": "stdout",
     "output_type": "stream",
     "text": [
      "\u001b[1m200/200\u001b[0m \u001b[32m━━━━━━━━━━━━━━━━━━━━\u001b[0m\u001b[37m\u001b[0m \u001b[1m1s\u001b[0m 6ms/step - loss: 0.0465 - mae: 0.0932 - mse: 0.0249 - val_loss: 0.0445 - val_mae: 0.0842 - val_mse: 0.0231 - learning_rate: 5.0000e-04\n",
      "Epoch 73/500\n",
      "\u001b[1m200/200\u001b[0m \u001b[32m━━━━━━━━━━━━━━━━━━━━\u001b[0m\u001b[37m\u001b[0m \u001b[1m1s\u001b[0m 5ms/step - loss: 0.0461 - mae: 0.0925 - mse: 0.0247 - val_loss: 0.0449 - val_mae: 0.0854 - val_mse: 0.0239 - learning_rate: 5.0000e-04\n",
      "Epoch 74/500\n",
      "\u001b[1m195/200\u001b[0m \u001b[32m━━━━━━━━━━━━━━━━━━━\u001b[0m\u001b[37m━\u001b[0m \u001b[1m0s\u001b[0m 5ms/step - loss: 0.0456 - mae: 0.0921 - mse: 0.0246"
     ]
    },
    {
     "name": "stderr",
     "output_type": "stream",
     "text": [
      "WARNING:absl:You are saving your model as an HDF5 file via `model.save()` or `keras.saving.save_model(model)`. This file format is considered legacy. We recommend using instead the native Keras format, e.g. `model.save('my_model.keras')` or `keras.saving.save_model(model, 'my_model.keras')`. \n"
     ]
    },
    {
     "name": "stdout",
     "output_type": "stream",
     "text": [
      "\u001b[1m200/200\u001b[0m \u001b[32m━━━━━━━━━━━━━━━━━━━━\u001b[0m\u001b[37m\u001b[0m \u001b[1m1s\u001b[0m 5ms/step - loss: 0.0456 - mae: 0.0921 - mse: 0.0246 - val_loss: 0.0442 - val_mae: 0.0846 - val_mse: 0.0235 - learning_rate: 5.0000e-04\n",
      "Epoch 75/500\n",
      "\u001b[1m197/200\u001b[0m \u001b[32m━━━━━━━━━━━━━━━━━━━\u001b[0m\u001b[37m━\u001b[0m \u001b[1m0s\u001b[0m 5ms/step - loss: 0.0454 - mae: 0.0923 - mse: 0.0248"
     ]
    },
    {
     "name": "stderr",
     "output_type": "stream",
     "text": [
      "WARNING:absl:You are saving your model as an HDF5 file via `model.save()` or `keras.saving.save_model(model)`. This file format is considered legacy. We recommend using instead the native Keras format, e.g. `model.save('my_model.keras')` or `keras.saving.save_model(model, 'my_model.keras')`. \n"
     ]
    },
    {
     "name": "stdout",
     "output_type": "stream",
     "text": [
      "\u001b[1m200/200\u001b[0m \u001b[32m━━━━━━━━━━━━━━━━━━━━\u001b[0m\u001b[37m\u001b[0m \u001b[1m1s\u001b[0m 6ms/step - loss: 0.0454 - mae: 0.0924 - mse: 0.0248 - val_loss: 0.0437 - val_mae: 0.0856 - val_mse: 0.0233 - learning_rate: 5.0000e-04\n",
      "Epoch 76/500\n",
      "\u001b[1m196/200\u001b[0m \u001b[32m━━━━━━━━━━━━━━━━━━━\u001b[0m\u001b[37m━\u001b[0m \u001b[1m0s\u001b[0m 5ms/step - loss: 0.0450 - mae: 0.0920 - mse: 0.0246"
     ]
    },
    {
     "name": "stderr",
     "output_type": "stream",
     "text": [
      "WARNING:absl:You are saving your model as an HDF5 file via `model.save()` or `keras.saving.save_model(model)`. This file format is considered legacy. We recommend using instead the native Keras format, e.g. `model.save('my_model.keras')` or `keras.saving.save_model(model, 'my_model.keras')`. \n"
     ]
    },
    {
     "name": "stdout",
     "output_type": "stream",
     "text": [
      "\u001b[1m200/200\u001b[0m \u001b[32m━━━━━━━━━━━━━━━━━━━━\u001b[0m\u001b[37m\u001b[0m \u001b[1m1s\u001b[0m 5ms/step - loss: 0.0450 - mae: 0.0920 - mse: 0.0246 - val_loss: 0.0433 - val_mae: 0.0850 - val_mse: 0.0232 - learning_rate: 5.0000e-04\n",
      "Epoch 77/500\n",
      "\u001b[1m195/200\u001b[0m \u001b[32m━━━━━━━━━━━━━━━━━━━\u001b[0m\u001b[37m━\u001b[0m \u001b[1m0s\u001b[0m 5ms/step - loss: 0.0451 - mae: 0.0929 - mse: 0.0251"
     ]
    },
    {
     "name": "stderr",
     "output_type": "stream",
     "text": [
      "WARNING:absl:You are saving your model as an HDF5 file via `model.save()` or `keras.saving.save_model(model)`. This file format is considered legacy. We recommend using instead the native Keras format, e.g. `model.save('my_model.keras')` or `keras.saving.save_model(model, 'my_model.keras')`. \n"
     ]
    },
    {
     "name": "stdout",
     "output_type": "stream",
     "text": [
      "\u001b[1m200/200\u001b[0m \u001b[32m━━━━━━━━━━━━━━━━━━━━\u001b[0m\u001b[37m\u001b[0m \u001b[1m1s\u001b[0m 5ms/step - loss: 0.0451 - mae: 0.0929 - mse: 0.0251 - val_loss: 0.0432 - val_mae: 0.0850 - val_mse: 0.0234 - learning_rate: 5.0000e-04\n",
      "Epoch 78/500\n",
      "\u001b[1m200/200\u001b[0m \u001b[32m━━━━━━━━━━━━━━━━━━━━\u001b[0m\u001b[37m\u001b[0m \u001b[1m0s\u001b[0m 5ms/step - loss: 0.0446 - mae: 0.0921 - mse: 0.0249"
     ]
    },
    {
     "name": "stderr",
     "output_type": "stream",
     "text": [
      "WARNING:absl:You are saving your model as an HDF5 file via `model.save()` or `keras.saving.save_model(model)`. This file format is considered legacy. We recommend using instead the native Keras format, e.g. `model.save('my_model.keras')` or `keras.saving.save_model(model, 'my_model.keras')`. \n"
     ]
    },
    {
     "name": "stdout",
     "output_type": "stream",
     "text": [
      "\u001b[1m200/200\u001b[0m \u001b[32m━━━━━━━━━━━━━━━━━━━━\u001b[0m\u001b[37m\u001b[0m \u001b[1m1s\u001b[0m 6ms/step - loss: 0.0446 - mae: 0.0921 - mse: 0.0249 - val_loss: 0.0431 - val_mae: 0.0859 - val_mse: 0.0236 - learning_rate: 5.0000e-04\n",
      "Epoch 79/500\n",
      "\u001b[1m191/200\u001b[0m \u001b[32m━━━━━━━━━━━━━━━━━━━\u001b[0m\u001b[37m━\u001b[0m \u001b[1m0s\u001b[0m 5ms/step - loss: 0.0441 - mae: 0.0918 - mse: 0.0247"
     ]
    },
    {
     "name": "stderr",
     "output_type": "stream",
     "text": [
      "WARNING:absl:You are saving your model as an HDF5 file via `model.save()` or `keras.saving.save_model(model)`. This file format is considered legacy. We recommend using instead the native Keras format, e.g. `model.save('my_model.keras')` or `keras.saving.save_model(model, 'my_model.keras')`. \n"
     ]
    },
    {
     "name": "stdout",
     "output_type": "stream",
     "text": [
      "\u001b[1m200/200\u001b[0m \u001b[32m━━━━━━━━━━━━━━━━━━━━\u001b[0m\u001b[37m\u001b[0m \u001b[1m1s\u001b[0m 6ms/step - loss: 0.0441 - mae: 0.0918 - mse: 0.0247 - val_loss: 0.0419 - val_mae: 0.0837 - val_mse: 0.0227 - learning_rate: 5.0000e-04\n",
      "Epoch 80/500\n",
      "\u001b[1m200/200\u001b[0m \u001b[32m━━━━━━━━━━━━━━━━━━━━\u001b[0m\u001b[37m\u001b[0m \u001b[1m1s\u001b[0m 5ms/step - loss: 0.0443 - mae: 0.0923 - mse: 0.0252 - val_loss: 0.0423 - val_mae: 0.0852 - val_mse: 0.0234 - learning_rate: 5.0000e-04\n",
      "Epoch 81/500\n",
      "\u001b[1m196/200\u001b[0m \u001b[32m━━━━━━━━━━━━━━━━━━━\u001b[0m\u001b[37m━\u001b[0m \u001b[1m0s\u001b[0m 5ms/step - loss: 0.0434 - mae: 0.0921 - mse: 0.0246"
     ]
    },
    {
     "name": "stderr",
     "output_type": "stream",
     "text": [
      "WARNING:absl:You are saving your model as an HDF5 file via `model.save()` or `keras.saving.save_model(model)`. This file format is considered legacy. We recommend using instead the native Keras format, e.g. `model.save('my_model.keras')` or `keras.saving.save_model(model, 'my_model.keras')`. \n"
     ]
    },
    {
     "name": "stdout",
     "output_type": "stream",
     "text": [
      "\u001b[1m200/200\u001b[0m \u001b[32m━━━━━━━━━━━━━━━━━━━━\u001b[0m\u001b[37m\u001b[0m \u001b[1m1s\u001b[0m 5ms/step - loss: 0.0434 - mae: 0.0921 - mse: 0.0246 - val_loss: 0.0418 - val_mae: 0.0853 - val_mse: 0.0231 - learning_rate: 5.0000e-04\n",
      "Epoch 82/500\n",
      "\u001b[1m197/200\u001b[0m \u001b[32m━━━━━━━━━━━━━━━━━━━\u001b[0m\u001b[37m━\u001b[0m \u001b[1m0s\u001b[0m 5ms/step - loss: 0.0428 - mae: 0.0909 - mse: 0.0242"
     ]
    },
    {
     "name": "stderr",
     "output_type": "stream",
     "text": [
      "WARNING:absl:You are saving your model as an HDF5 file via `model.save()` or `keras.saving.save_model(model)`. This file format is considered legacy. We recommend using instead the native Keras format, e.g. `model.save('my_model.keras')` or `keras.saving.save_model(model, 'my_model.keras')`. \n"
     ]
    },
    {
     "name": "stdout",
     "output_type": "stream",
     "text": [
      "\u001b[1m200/200\u001b[0m \u001b[32m━━━━━━━━━━━━━━━━━━━━\u001b[0m\u001b[37m\u001b[0m \u001b[1m1s\u001b[0m 5ms/step - loss: 0.0428 - mae: 0.0909 - mse: 0.0242 - val_loss: 0.0413 - val_mae: 0.0844 - val_mse: 0.0229 - learning_rate: 5.0000e-04\n",
      "Epoch 83/500\n",
      "\u001b[1m196/200\u001b[0m \u001b[32m━━━━━━━━━━━━━━━━━━━\u001b[0m\u001b[37m━\u001b[0m \u001b[1m0s\u001b[0m 5ms/step - loss: 0.0426 - mae: 0.0912 - mse: 0.0243"
     ]
    },
    {
     "name": "stderr",
     "output_type": "stream",
     "text": [
      "WARNING:absl:You are saving your model as an HDF5 file via `model.save()` or `keras.saving.save_model(model)`. This file format is considered legacy. We recommend using instead the native Keras format, e.g. `model.save('my_model.keras')` or `keras.saving.save_model(model, 'my_model.keras')`. \n"
     ]
    },
    {
     "name": "stdout",
     "output_type": "stream",
     "text": [
      "\u001b[1m200/200\u001b[0m \u001b[32m━━━━━━━━━━━━━━━━━━━━\u001b[0m\u001b[37m\u001b[0m \u001b[1m1s\u001b[0m 6ms/step - loss: 0.0426 - mae: 0.0912 - mse: 0.0243 - val_loss: 0.0409 - val_mae: 0.0827 - val_mse: 0.0228 - learning_rate: 5.0000e-04\n",
      "Epoch 84/500\n",
      "\u001b[1m192/200\u001b[0m \u001b[32m━━━━━━━━━━━━━━━━━━━\u001b[0m\u001b[37m━\u001b[0m \u001b[1m0s\u001b[0m 5ms/step - loss: 0.0420 - mae: 0.0916 - mse: 0.0240"
     ]
    },
    {
     "name": "stderr",
     "output_type": "stream",
     "text": [
      "WARNING:absl:You are saving your model as an HDF5 file via `model.save()` or `keras.saving.save_model(model)`. This file format is considered legacy. We recommend using instead the native Keras format, e.g. `model.save('my_model.keras')` or `keras.saving.save_model(model, 'my_model.keras')`. \n"
     ]
    },
    {
     "name": "stdout",
     "output_type": "stream",
     "text": [
      "\u001b[1m200/200\u001b[0m \u001b[32m━━━━━━━━━━━━━━━━━━━━\u001b[0m\u001b[37m\u001b[0m \u001b[1m1s\u001b[0m 6ms/step - loss: 0.0420 - mae: 0.0916 - mse: 0.0240 - val_loss: 0.0407 - val_mae: 0.0831 - val_mse: 0.0228 - learning_rate: 5.0000e-04\n",
      "Epoch 85/500\n",
      "\u001b[1m200/200\u001b[0m \u001b[32m━━━━━━━━━━━━━━━━━━━━\u001b[0m\u001b[37m\u001b[0m \u001b[1m1s\u001b[0m 5ms/step - loss: 0.0428 - mae: 0.0919 - mse: 0.0250 - val_loss: 0.0408 - val_mae: 0.0844 - val_mse: 0.0232 - learning_rate: 5.0000e-04\n",
      "Epoch 86/500\n",
      "\u001b[1m198/200\u001b[0m \u001b[32m━━━━━━━━━━━━━━━━━━━\u001b[0m\u001b[37m━\u001b[0m \u001b[1m0s\u001b[0m 5ms/step - loss: 0.0418 - mae: 0.0914 - mse: 0.0242"
     ]
    },
    {
     "name": "stderr",
     "output_type": "stream",
     "text": [
      "WARNING:absl:You are saving your model as an HDF5 file via `model.save()` or `keras.saving.save_model(model)`. This file format is considered legacy. We recommend using instead the native Keras format, e.g. `model.save('my_model.keras')` or `keras.saving.save_model(model, 'my_model.keras')`. \n"
     ]
    },
    {
     "name": "stdout",
     "output_type": "stream",
     "text": [
      "\u001b[1m200/200\u001b[0m \u001b[32m━━━━━━━━━━━━━━━━━━━━\u001b[0m\u001b[37m\u001b[0m \u001b[1m1s\u001b[0m 6ms/step - loss: 0.0418 - mae: 0.0914 - mse: 0.0242 - val_loss: 0.0406 - val_mae: 0.0849 - val_mse: 0.0232 - learning_rate: 5.0000e-04\n",
      "Epoch 87/500\n",
      "\u001b[1m198/200\u001b[0m \u001b[32m━━━━━━━━━━━━━━━━━━━\u001b[0m\u001b[37m━\u001b[0m \u001b[1m0s\u001b[0m 5ms/step - loss: 0.0412 - mae: 0.0910 - mse: 0.0240"
     ]
    },
    {
     "name": "stderr",
     "output_type": "stream",
     "text": [
      "WARNING:absl:You are saving your model as an HDF5 file via `model.save()` or `keras.saving.save_model(model)`. This file format is considered legacy. We recommend using instead the native Keras format, e.g. `model.save('my_model.keras')` or `keras.saving.save_model(model, 'my_model.keras')`. \n"
     ]
    },
    {
     "name": "stdout",
     "output_type": "stream",
     "text": [
      "\u001b[1m200/200\u001b[0m \u001b[32m━━━━━━━━━━━━━━━━━━━━\u001b[0m\u001b[37m\u001b[0m \u001b[1m1s\u001b[0m 6ms/step - loss: 0.0412 - mae: 0.0910 - mse: 0.0240 - val_loss: 0.0398 - val_mae: 0.0830 - val_mse: 0.0227 - learning_rate: 5.0000e-04\n",
      "Epoch 88/500\n",
      "\u001b[1m200/200\u001b[0m \u001b[32m━━━━━━━━━━━━━━━━━━━━\u001b[0m\u001b[37m\u001b[0m \u001b[1m1s\u001b[0m 6ms/step - loss: 0.0414 - mae: 0.0918 - mse: 0.0244 - val_loss: 0.0400 - val_mae: 0.0838 - val_mse: 0.0232 - learning_rate: 5.0000e-04\n",
      "Epoch 89/500\n",
      "\u001b[1m189/200\u001b[0m \u001b[32m━━━━━━━━━━━━━━━━━━\u001b[0m\u001b[37m━━\u001b[0m \u001b[1m0s\u001b[0m 5ms/step - loss: 0.0409 - mae: 0.0914 - mse: 0.0241"
     ]
    },
    {
     "name": "stderr",
     "output_type": "stream",
     "text": [
      "WARNING:absl:You are saving your model as an HDF5 file via `model.save()` or `keras.saving.save_model(model)`. This file format is considered legacy. We recommend using instead the native Keras format, e.g. `model.save('my_model.keras')` or `keras.saving.save_model(model, 'my_model.keras')`. \n"
     ]
    },
    {
     "name": "stdout",
     "output_type": "stream",
     "text": [
      "\u001b[1m200/200\u001b[0m \u001b[32m━━━━━━━━━━━━━━━━━━━━\u001b[0m\u001b[37m\u001b[0m \u001b[1m1s\u001b[0m 6ms/step - loss: 0.0409 - mae: 0.0914 - mse: 0.0241 - val_loss: 0.0395 - val_mae: 0.0821 - val_mse: 0.0229 - learning_rate: 5.0000e-04\n",
      "Epoch 90/500\n",
      "\u001b[1m199/200\u001b[0m \u001b[32m━━━━━━━━━━━━━━━━━━━\u001b[0m\u001b[37m━\u001b[0m \u001b[1m0s\u001b[0m 5ms/step - loss: 0.0401 - mae: 0.0901 - mse: 0.0235"
     ]
    },
    {
     "name": "stderr",
     "output_type": "stream",
     "text": [
      "WARNING:absl:You are saving your model as an HDF5 file via `model.save()` or `keras.saving.save_model(model)`. This file format is considered legacy. We recommend using instead the native Keras format, e.g. `model.save('my_model.keras')` or `keras.saving.save_model(model, 'my_model.keras')`. \n"
     ]
    },
    {
     "name": "stdout",
     "output_type": "stream",
     "text": [
      "\u001b[1m200/200\u001b[0m \u001b[32m━━━━━━━━━━━━━━━━━━━━\u001b[0m\u001b[37m\u001b[0m \u001b[1m1s\u001b[0m 5ms/step - loss: 0.0401 - mae: 0.0901 - mse: 0.0235 - val_loss: 0.0391 - val_mae: 0.0827 - val_mse: 0.0227 - learning_rate: 5.0000e-04\n",
      "Epoch 91/500\n",
      "\u001b[1m200/200\u001b[0m \u001b[32m━━━━━━━━━━━━━━━━━━━━\u001b[0m\u001b[37m\u001b[0m \u001b[1m1s\u001b[0m 5ms/step - loss: 0.0396 - mae: 0.0901 - mse: 0.0233 - val_loss: 0.0392 - val_mae: 0.0817 - val_mse: 0.0230 - learning_rate: 5.0000e-04\n",
      "Epoch 92/500\n",
      "\u001b[1m200/200\u001b[0m \u001b[32m━━━━━━━━━━━━━━━━━━━━\u001b[0m\u001b[37m\u001b[0m \u001b[1m1s\u001b[0m 6ms/step - loss: 0.0402 - mae: 0.0904 - mse: 0.0241 - val_loss: 0.0393 - val_mae: 0.0844 - val_mse: 0.0233 - learning_rate: 5.0000e-04\n",
      "Epoch 93/500\n",
      "\u001b[1m193/200\u001b[0m \u001b[32m━━━━━━━━━━━━━━━━━━━\u001b[0m\u001b[37m━\u001b[0m \u001b[1m0s\u001b[0m 5ms/step - loss: 0.0397 - mae: 0.0897 - mse: 0.0237"
     ]
    },
    {
     "name": "stderr",
     "output_type": "stream",
     "text": [
      "WARNING:absl:You are saving your model as an HDF5 file via `model.save()` or `keras.saving.save_model(model)`. This file format is considered legacy. We recommend using instead the native Keras format, e.g. `model.save('my_model.keras')` or `keras.saving.save_model(model, 'my_model.keras')`. \n"
     ]
    },
    {
     "name": "stdout",
     "output_type": "stream",
     "text": [
      "\u001b[1m200/200\u001b[0m \u001b[32m━━━━━━━━━━━━━━━━━━━━\u001b[0m\u001b[37m\u001b[0m \u001b[1m1s\u001b[0m 5ms/step - loss: 0.0397 - mae: 0.0898 - mse: 0.0237 - val_loss: 0.0381 - val_mae: 0.0826 - val_mse: 0.0224 - learning_rate: 5.0000e-04\n",
      "Epoch 94/500\n",
      "\u001b[1m200/200\u001b[0m \u001b[32m━━━━━━━━━━━━━━━━━━━━\u001b[0m\u001b[37m\u001b[0m \u001b[1m1s\u001b[0m 5ms/step - loss: 0.0398 - mae: 0.0909 - mse: 0.0241 - val_loss: 0.0387 - val_mae: 0.0845 - val_mse: 0.0232 - learning_rate: 5.0000e-04\n",
      "Epoch 95/500\n",
      "\u001b[1m200/200\u001b[0m \u001b[32m━━━━━━━━━━━━━━━━━━━━\u001b[0m\u001b[37m\u001b[0m \u001b[1m1s\u001b[0m 5ms/step - loss: 0.0393 - mae: 0.0907 - mse: 0.0238 - val_loss: 0.0386 - val_mae: 0.0854 - val_mse: 0.0233 - learning_rate: 5.0000e-04\n",
      "Epoch 96/500\n",
      "\u001b[1m200/200\u001b[0m \u001b[32m━━━━━━━━━━━━━━━━━━━━\u001b[0m\u001b[37m\u001b[0m \u001b[1m1s\u001b[0m 6ms/step - loss: 0.0392 - mae: 0.0898 - mse: 0.0239 - val_loss: 0.0384 - val_mae: 0.0862 - val_mse: 0.0232 - learning_rate: 5.0000e-04\n",
      "Epoch 97/500\n",
      "\u001b[1m190/200\u001b[0m \u001b[32m━━━━━━━━━━━━━━━━━━━\u001b[0m\u001b[37m━\u001b[0m \u001b[1m0s\u001b[0m 5ms/step - loss: 0.0391 - mae: 0.0905 - mse: 0.0240"
     ]
    },
    {
     "name": "stderr",
     "output_type": "stream",
     "text": [
      "WARNING:absl:You are saving your model as an HDF5 file via `model.save()` or `keras.saving.save_model(model)`. This file format is considered legacy. We recommend using instead the native Keras format, e.g. `model.save('my_model.keras')` or `keras.saving.save_model(model, 'my_model.keras')`. \n"
     ]
    },
    {
     "name": "stdout",
     "output_type": "stream",
     "text": [
      "\u001b[1m200/200\u001b[0m \u001b[32m━━━━━━━━━━━━━━━━━━━━\u001b[0m\u001b[37m\u001b[0m \u001b[1m1s\u001b[0m 6ms/step - loss: 0.0391 - mae: 0.0905 - mse: 0.0240 - val_loss: 0.0372 - val_mae: 0.0819 - val_mse: 0.0222 - learning_rate: 5.0000e-04\n",
      "Epoch 98/500\n",
      "\u001b[1m200/200\u001b[0m \u001b[32m━━━━━━━━━━━━━━━━━━━━\u001b[0m\u001b[37m\u001b[0m \u001b[1m1s\u001b[0m 5ms/step - loss: 0.0384 - mae: 0.0894 - mse: 0.0235 - val_loss: 0.0381 - val_mae: 0.0841 - val_mse: 0.0234 - learning_rate: 5.0000e-04\n",
      "Epoch 99/500\n",
      "\u001b[1m200/200\u001b[0m \u001b[32m━━━━━━━━━━━━━━━━━━━━\u001b[0m\u001b[37m\u001b[0m \u001b[1m1s\u001b[0m 5ms/step - loss: 0.0384 - mae: 0.0896 - mse: 0.0237 - val_loss: 0.0376 - val_mae: 0.0828 - val_mse: 0.0231 - learning_rate: 5.0000e-04\n",
      "Epoch 100/500\n",
      "\u001b[1m198/200\u001b[0m \u001b[32m━━━━━━━━━━━━━━━━━━━\u001b[0m\u001b[37m━\u001b[0m \u001b[1m0s\u001b[0m 5ms/step - loss: 0.0380 - mae: 0.0892 - mse: 0.0235"
     ]
    },
    {
     "name": "stderr",
     "output_type": "stream",
     "text": [
      "WARNING:absl:You are saving your model as an HDF5 file via `model.save()` or `keras.saving.save_model(model)`. This file format is considered legacy. We recommend using instead the native Keras format, e.g. `model.save('my_model.keras')` or `keras.saving.save_model(model, 'my_model.keras')`. \n"
     ]
    },
    {
     "name": "stdout",
     "output_type": "stream",
     "text": [
      "\u001b[1m200/200\u001b[0m \u001b[32m━━━━━━━━━━━━━━━━━━━━\u001b[0m\u001b[37m\u001b[0m \u001b[1m1s\u001b[0m 6ms/step - loss: 0.0380 - mae: 0.0892 - mse: 0.0235 - val_loss: 0.0369 - val_mae: 0.0829 - val_mse: 0.0225 - learning_rate: 5.0000e-04\n",
      "Epoch 101/500\n",
      "\u001b[1m200/200\u001b[0m \u001b[32m━━━━━━━━━━━━━━━━━━━━\u001b[0m\u001b[37m\u001b[0m \u001b[1m1s\u001b[0m 6ms/step - loss: 0.0382 - mae: 0.0900 - mse: 0.0238 - val_loss: 0.0385 - val_mae: 0.0863 - val_mse: 0.0243 - learning_rate: 5.0000e-04\n",
      "Epoch 102/500\n",
      "\u001b[1m199/200\u001b[0m \u001b[32m━━━━━━━━━━━━━━━━━━━\u001b[0m\u001b[37m━\u001b[0m \u001b[1m0s\u001b[0m 5ms/step - loss: 0.0376 - mae: 0.0890 - mse: 0.0234"
     ]
    },
    {
     "name": "stderr",
     "output_type": "stream",
     "text": [
      "WARNING:absl:You are saving your model as an HDF5 file via `model.save()` or `keras.saving.save_model(model)`. This file format is considered legacy. We recommend using instead the native Keras format, e.g. `model.save('my_model.keras')` or `keras.saving.save_model(model, 'my_model.keras')`. \n"
     ]
    },
    {
     "name": "stdout",
     "output_type": "stream",
     "text": [
      "\u001b[1m200/200\u001b[0m \u001b[32m━━━━━━━━━━━━━━━━━━━━\u001b[0m\u001b[37m\u001b[0m \u001b[1m1s\u001b[0m 5ms/step - loss: 0.0376 - mae: 0.0890 - mse: 0.0234 - val_loss: 0.0361 - val_mae: 0.0803 - val_mse: 0.0221 - learning_rate: 5.0000e-04\n",
      "Epoch 103/500\n",
      "\u001b[1m200/200\u001b[0m \u001b[32m━━━━━━━━━━━━━━━━━━━━\u001b[0m\u001b[37m\u001b[0m \u001b[1m1s\u001b[0m 5ms/step - loss: 0.0376 - mae: 0.0890 - mse: 0.0236 - val_loss: 0.0366 - val_mae: 0.0833 - val_mse: 0.0227 - learning_rate: 5.0000e-04\n",
      "Epoch 104/500\n",
      "\u001b[1m200/200\u001b[0m \u001b[32m━━━━━━━━━━━━━━━━━━━━\u001b[0m\u001b[37m\u001b[0m \u001b[1m1s\u001b[0m 6ms/step - loss: 0.0379 - mae: 0.0895 - mse: 0.0240 - val_loss: 0.0365 - val_mae: 0.0834 - val_mse: 0.0228 - learning_rate: 5.0000e-04\n",
      "Epoch 105/500\n",
      "\u001b[1m200/200\u001b[0m \u001b[32m━━━━━━━━━━━━━━━━━━━━\u001b[0m\u001b[37m\u001b[0m \u001b[1m1s\u001b[0m 6ms/step - loss: 0.0372 - mae: 0.0893 - mse: 0.0235 - val_loss: 0.0363 - val_mae: 0.0830 - val_mse: 0.0228 - learning_rate: 5.0000e-04\n",
      "Epoch 106/500\n",
      "\u001b[1m196/200\u001b[0m \u001b[32m━━━━━━━━━━━━━━━━━━━\u001b[0m\u001b[37m━\u001b[0m \u001b[1m0s\u001b[0m 5ms/step - loss: 0.0368 - mae: 0.0888 - mse: 0.0233"
     ]
    },
    {
     "name": "stderr",
     "output_type": "stream",
     "text": [
      "WARNING:absl:You are saving your model as an HDF5 file via `model.save()` or `keras.saving.save_model(model)`. This file format is considered legacy. We recommend using instead the native Keras format, e.g. `model.save('my_model.keras')` or `keras.saving.save_model(model, 'my_model.keras')`. \n"
     ]
    },
    {
     "name": "stdout",
     "output_type": "stream",
     "text": [
      "\u001b[1m200/200\u001b[0m \u001b[32m━━━━━━━━━━━━━━━━━━━━\u001b[0m\u001b[37m\u001b[0m \u001b[1m1s\u001b[0m 5ms/step - loss: 0.0368 - mae: 0.0889 - mse: 0.0233 - val_loss: 0.0359 - val_mae: 0.0817 - val_mse: 0.0225 - learning_rate: 5.0000e-04\n",
      "Epoch 107/500\n",
      "\u001b[1m196/200\u001b[0m \u001b[32m━━━━━━━━━━━━━━━━━━━\u001b[0m\u001b[37m━\u001b[0m \u001b[1m0s\u001b[0m 5ms/step - loss: 0.0367 - mae: 0.0889 - mse: 0.0233"
     ]
    },
    {
     "name": "stderr",
     "output_type": "stream",
     "text": [
      "WARNING:absl:You are saving your model as an HDF5 file via `model.save()` or `keras.saving.save_model(model)`. This file format is considered legacy. We recommend using instead the native Keras format, e.g. `model.save('my_model.keras')` or `keras.saving.save_model(model, 'my_model.keras')`. \n"
     ]
    },
    {
     "name": "stdout",
     "output_type": "stream",
     "text": [
      "\u001b[1m200/200\u001b[0m \u001b[32m━━━━━━━━━━━━━━━━━━━━\u001b[0m\u001b[37m\u001b[0m \u001b[1m1s\u001b[0m 5ms/step - loss: 0.0367 - mae: 0.0889 - mse: 0.0233 - val_loss: 0.0358 - val_mae: 0.0827 - val_mse: 0.0226 - learning_rate: 5.0000e-04\n",
      "Epoch 108/500\n",
      "\u001b[1m200/200\u001b[0m \u001b[32m━━━━━━━━━━━━━━━━━━━━\u001b[0m\u001b[37m\u001b[0m \u001b[1m1s\u001b[0m 6ms/step - loss: 0.0362 - mae: 0.0885 - mse: 0.0230 - val_loss: 0.0360 - val_mae: 0.0812 - val_mse: 0.0229 - learning_rate: 5.0000e-04\n",
      "Epoch 109/500\n",
      "\u001b[1m198/200\u001b[0m \u001b[32m━━━━━━━━━━━━━━━━━━━\u001b[0m\u001b[37m━\u001b[0m \u001b[1m0s\u001b[0m 5ms/step - loss: 0.0361 - mae: 0.0884 - mse: 0.0231"
     ]
    },
    {
     "name": "stderr",
     "output_type": "stream",
     "text": [
      "WARNING:absl:You are saving your model as an HDF5 file via `model.save()` or `keras.saving.save_model(model)`. This file format is considered legacy. We recommend using instead the native Keras format, e.g. `model.save('my_model.keras')` or `keras.saving.save_model(model, 'my_model.keras')`. \n"
     ]
    },
    {
     "name": "stdout",
     "output_type": "stream",
     "text": [
      "\u001b[1m200/200\u001b[0m \u001b[32m━━━━━━━━━━━━━━━━━━━━\u001b[0m\u001b[37m\u001b[0m \u001b[1m1s\u001b[0m 6ms/step - loss: 0.0361 - mae: 0.0884 - mse: 0.0231 - val_loss: 0.0357 - val_mae: 0.0821 - val_mse: 0.0228 - learning_rate: 5.0000e-04\n",
      "Epoch 110/500\n",
      "\u001b[1m194/200\u001b[0m \u001b[32m━━━━━━━━━━━━━━━━━━━\u001b[0m\u001b[37m━\u001b[0m \u001b[1m0s\u001b[0m 5ms/step - loss: 0.0362 - mae: 0.0891 - mse: 0.0233"
     ]
    },
    {
     "name": "stderr",
     "output_type": "stream",
     "text": [
      "WARNING:absl:You are saving your model as an HDF5 file via `model.save()` or `keras.saving.save_model(model)`. This file format is considered legacy. We recommend using instead the native Keras format, e.g. `model.save('my_model.keras')` or `keras.saving.save_model(model, 'my_model.keras')`. \n"
     ]
    },
    {
     "name": "stdout",
     "output_type": "stream",
     "text": [
      "\u001b[1m200/200\u001b[0m \u001b[32m━━━━━━━━━━━━━━━━━━━━\u001b[0m\u001b[37m\u001b[0m \u001b[1m1s\u001b[0m 5ms/step - loss: 0.0362 - mae: 0.0891 - mse: 0.0233 - val_loss: 0.0355 - val_mae: 0.0826 - val_mse: 0.0227 - learning_rate: 5.0000e-04\n",
      "Epoch 111/500\n",
      "\u001b[1m200/200\u001b[0m \u001b[32m━━━━━━━━━━━━━━━━━━━━\u001b[0m\u001b[37m\u001b[0m \u001b[1m0s\u001b[0m 5ms/step - loss: 0.0360 - mae: 0.0893 - mse: 0.0233"
     ]
    },
    {
     "name": "stderr",
     "output_type": "stream",
     "text": [
      "WARNING:absl:You are saving your model as an HDF5 file via `model.save()` or `keras.saving.save_model(model)`. This file format is considered legacy. We recommend using instead the native Keras format, e.g. `model.save('my_model.keras')` or `keras.saving.save_model(model, 'my_model.keras')`. \n"
     ]
    },
    {
     "name": "stdout",
     "output_type": "stream",
     "text": [
      "\u001b[1m200/200\u001b[0m \u001b[32m━━━━━━━━━━━━━━━━━━━━\u001b[0m\u001b[37m\u001b[0m \u001b[1m1s\u001b[0m 5ms/step - loss: 0.0360 - mae: 0.0893 - mse: 0.0233 - val_loss: 0.0353 - val_mae: 0.0827 - val_mse: 0.0227 - learning_rate: 5.0000e-04\n",
      "Epoch 112/500\n",
      "\u001b[1m200/200\u001b[0m \u001b[32m━━━━━━━━━━━━━━━━━━━━\u001b[0m\u001b[37m\u001b[0m \u001b[1m1s\u001b[0m 5ms/step - loss: 0.0361 - mae: 0.0887 - mse: 0.0235 - val_loss: 0.0353 - val_mae: 0.0826 - val_mse: 0.0228 - learning_rate: 5.0000e-04\n",
      "Epoch 113/500\n",
      "\u001b[1m200/200\u001b[0m \u001b[32m━━━━━━━━━━━━━━━━━━━━\u001b[0m\u001b[37m\u001b[0m \u001b[1m1s\u001b[0m 5ms/step - loss: 0.0354 - mae: 0.0887 - mse: 0.0229 - val_loss: 0.0355 - val_mae: 0.0828 - val_mse: 0.0231 - learning_rate: 5.0000e-04\n",
      "Epoch 114/500\n",
      "\u001b[1m200/200\u001b[0m \u001b[32m━━━━━━━━━━━━━━━━━━━━\u001b[0m\u001b[37m\u001b[0m \u001b[1m1s\u001b[0m 5ms/step - loss: 0.0350 - mae: 0.0885 - mse: 0.0227 - val_loss: 0.0355 - val_mae: 0.0824 - val_mse: 0.0233 - learning_rate: 5.0000e-04\n",
      "Epoch 115/500\n",
      "\u001b[1m200/200\u001b[0m \u001b[32m━━━━━━━━━━━━━━━━━━━━\u001b[0m\u001b[37m\u001b[0m \u001b[1m1s\u001b[0m 5ms/step - loss: 0.0353 - mae: 0.0878 - mse: 0.0231 - val_loss: 0.0353 - val_mae: 0.0830 - val_mse: 0.0232 - learning_rate: 5.0000e-04\n",
      "Epoch 116/500\n",
      "\u001b[1m197/200\u001b[0m \u001b[32m━━━━━━━━━━━━━━━━━━━\u001b[0m\u001b[37m━\u001b[0m \u001b[1m0s\u001b[0m 5ms/step - loss: 0.0351 - mae: 0.0888 - mse: 0.0231"
     ]
    },
    {
     "name": "stderr",
     "output_type": "stream",
     "text": [
      "WARNING:absl:You are saving your model as an HDF5 file via `model.save()` or `keras.saving.save_model(model)`. This file format is considered legacy. We recommend using instead the native Keras format, e.g. `model.save('my_model.keras')` or `keras.saving.save_model(model, 'my_model.keras')`. \n"
     ]
    },
    {
     "name": "stdout",
     "output_type": "stream",
     "text": [
      "\u001b[1m200/200\u001b[0m \u001b[32m━━━━━━━━━━━━━━━━━━━━\u001b[0m\u001b[37m\u001b[0m \u001b[1m1s\u001b[0m 5ms/step - loss: 0.0351 - mae: 0.0888 - mse: 0.0231 - val_loss: 0.0342 - val_mae: 0.0814 - val_mse: 0.0222 - learning_rate: 5.0000e-04\n",
      "Epoch 117/500\n",
      "\u001b[1m200/200\u001b[0m \u001b[32m━━━━━━━━━━━━━━━━━━━━\u001b[0m\u001b[37m\u001b[0m \u001b[1m1s\u001b[0m 6ms/step - loss: 0.0350 - mae: 0.0881 - mse: 0.0231 - val_loss: 0.0351 - val_mae: 0.0883 - val_mse: 0.0233 - learning_rate: 5.0000e-04\n",
      "Epoch 118/500\n",
      "\u001b[1m200/200\u001b[0m \u001b[32m━━━━━━━━━━━━━━━━━━━━\u001b[0m\u001b[37m\u001b[0m \u001b[1m1s\u001b[0m 5ms/step - loss: 0.0348 - mae: 0.0886 - mse: 0.0230 - val_loss: 0.0345 - val_mae: 0.0826 - val_mse: 0.0228 - learning_rate: 5.0000e-04\n",
      "Epoch 119/500\n",
      "\u001b[1m200/200\u001b[0m \u001b[32m━━━━━━━━━━━━━━━━━━━━\u001b[0m\u001b[37m\u001b[0m \u001b[1m1s\u001b[0m 5ms/step - loss: 0.0346 - mae: 0.0876 - mse: 0.0229 - val_loss: 0.0344 - val_mae: 0.0824 - val_mse: 0.0228 - learning_rate: 5.0000e-04\n",
      "Epoch 120/500\n",
      "\u001b[1m200/200\u001b[0m \u001b[32m━━━━━━━━━━━━━━━━━━━━\u001b[0m\u001b[37m\u001b[0m \u001b[1m1s\u001b[0m 5ms/step - loss: 0.0341 - mae: 0.0865 - mse: 0.0225 - val_loss: 0.0356 - val_mae: 0.0840 - val_mse: 0.0241 - learning_rate: 5.0000e-04\n",
      "Epoch 121/500\n",
      "\u001b[1m192/200\u001b[0m \u001b[32m━━━━━━━━━━━━━━━━━━━\u001b[0m\u001b[37m━\u001b[0m \u001b[1m0s\u001b[0m 5ms/step - loss: 0.0350 - mae: 0.0885 - mse: 0.0236"
     ]
    },
    {
     "name": "stderr",
     "output_type": "stream",
     "text": [
      "WARNING:absl:You are saving your model as an HDF5 file via `model.save()` or `keras.saving.save_model(model)`. This file format is considered legacy. We recommend using instead the native Keras format, e.g. `model.save('my_model.keras')` or `keras.saving.save_model(model, 'my_model.keras')`. \n"
     ]
    },
    {
     "name": "stdout",
     "output_type": "stream",
     "text": [
      "\u001b[1m200/200\u001b[0m \u001b[32m━━━━━━━━━━━━━━━━━━━━\u001b[0m\u001b[37m\u001b[0m \u001b[1m1s\u001b[0m 5ms/step - loss: 0.0350 - mae: 0.0885 - mse: 0.0236 - val_loss: 0.0338 - val_mae: 0.0810 - val_mse: 0.0224 - learning_rate: 5.0000e-04\n",
      "Epoch 122/500\n",
      "\u001b[1m200/200\u001b[0m \u001b[32m━━━━━━━━━━━━━━━━━━━━\u001b[0m\u001b[37m\u001b[0m \u001b[1m1s\u001b[0m 6ms/step - loss: 0.0343 - mae: 0.0877 - mse: 0.0230 - val_loss: 0.0338 - val_mae: 0.0823 - val_mse: 0.0226 - learning_rate: 5.0000e-04\n",
      "Epoch 123/500\n",
      "\u001b[1m197/200\u001b[0m \u001b[32m━━━━━━━━━━━━━━━━━━━\u001b[0m\u001b[37m━\u001b[0m \u001b[1m0s\u001b[0m 5ms/step - loss: 0.0339 - mae: 0.0877 - mse: 0.0227"
     ]
    },
    {
     "name": "stderr",
     "output_type": "stream",
     "text": [
      "WARNING:absl:You are saving your model as an HDF5 file via `model.save()` or `keras.saving.save_model(model)`. This file format is considered legacy. We recommend using instead the native Keras format, e.g. `model.save('my_model.keras')` or `keras.saving.save_model(model, 'my_model.keras')`. \n"
     ]
    },
    {
     "name": "stdout",
     "output_type": "stream",
     "text": [
      "\u001b[1m200/200\u001b[0m \u001b[32m━━━━━━━━━━━━━━━━━━━━\u001b[0m\u001b[37m\u001b[0m \u001b[1m1s\u001b[0m 5ms/step - loss: 0.0339 - mae: 0.0877 - mse: 0.0227 - val_loss: 0.0332 - val_mae: 0.0814 - val_mse: 0.0221 - learning_rate: 5.0000e-04\n",
      "Epoch 124/500\n",
      "\u001b[1m200/200\u001b[0m \u001b[32m━━━━━━━━━━━━━━━━━━━━\u001b[0m\u001b[37m\u001b[0m \u001b[1m1s\u001b[0m 5ms/step - loss: 0.0337 - mae: 0.0878 - mse: 0.0226 - val_loss: 0.0344 - val_mae: 0.0849 - val_mse: 0.0233 - learning_rate: 5.0000e-04\n",
      "Epoch 125/500\n",
      "\u001b[1m200/200\u001b[0m \u001b[32m━━━━━━━━━━━━━━━━━━━━\u001b[0m\u001b[37m\u001b[0m \u001b[1m1s\u001b[0m 5ms/step - loss: 0.0335 - mae: 0.0875 - mse: 0.0225 - val_loss: 0.0341 - val_mae: 0.0853 - val_mse: 0.0232 - learning_rate: 5.0000e-04\n",
      "Epoch 126/500\n",
      "\u001b[1m200/200\u001b[0m \u001b[32m━━━━━━━━━━━━━━━━━━━━\u001b[0m\u001b[37m\u001b[0m \u001b[1m1s\u001b[0m 5ms/step - loss: 0.0333 - mae: 0.0878 - mse: 0.0224 - val_loss: 0.0333 - val_mae: 0.0814 - val_mse: 0.0225 - learning_rate: 5.0000e-04\n",
      "Epoch 127/500\n",
      "\u001b[1m200/200\u001b[0m \u001b[32m━━━━━━━━━━━━━━━━━━━━\u001b[0m\u001b[37m\u001b[0m \u001b[1m1s\u001b[0m 6ms/step - loss: 0.0333 - mae: 0.0874 - mse: 0.0225 - val_loss: 0.0336 - val_mae: 0.0828 - val_mse: 0.0229 - learning_rate: 5.0000e-04\n",
      "Epoch 128/500\n",
      "\u001b[1m200/200\u001b[0m \u001b[32m━━━━━━━━━━━━━━━━━━━━\u001b[0m\u001b[37m\u001b[0m \u001b[1m1s\u001b[0m 6ms/step - loss: 0.0330 - mae: 0.0867 - mse: 0.0224 - val_loss: 0.0333 - val_mae: 0.0828 - val_mse: 0.0227 - learning_rate: 5.0000e-04\n",
      "Epoch 129/500\n",
      "\u001b[1m199/200\u001b[0m \u001b[32m━━━━━━━━━━━━━━━━━━━\u001b[0m\u001b[37m━\u001b[0m \u001b[1m0s\u001b[0m 5ms/step - loss: 0.0331 - mae: 0.0876 - mse: 0.0225"
     ]
    },
    {
     "name": "stderr",
     "output_type": "stream",
     "text": [
      "WARNING:absl:You are saving your model as an HDF5 file via `model.save()` or `keras.saving.save_model(model)`. This file format is considered legacy. We recommend using instead the native Keras format, e.g. `model.save('my_model.keras')` or `keras.saving.save_model(model, 'my_model.keras')`. \n"
     ]
    },
    {
     "name": "stdout",
     "output_type": "stream",
     "text": [
      "\u001b[1m200/200\u001b[0m \u001b[32m━━━━━━━━━━━━━━━━━━━━\u001b[0m\u001b[37m\u001b[0m \u001b[1m1s\u001b[0m 6ms/step - loss: 0.0331 - mae: 0.0876 - mse: 0.0225 - val_loss: 0.0329 - val_mae: 0.0826 - val_mse: 0.0224 - learning_rate: 5.0000e-04\n",
      "Epoch 130/500\n",
      "\u001b[1m200/200\u001b[0m \u001b[32m━━━━━━━━━━━━━━━━━━━━\u001b[0m\u001b[37m\u001b[0m \u001b[1m1s\u001b[0m 6ms/step - loss: 0.0329 - mae: 0.0871 - mse: 0.0224 - val_loss: 0.0331 - val_mae: 0.0809 - val_mse: 0.0227 - learning_rate: 5.0000e-04\n",
      "Epoch 131/500\n",
      "\u001b[1m200/200\u001b[0m \u001b[32m━━━━━━━━━━━━━━━━━━━━\u001b[0m\u001b[37m\u001b[0m \u001b[1m1s\u001b[0m 5ms/step - loss: 0.0324 - mae: 0.0865 - mse: 0.0221 - val_loss: 0.0333 - val_mae: 0.0814 - val_mse: 0.0230 - learning_rate: 5.0000e-04\n",
      "Epoch 132/500\n",
      "\u001b[1m194/200\u001b[0m \u001b[32m━━━━━━━━━━━━━━━━━━━\u001b[0m\u001b[37m━\u001b[0m \u001b[1m0s\u001b[0m 5ms/step - loss: 0.0326 - mae: 0.0868 - mse: 0.0224"
     ]
    },
    {
     "name": "stderr",
     "output_type": "stream",
     "text": [
      "WARNING:absl:You are saving your model as an HDF5 file via `model.save()` or `keras.saving.save_model(model)`. This file format is considered legacy. We recommend using instead the native Keras format, e.g. `model.save('my_model.keras')` or `keras.saving.save_model(model, 'my_model.keras')`. \n"
     ]
    },
    {
     "name": "stdout",
     "output_type": "stream",
     "text": [
      "\u001b[1m200/200\u001b[0m \u001b[32m━━━━━━━━━━━━━━━━━━━━\u001b[0m\u001b[37m\u001b[0m \u001b[1m1s\u001b[0m 5ms/step - loss: 0.0326 - mae: 0.0868 - mse: 0.0223 - val_loss: 0.0327 - val_mae: 0.0803 - val_mse: 0.0225 - learning_rate: 5.0000e-04\n",
      "Epoch 133/500\n",
      "\u001b[1m200/200\u001b[0m \u001b[32m━━━━━━━━━━━━━━━━━━━━\u001b[0m\u001b[37m\u001b[0m \u001b[1m1s\u001b[0m 5ms/step - loss: 0.0326 - mae: 0.0871 - mse: 0.0225 - val_loss: 0.0356 - val_mae: 0.0848 - val_mse: 0.0255 - learning_rate: 5.0000e-04\n",
      "Epoch 134/500\n",
      "\u001b[1m200/200\u001b[0m \u001b[32m━━━━━━━━━━━━━━━━━━━━\u001b[0m\u001b[37m\u001b[0m \u001b[1m1s\u001b[0m 5ms/step - loss: 0.0329 - mae: 0.0874 - mse: 0.0228 - val_loss: 0.0329 - val_mae: 0.0817 - val_mse: 0.0229 - learning_rate: 5.0000e-04\n",
      "Epoch 135/500\n",
      "\u001b[1m199/200\u001b[0m \u001b[32m━━━━━━━━━━━━━━━━━━━\u001b[0m\u001b[37m━\u001b[0m \u001b[1m0s\u001b[0m 5ms/step - loss: 0.0324 - mae: 0.0870 - mse: 0.0224"
     ]
    },
    {
     "name": "stderr",
     "output_type": "stream",
     "text": [
      "WARNING:absl:You are saving your model as an HDF5 file via `model.save()` or `keras.saving.save_model(model)`. This file format is considered legacy. We recommend using instead the native Keras format, e.g. `model.save('my_model.keras')` or `keras.saving.save_model(model, 'my_model.keras')`. \n"
     ]
    },
    {
     "name": "stdout",
     "output_type": "stream",
     "text": [
      "\u001b[1m200/200\u001b[0m \u001b[32m━━━━━━━━━━━━━━━━━━━━\u001b[0m\u001b[37m\u001b[0m \u001b[1m1s\u001b[0m 6ms/step - loss: 0.0324 - mae: 0.0870 - mse: 0.0224 - val_loss: 0.0322 - val_mae: 0.0811 - val_mse: 0.0223 - learning_rate: 5.0000e-04\n",
      "Epoch 136/500\n",
      "\u001b[1m195/200\u001b[0m \u001b[32m━━━━━━━━━━━━━━━━━━━\u001b[0m\u001b[37m━\u001b[0m \u001b[1m0s\u001b[0m 5ms/step - loss: 0.0325 - mae: 0.0869 - mse: 0.0226"
     ]
    },
    {
     "name": "stderr",
     "output_type": "stream",
     "text": [
      "WARNING:absl:You are saving your model as an HDF5 file via `model.save()` or `keras.saving.save_model(model)`. This file format is considered legacy. We recommend using instead the native Keras format, e.g. `model.save('my_model.keras')` or `keras.saving.save_model(model, 'my_model.keras')`. \n"
     ]
    },
    {
     "name": "stdout",
     "output_type": "stream",
     "text": [
      "\u001b[1m200/200\u001b[0m \u001b[32m━━━━━━━━━━━━━━━━━━━━\u001b[0m\u001b[37m\u001b[0m \u001b[1m1s\u001b[0m 5ms/step - loss: 0.0325 - mae: 0.0869 - mse: 0.0226 - val_loss: 0.0317 - val_mae: 0.0797 - val_mse: 0.0218 - learning_rate: 5.0000e-04\n",
      "Epoch 137/500\n",
      "\u001b[1m200/200\u001b[0m \u001b[32m━━━━━━━━━━━━━━━━━━━━\u001b[0m\u001b[37m\u001b[0m \u001b[1m1s\u001b[0m 5ms/step - loss: 0.0315 - mae: 0.0859 - mse: 0.0217 - val_loss: 0.0324 - val_mae: 0.0833 - val_mse: 0.0226 - learning_rate: 5.0000e-04\n",
      "Epoch 138/500\n",
      "\u001b[1m200/200\u001b[0m \u001b[32m━━━━━━━━━━━━━━━━━━━━\u001b[0m\u001b[37m\u001b[0m \u001b[1m1s\u001b[0m 5ms/step - loss: 0.0325 - mae: 0.0872 - mse: 0.0228 - val_loss: 0.0326 - val_mae: 0.0812 - val_mse: 0.0229 - learning_rate: 5.0000e-04\n",
      "Epoch 139/500\n",
      "\u001b[1m200/200\u001b[0m \u001b[32m━━━━━━━━━━━━━━━━━━━━\u001b[0m\u001b[37m\u001b[0m \u001b[1m1s\u001b[0m 5ms/step - loss: 0.0316 - mae: 0.0858 - mse: 0.0219 - val_loss: 0.0322 - val_mae: 0.0814 - val_mse: 0.0226 - learning_rate: 5.0000e-04\n",
      "Epoch 140/500\n",
      "\u001b[1m200/200\u001b[0m \u001b[32m━━━━━━━━━━━━━━━━━━━━\u001b[0m\u001b[37m\u001b[0m \u001b[1m1s\u001b[0m 5ms/step - loss: 0.0313 - mae: 0.0857 - mse: 0.0217 - val_loss: 0.0319 - val_mae: 0.0820 - val_mse: 0.0224 - learning_rate: 5.0000e-04\n",
      "Epoch 141/500\n",
      "\u001b[1m200/200\u001b[0m \u001b[32m━━━━━━━━━━━━━━━━━━━━\u001b[0m\u001b[37m\u001b[0m \u001b[1m1s\u001b[0m 5ms/step - loss: 0.0314 - mae: 0.0860 - mse: 0.0219 - val_loss: 0.0319 - val_mae: 0.0814 - val_mse: 0.0225 - learning_rate: 5.0000e-04\n",
      "Epoch 142/500\n",
      "\u001b[1m200/200\u001b[0m \u001b[32m━━━━━━━━━━━━━━━━━━━━\u001b[0m\u001b[37m\u001b[0m \u001b[1m1s\u001b[0m 5ms/step - loss: 0.0317 - mae: 0.0871 - mse: 0.0223 - val_loss: 0.0320 - val_mae: 0.0820 - val_mse: 0.0227 - learning_rate: 5.0000e-04\n",
      "Epoch 143/500\n",
      "\u001b[1m200/200\u001b[0m \u001b[32m━━━━━━━━━━━━━━━━━━━━\u001b[0m\u001b[37m\u001b[0m \u001b[1m1s\u001b[0m 6ms/step - loss: 0.0311 - mae: 0.0857 - mse: 0.0217 - val_loss: 0.0322 - val_mae: 0.0807 - val_mse: 0.0230 - learning_rate: 5.0000e-04\n",
      "Epoch 144/500\n",
      "\u001b[1m200/200\u001b[0m \u001b[32m━━━━━━━━━━━━━━━━━━━━\u001b[0m\u001b[37m\u001b[0m \u001b[1m1s\u001b[0m 5ms/step - loss: 0.0315 - mae: 0.0866 - mse: 0.0223 - val_loss: 0.0324 - val_mae: 0.0823 - val_mse: 0.0232 - learning_rate: 5.0000e-04\n",
      "Epoch 145/500\n",
      "\u001b[1m198/200\u001b[0m \u001b[32m━━━━━━━━━━━━━━━━━━━\u001b[0m\u001b[37m━\u001b[0m \u001b[1m0s\u001b[0m 5ms/step - loss: 0.0311 - mae: 0.0855 - mse: 0.0219"
     ]
    },
    {
     "name": "stderr",
     "output_type": "stream",
     "text": [
      "WARNING:absl:You are saving your model as an HDF5 file via `model.save()` or `keras.saving.save_model(model)`. This file format is considered legacy. We recommend using instead the native Keras format, e.g. `model.save('my_model.keras')` or `keras.saving.save_model(model, 'my_model.keras')`. \n"
     ]
    },
    {
     "name": "stdout",
     "output_type": "stream",
     "text": [
      "\u001b[1m200/200\u001b[0m \u001b[32m━━━━━━━━━━━━━━━━━━━━\u001b[0m\u001b[37m\u001b[0m \u001b[1m1s\u001b[0m 5ms/step - loss: 0.0311 - mae: 0.0855 - mse: 0.0219 - val_loss: 0.0316 - val_mae: 0.0806 - val_mse: 0.0224 - learning_rate: 5.0000e-04\n",
      "Epoch 146/500\n",
      "\u001b[1m197/200\u001b[0m \u001b[32m━━━━━━━━━━━━━━━━━━━\u001b[0m\u001b[37m━\u001b[0m \u001b[1m0s\u001b[0m 5ms/step - loss: 0.0311 - mae: 0.0863 - mse: 0.0220"
     ]
    },
    {
     "name": "stderr",
     "output_type": "stream",
     "text": [
      "WARNING:absl:You are saving your model as an HDF5 file via `model.save()` or `keras.saving.save_model(model)`. This file format is considered legacy. We recommend using instead the native Keras format, e.g. `model.save('my_model.keras')` or `keras.saving.save_model(model, 'my_model.keras')`. \n"
     ]
    },
    {
     "name": "stdout",
     "output_type": "stream",
     "text": [
      "\u001b[1m200/200\u001b[0m \u001b[32m━━━━━━━━━━━━━━━━━━━━\u001b[0m\u001b[37m\u001b[0m \u001b[1m1s\u001b[0m 5ms/step - loss: 0.0311 - mae: 0.0863 - mse: 0.0220 - val_loss: 0.0314 - val_mae: 0.0813 - val_mse: 0.0224 - learning_rate: 5.0000e-04\n",
      "Epoch 147/500\n",
      "\u001b[1m190/200\u001b[0m \u001b[32m━━━━━━━━━━━━━━━━━━━\u001b[0m\u001b[37m━\u001b[0m \u001b[1m0s\u001b[0m 5ms/step - loss: 0.0313 - mae: 0.0870 - mse: 0.0222"
     ]
    },
    {
     "name": "stderr",
     "output_type": "stream",
     "text": [
      "WARNING:absl:You are saving your model as an HDF5 file via `model.save()` or `keras.saving.save_model(model)`. This file format is considered legacy. We recommend using instead the native Keras format, e.g. `model.save('my_model.keras')` or `keras.saving.save_model(model, 'my_model.keras')`. \n"
     ]
    },
    {
     "name": "stdout",
     "output_type": "stream",
     "text": [
      "\u001b[1m200/200\u001b[0m \u001b[32m━━━━━━━━━━━━━━━━━━━━\u001b[0m\u001b[37m\u001b[0m \u001b[1m1s\u001b[0m 5ms/step - loss: 0.0312 - mae: 0.0870 - mse: 0.0222 - val_loss: 0.0312 - val_mae: 0.0808 - val_mse: 0.0223 - learning_rate: 5.0000e-04\n",
      "Epoch 148/500\n",
      "\u001b[1m191/200\u001b[0m \u001b[32m━━━━━━━━━━━━━━━━━━━\u001b[0m\u001b[37m━\u001b[0m \u001b[1m0s\u001b[0m 5ms/step - loss: 0.0310 - mae: 0.0860 - mse: 0.0220"
     ]
    },
    {
     "name": "stderr",
     "output_type": "stream",
     "text": [
      "WARNING:absl:You are saving your model as an HDF5 file via `model.save()` or `keras.saving.save_model(model)`. This file format is considered legacy. We recommend using instead the native Keras format, e.g. `model.save('my_model.keras')` or `keras.saving.save_model(model, 'my_model.keras')`. \n"
     ]
    },
    {
     "name": "stdout",
     "output_type": "stream",
     "text": [
      "\u001b[1m200/200\u001b[0m \u001b[32m━━━━━━━━━━━━━━━━━━━━\u001b[0m\u001b[37m\u001b[0m \u001b[1m1s\u001b[0m 5ms/step - loss: 0.0310 - mae: 0.0860 - mse: 0.0220 - val_loss: 0.0311 - val_mae: 0.0833 - val_mse: 0.0222 - learning_rate: 5.0000e-04\n",
      "Epoch 149/500\n",
      "\u001b[1m200/200\u001b[0m \u001b[32m━━━━━━━━━━━━━━━━━━━━\u001b[0m\u001b[37m\u001b[0m \u001b[1m1s\u001b[0m 5ms/step - loss: 0.0309 - mae: 0.0871 - mse: 0.0220 - val_loss: 0.0315 - val_mae: 0.0821 - val_mse: 0.0226 - learning_rate: 5.0000e-04\n",
      "Epoch 150/500\n",
      "\u001b[1m200/200\u001b[0m \u001b[32m━━━━━━━━━━━━━━━━━━━━\u001b[0m\u001b[37m\u001b[0m \u001b[1m1s\u001b[0m 5ms/step - loss: 0.0304 - mae: 0.0856 - mse: 0.0216 - val_loss: 0.0319 - val_mae: 0.0850 - val_mse: 0.0231 - learning_rate: 5.0000e-04\n",
      "Epoch 151/500\n",
      "\u001b[1m200/200\u001b[0m \u001b[32m━━━━━━━━━━━━━━━━━━━━\u001b[0m\u001b[37m\u001b[0m \u001b[1m1s\u001b[0m 5ms/step - loss: 0.0303 - mae: 0.0862 - mse: 0.0216 - val_loss: 0.0315 - val_mae: 0.0827 - val_mse: 0.0228 - learning_rate: 5.0000e-04\n",
      "Epoch 152/500\n",
      "\u001b[1m196/200\u001b[0m \u001b[32m━━━━━━━━━━━━━━━━━━━\u001b[0m\u001b[37m━\u001b[0m \u001b[1m0s\u001b[0m 5ms/step - loss: 0.0306 - mae: 0.0865 - mse: 0.0219"
     ]
    },
    {
     "name": "stderr",
     "output_type": "stream",
     "text": [
      "WARNING:absl:You are saving your model as an HDF5 file via `model.save()` or `keras.saving.save_model(model)`. This file format is considered legacy. We recommend using instead the native Keras format, e.g. `model.save('my_model.keras')` or `keras.saving.save_model(model, 'my_model.keras')`. \n"
     ]
    },
    {
     "name": "stdout",
     "output_type": "stream",
     "text": [
      "\u001b[1m200/200\u001b[0m \u001b[32m━━━━━━━━━━━━━━━━━━━━\u001b[0m\u001b[37m\u001b[0m \u001b[1m1s\u001b[0m 5ms/step - loss: 0.0306 - mae: 0.0865 - mse: 0.0219 - val_loss: 0.0310 - val_mae: 0.0803 - val_mse: 0.0224 - learning_rate: 5.0000e-04\n",
      "Epoch 153/500\n",
      "\u001b[1m200/200\u001b[0m \u001b[32m━━━━━━━━━━━━━━━━━━━━\u001b[0m\u001b[37m\u001b[0m \u001b[1m1s\u001b[0m 5ms/step - loss: 0.0302 - mae: 0.0858 - mse: 0.0216 - val_loss: 0.0311 - val_mae: 0.0803 - val_mse: 0.0225 - learning_rate: 5.0000e-04\n",
      "Epoch 154/500\n",
      "\u001b[1m200/200\u001b[0m \u001b[32m━━━━━━━━━━━━━━━━━━━━\u001b[0m\u001b[37m\u001b[0m \u001b[1m1s\u001b[0m 5ms/step - loss: 0.0308 - mae: 0.0865 - mse: 0.0222 - val_loss: 0.0314 - val_mae: 0.0819 - val_mse: 0.0229 - learning_rate: 5.0000e-04\n",
      "Epoch 155/500\n",
      "\u001b[1m200/200\u001b[0m \u001b[32m━━━━━━━━━━━━━━━━━━━━\u001b[0m\u001b[37m\u001b[0m \u001b[1m0s\u001b[0m 5ms/step - loss: 0.0300 - mae: 0.0855 - mse: 0.0215"
     ]
    },
    {
     "name": "stderr",
     "output_type": "stream",
     "text": [
      "WARNING:absl:You are saving your model as an HDF5 file via `model.save()` or `keras.saving.save_model(model)`. This file format is considered legacy. We recommend using instead the native Keras format, e.g. `model.save('my_model.keras')` or `keras.saving.save_model(model, 'my_model.keras')`. \n"
     ]
    },
    {
     "name": "stdout",
     "output_type": "stream",
     "text": [
      "\u001b[1m200/200\u001b[0m \u001b[32m━━━━━━━━━━━━━━━━━━━━\u001b[0m\u001b[37m\u001b[0m \u001b[1m1s\u001b[0m 5ms/step - loss: 0.0300 - mae: 0.0855 - mse: 0.0215 - val_loss: 0.0308 - val_mae: 0.0809 - val_mse: 0.0223 - learning_rate: 5.0000e-04\n",
      "Epoch 156/500\n",
      "\u001b[1m200/200\u001b[0m \u001b[32m━━━━━━━━━━━━━━━━━━━━\u001b[0m\u001b[37m\u001b[0m \u001b[1m1s\u001b[0m 5ms/step - loss: 0.0304 - mae: 0.0858 - mse: 0.0220 - val_loss: 0.0309 - val_mae: 0.0811 - val_mse: 0.0226 - learning_rate: 5.0000e-04\n",
      "Epoch 157/500\n",
      "\u001b[1m200/200\u001b[0m \u001b[32m━━━━━━━━━━━━━━━━━━━━\u001b[0m\u001b[37m\u001b[0m \u001b[1m1s\u001b[0m 5ms/step - loss: 0.0299 - mae: 0.0854 - mse: 0.0215 - val_loss: 0.0318 - val_mae: 0.0832 - val_mse: 0.0235 - learning_rate: 5.0000e-04\n",
      "Epoch 158/500\n",
      "\u001b[1m200/200\u001b[0m \u001b[32m━━━━━━━━━━━━━━━━━━━━\u001b[0m\u001b[37m\u001b[0m \u001b[1m1s\u001b[0m 5ms/step - loss: 0.0300 - mae: 0.0862 - mse: 0.0216 - val_loss: 0.0329 - val_mae: 0.0845 - val_mse: 0.0246 - learning_rate: 5.0000e-04\n",
      "Epoch 159/500\n",
      "\u001b[1m198/200\u001b[0m \u001b[32m━━━━━━━━━━━━━━━━━━━\u001b[0m\u001b[37m━\u001b[0m \u001b[1m0s\u001b[0m 5ms/step - loss: 0.0304 - mae: 0.0865 - mse: 0.0221"
     ]
    },
    {
     "name": "stderr",
     "output_type": "stream",
     "text": [
      "WARNING:absl:You are saving your model as an HDF5 file via `model.save()` or `keras.saving.save_model(model)`. This file format is considered legacy. We recommend using instead the native Keras format, e.g. `model.save('my_model.keras')` or `keras.saving.save_model(model, 'my_model.keras')`. \n"
     ]
    },
    {
     "name": "stdout",
     "output_type": "stream",
     "text": [
      "\u001b[1m200/200\u001b[0m \u001b[32m━━━━━━━━━━━━━━━━━━━━\u001b[0m\u001b[37m\u001b[0m \u001b[1m1s\u001b[0m 5ms/step - loss: 0.0304 - mae: 0.0865 - mse: 0.0221 - val_loss: 0.0298 - val_mae: 0.0803 - val_mse: 0.0216 - learning_rate: 5.0000e-04\n",
      "Epoch 160/500\n",
      "\u001b[1m200/200\u001b[0m \u001b[32m━━━━━━━━━━━━━━━━━━━━\u001b[0m\u001b[37m\u001b[0m \u001b[1m1s\u001b[0m 6ms/step - loss: 0.0300 - mae: 0.0860 - mse: 0.0218 - val_loss: 0.0305 - val_mae: 0.0803 - val_mse: 0.0223 - learning_rate: 5.0000e-04\n",
      "Epoch 161/500\n",
      "\u001b[1m194/200\u001b[0m \u001b[32m━━━━━━━━━━━━━━━━━━━\u001b[0m\u001b[37m━\u001b[0m \u001b[1m0s\u001b[0m 5ms/step - loss: 0.0295 - mae: 0.0851 - mse: 0.0213"
     ]
    },
    {
     "name": "stderr",
     "output_type": "stream",
     "text": [
      "WARNING:absl:You are saving your model as an HDF5 file via `model.save()` or `keras.saving.save_model(model)`. This file format is considered legacy. We recommend using instead the native Keras format, e.g. `model.save('my_model.keras')` or `keras.saving.save_model(model, 'my_model.keras')`. \n"
     ]
    },
    {
     "name": "stdout",
     "output_type": "stream",
     "text": [
      "\u001b[1m200/200\u001b[0m \u001b[32m━━━━━━━━━━━━━━━━━━━━\u001b[0m\u001b[37m\u001b[0m \u001b[1m1s\u001b[0m 6ms/step - loss: 0.0295 - mae: 0.0852 - mse: 0.0213 - val_loss: 0.0297 - val_mae: 0.0803 - val_mse: 0.0216 - learning_rate: 5.0000e-04\n",
      "Epoch 162/500\n",
      "\u001b[1m200/200\u001b[0m \u001b[32m━━━━━━━━━━━━━━━━━━━━\u001b[0m\u001b[37m\u001b[0m \u001b[1m1s\u001b[0m 5ms/step - loss: 0.0295 - mae: 0.0852 - mse: 0.0214 - val_loss: 0.0309 - val_mae: 0.0812 - val_mse: 0.0228 - learning_rate: 5.0000e-04\n",
      "Epoch 163/500\n",
      "\u001b[1m200/200\u001b[0m \u001b[32m━━━━━━━━━━━━━━━━━━━━\u001b[0m\u001b[37m\u001b[0m \u001b[1m1s\u001b[0m 5ms/step - loss: 0.0296 - mae: 0.0856 - mse: 0.0216 - val_loss: 0.0317 - val_mae: 0.0826 - val_mse: 0.0236 - learning_rate: 5.0000e-04\n",
      "Epoch 164/500\n",
      "\u001b[1m200/200\u001b[0m \u001b[32m━━━━━━━━━━━━━━━━━━━━\u001b[0m\u001b[37m\u001b[0m \u001b[1m1s\u001b[0m 6ms/step - loss: 0.0291 - mae: 0.0851 - mse: 0.0211 - val_loss: 0.0316 - val_mae: 0.0826 - val_mse: 0.0236 - learning_rate: 5.0000e-04\n",
      "Epoch 165/500\n",
      "\u001b[1m200/200\u001b[0m \u001b[32m━━━━━━━━━━━━━━━━━━━━\u001b[0m\u001b[37m\u001b[0m \u001b[1m1s\u001b[0m 5ms/step - loss: 0.0295 - mae: 0.0860 - mse: 0.0215 - val_loss: 0.0303 - val_mae: 0.0787 - val_mse: 0.0224 - learning_rate: 5.0000e-04\n",
      "Epoch 166/500\n",
      "\u001b[1m200/200\u001b[0m \u001b[32m━━━━━━━━━━━━━━━━━━━━\u001b[0m\u001b[37m\u001b[0m \u001b[1m1s\u001b[0m 5ms/step - loss: 0.0295 - mae: 0.0855 - mse: 0.0216 - val_loss: 0.0305 - val_mae: 0.0791 - val_mse: 0.0227 - learning_rate: 5.0000e-04\n",
      "Epoch 167/500\n",
      "\u001b[1m200/200\u001b[0m \u001b[32m━━━━━━━━━━━━━━━━━━━━\u001b[0m\u001b[37m\u001b[0m \u001b[1m1s\u001b[0m 5ms/step - loss: 0.0297 - mae: 0.0853 - mse: 0.0219 - val_loss: 0.0302 - val_mae: 0.0793 - val_mse: 0.0224 - learning_rate: 5.0000e-04\n",
      "Epoch 168/500\n",
      "\u001b[1m200/200\u001b[0m \u001b[32m━━━━━━━━━━━━━━━━━━━━\u001b[0m\u001b[37m\u001b[0m \u001b[1m1s\u001b[0m 5ms/step - loss: 0.0293 - mae: 0.0855 - mse: 0.0215 - val_loss: 0.0300 - val_mae: 0.0809 - val_mse: 0.0223 - learning_rate: 5.0000e-04\n",
      "Epoch 169/500\n",
      "\u001b[1m200/200\u001b[0m \u001b[32m━━━━━━━━━━━━━━━━━━━━\u001b[0m\u001b[37m\u001b[0m \u001b[1m1s\u001b[0m 5ms/step - loss: 0.0297 - mae: 0.0854 - mse: 0.0220 - val_loss: 0.0299 - val_mae: 0.0795 - val_mse: 0.0221 - learning_rate: 5.0000e-04\n",
      "Epoch 170/500\n",
      "\u001b[1m200/200\u001b[0m \u001b[32m━━━━━━━━━━━━━━━━━━━━\u001b[0m\u001b[37m\u001b[0m \u001b[1m0s\u001b[0m 5ms/step - loss: 0.0293 - mae: 0.0850 - mse: 0.0216"
     ]
    },
    {
     "name": "stderr",
     "output_type": "stream",
     "text": [
      "WARNING:absl:You are saving your model as an HDF5 file via `model.save()` or `keras.saving.save_model(model)`. This file format is considered legacy. We recommend using instead the native Keras format, e.g. `model.save('my_model.keras')` or `keras.saving.save_model(model, 'my_model.keras')`. \n"
     ]
    },
    {
     "name": "stdout",
     "output_type": "stream",
     "text": [
      "\u001b[1m200/200\u001b[0m \u001b[32m━━━━━━━━━━━━━━━━━━━━\u001b[0m\u001b[37m\u001b[0m \u001b[1m1s\u001b[0m 5ms/step - loss: 0.0293 - mae: 0.0850 - mse: 0.0216 - val_loss: 0.0295 - val_mae: 0.0797 - val_mse: 0.0219 - learning_rate: 5.0000e-04\n",
      "Epoch 171/500\n",
      "\u001b[1m200/200\u001b[0m \u001b[32m━━━━━━━━━━━━━━━━━━━━\u001b[0m\u001b[37m\u001b[0m \u001b[1m1s\u001b[0m 5ms/step - loss: 0.0289 - mae: 0.0847 - mse: 0.0212 - val_loss: 0.0300 - val_mae: 0.0814 - val_mse: 0.0223 - learning_rate: 5.0000e-04\n",
      "Epoch 172/500\n",
      "\u001b[1m200/200\u001b[0m \u001b[32m━━━━━━━━━━━━━━━━━━━━\u001b[0m\u001b[37m\u001b[0m \u001b[1m1s\u001b[0m 5ms/step - loss: 0.0286 - mae: 0.0854 - mse: 0.0210 - val_loss: 0.0295 - val_mae: 0.0795 - val_mse: 0.0220 - learning_rate: 5.0000e-04\n",
      "Epoch 173/500\n",
      "\u001b[1m200/200\u001b[0m \u001b[32m━━━━━━━━━━━━━━━━━━━━\u001b[0m\u001b[37m\u001b[0m \u001b[1m1s\u001b[0m 5ms/step - loss: 0.0286 - mae: 0.0846 - mse: 0.0210 - val_loss: 0.0300 - val_mae: 0.0808 - val_mse: 0.0225 - learning_rate: 5.0000e-04\n",
      "Epoch 174/500\n",
      "\u001b[1m200/200\u001b[0m \u001b[32m━━━━━━━━━━━━━━━━━━━━\u001b[0m\u001b[37m\u001b[0m \u001b[1m1s\u001b[0m 5ms/step - loss: 0.0296 - mae: 0.0860 - mse: 0.0221 - val_loss: 0.0299 - val_mae: 0.0803 - val_mse: 0.0224 - learning_rate: 5.0000e-04\n",
      "Epoch 175/500\n",
      "\u001b[1m200/200\u001b[0m \u001b[32m━━━━━━━━━━━━━━━━━━━━\u001b[0m\u001b[37m\u001b[0m \u001b[1m1s\u001b[0m 5ms/step - loss: 0.0280 - mae: 0.0840 - mse: 0.0206 - val_loss: 0.0301 - val_mae: 0.0791 - val_mse: 0.0227 - learning_rate: 5.0000e-04\n",
      "Epoch 176/500\n",
      "\u001b[1m200/200\u001b[0m \u001b[32m━━━━━━━━━━━━━━━━━━━━\u001b[0m\u001b[37m\u001b[0m \u001b[1m1s\u001b[0m 5ms/step - loss: 0.0281 - mae: 0.0842 - mse: 0.0207 - val_loss: 0.0313 - val_mae: 0.0797 - val_mse: 0.0239 - learning_rate: 5.0000e-04\n",
      "Epoch 177/500\n",
      "\u001b[1m196/200\u001b[0m \u001b[32m━━━━━━━━━━━━━━━━━━━\u001b[0m\u001b[37m━\u001b[0m \u001b[1m0s\u001b[0m 5ms/step - loss: 0.0290 - mae: 0.0860 - mse: 0.0216"
     ]
    },
    {
     "name": "stderr",
     "output_type": "stream",
     "text": [
      "WARNING:absl:You are saving your model as an HDF5 file via `model.save()` or `keras.saving.save_model(model)`. This file format is considered legacy. We recommend using instead the native Keras format, e.g. `model.save('my_model.keras')` or `keras.saving.save_model(model, 'my_model.keras')`. \n"
     ]
    },
    {
     "name": "stdout",
     "output_type": "stream",
     "text": [
      "\u001b[1m200/200\u001b[0m \u001b[32m━━━━━━━━━━━━━━━━━━━━\u001b[0m\u001b[37m\u001b[0m \u001b[1m1s\u001b[0m 6ms/step - loss: 0.0290 - mae: 0.0860 - mse: 0.0216 - val_loss: 0.0293 - val_mae: 0.0788 - val_mse: 0.0220 - learning_rate: 5.0000e-04\n",
      "Epoch 178/500\n",
      "\u001b[1m190/200\u001b[0m \u001b[32m━━━━━━━━━━━━━━━━━━━\u001b[0m\u001b[37m━\u001b[0m \u001b[1m0s\u001b[0m 5ms/step - loss: 0.0279 - mae: 0.0841 - mse: 0.0206"
     ]
    },
    {
     "name": "stderr",
     "output_type": "stream",
     "text": [
      "WARNING:absl:You are saving your model as an HDF5 file via `model.save()` or `keras.saving.save_model(model)`. This file format is considered legacy. We recommend using instead the native Keras format, e.g. `model.save('my_model.keras')` or `keras.saving.save_model(model, 'my_model.keras')`. \n"
     ]
    },
    {
     "name": "stdout",
     "output_type": "stream",
     "text": [
      "\u001b[1m200/200\u001b[0m \u001b[32m━━━━━━━━━━━━━━━━━━━━\u001b[0m\u001b[37m\u001b[0m \u001b[1m1s\u001b[0m 5ms/step - loss: 0.0279 - mae: 0.0841 - mse: 0.0206 - val_loss: 0.0290 - val_mae: 0.0805 - val_mse: 0.0217 - learning_rate: 5.0000e-04\n",
      "Epoch 179/500\n",
      "\u001b[1m200/200\u001b[0m \u001b[32m━━━━━━━━━━━━━━━━━━━━\u001b[0m\u001b[37m\u001b[0m \u001b[1m1s\u001b[0m 5ms/step - loss: 0.0286 - mae: 0.0848 - mse: 0.0213 - val_loss: 0.0295 - val_mae: 0.0804 - val_mse: 0.0222 - learning_rate: 5.0000e-04\n",
      "Epoch 180/500\n",
      "\u001b[1m200/200\u001b[0m \u001b[32m━━━━━━━━━━━━━━━━━━━━\u001b[0m\u001b[37m\u001b[0m \u001b[1m1s\u001b[0m 5ms/step - loss: 0.0280 - mae: 0.0841 - mse: 0.0207 - val_loss: 0.0308 - val_mae: 0.0808 - val_mse: 0.0235 - learning_rate: 5.0000e-04\n",
      "Epoch 181/500\n",
      "\u001b[1m200/200\u001b[0m \u001b[32m━━━━━━━━━━━━━━━━━━━━\u001b[0m\u001b[37m\u001b[0m \u001b[1m1s\u001b[0m 5ms/step - loss: 0.0284 - mae: 0.0859 - mse: 0.0212 - val_loss: 0.0301 - val_mae: 0.0821 - val_mse: 0.0229 - learning_rate: 5.0000e-04\n",
      "Epoch 182/500\n",
      "\u001b[1m200/200\u001b[0m \u001b[32m━━━━━━━━━━━━━━━━━━━━\u001b[0m\u001b[37m\u001b[0m \u001b[1m1s\u001b[0m 6ms/step - loss: 0.0281 - mae: 0.0852 - mse: 0.0209 - val_loss: 0.0297 - val_mae: 0.0797 - val_mse: 0.0225 - learning_rate: 5.0000e-04\n",
      "Epoch 183/500\n",
      "\u001b[1m200/200\u001b[0m \u001b[32m━━━━━━━━━━━━━━━━━━━━\u001b[0m\u001b[37m\u001b[0m \u001b[1m1s\u001b[0m 5ms/step - loss: 0.0282 - mae: 0.0849 - mse: 0.0210 - val_loss: 0.0295 - val_mae: 0.0802 - val_mse: 0.0224 - learning_rate: 5.0000e-04\n",
      "Epoch 184/500\n",
      "\u001b[1m200/200\u001b[0m \u001b[32m━━━━━━━━━━━━━━━━━━━━\u001b[0m\u001b[37m\u001b[0m \u001b[1m1s\u001b[0m 5ms/step - loss: 0.0282 - mae: 0.0847 - mse: 0.0211 - val_loss: 0.0310 - val_mae: 0.0832 - val_mse: 0.0239 - learning_rate: 5.0000e-04\n",
      "Epoch 185/500\n",
      "\u001b[1m200/200\u001b[0m \u001b[32m━━━━━━━━━━━━━━━━━━━━\u001b[0m\u001b[37m\u001b[0m \u001b[1m1s\u001b[0m 5ms/step - loss: 0.0286 - mae: 0.0854 - mse: 0.0215 - val_loss: 0.0291 - val_mae: 0.0792 - val_mse: 0.0221 - learning_rate: 5.0000e-04\n",
      "Epoch 186/500\n",
      "\u001b[1m200/200\u001b[0m \u001b[32m━━━━━━━━━━━━━━━━━━━━\u001b[0m\u001b[37m\u001b[0m \u001b[1m1s\u001b[0m 5ms/step - loss: 0.0278 - mae: 0.0837 - mse: 0.0207 - val_loss: 0.0296 - val_mae: 0.0801 - val_mse: 0.0225 - learning_rate: 5.0000e-04\n",
      "Epoch 187/500\n",
      "\u001b[1m198/200\u001b[0m \u001b[32m━━━━━━━━━━━━━━━━━━━\u001b[0m\u001b[37m━\u001b[0m \u001b[1m0s\u001b[0m 5ms/step - loss: 0.0276 - mae: 0.0839 - mse: 0.0205"
     ]
    },
    {
     "name": "stderr",
     "output_type": "stream",
     "text": [
      "WARNING:absl:You are saving your model as an HDF5 file via `model.save()` or `keras.saving.save_model(model)`. This file format is considered legacy. We recommend using instead the native Keras format, e.g. `model.save('my_model.keras')` or `keras.saving.save_model(model, 'my_model.keras')`. \n"
     ]
    },
    {
     "name": "stdout",
     "output_type": "stream",
     "text": [
      "\u001b[1m200/200\u001b[0m \u001b[32m━━━━━━━━━━━━━━━━━━━━\u001b[0m\u001b[37m\u001b[0m \u001b[1m1s\u001b[0m 5ms/step - loss: 0.0276 - mae: 0.0839 - mse: 0.0205 - val_loss: 0.0288 - val_mae: 0.0784 - val_mse: 0.0218 - learning_rate: 5.0000e-04\n",
      "Epoch 188/500\n",
      "\u001b[1m200/200\u001b[0m \u001b[32m━━━━━━━━━━━━━━━━━━━━\u001b[0m\u001b[37m\u001b[0m \u001b[1m1s\u001b[0m 5ms/step - loss: 0.0277 - mae: 0.0841 - mse: 0.0207 - val_loss: 0.0296 - val_mae: 0.0807 - val_mse: 0.0227 - learning_rate: 5.0000e-04\n",
      "Epoch 189/500\n",
      "\u001b[1m200/200\u001b[0m \u001b[32m━━━━━━━━━━━━━━━━━━━━\u001b[0m\u001b[37m\u001b[0m \u001b[1m1s\u001b[0m 5ms/step - loss: 0.0275 - mae: 0.0838 - mse: 0.0205 - val_loss: 0.0307 - val_mae: 0.0832 - val_mse: 0.0238 - learning_rate: 5.0000e-04\n",
      "Epoch 190/500\n",
      "\u001b[1m200/200\u001b[0m \u001b[32m━━━━━━━━━━━━━━━━━━━━\u001b[0m\u001b[37m\u001b[0m \u001b[1m1s\u001b[0m 5ms/step - loss: 0.0280 - mae: 0.0848 - mse: 0.0211 - val_loss: 0.0288 - val_mae: 0.0789 - val_mse: 0.0219 - learning_rate: 5.0000e-04\n",
      "Epoch 191/500\n",
      "\u001b[1m197/200\u001b[0m \u001b[32m━━━━━━━━━━━━━━━━━━━\u001b[0m\u001b[37m━\u001b[0m \u001b[1m0s\u001b[0m 5ms/step - loss: 0.0284 - mae: 0.0857 - mse: 0.0215"
     ]
    },
    {
     "name": "stderr",
     "output_type": "stream",
     "text": [
      "WARNING:absl:You are saving your model as an HDF5 file via `model.save()` or `keras.saving.save_model(model)`. This file format is considered legacy. We recommend using instead the native Keras format, e.g. `model.save('my_model.keras')` or `keras.saving.save_model(model, 'my_model.keras')`. \n"
     ]
    },
    {
     "name": "stdout",
     "output_type": "stream",
     "text": [
      "\u001b[1m200/200\u001b[0m \u001b[32m━━━━━━━━━━━━━━━━━━━━\u001b[0m\u001b[37m\u001b[0m \u001b[1m1s\u001b[0m 6ms/step - loss: 0.0284 - mae: 0.0857 - mse: 0.0215 - val_loss: 0.0286 - val_mae: 0.0805 - val_mse: 0.0218 - learning_rate: 5.0000e-04\n",
      "Epoch 192/500\n",
      "\u001b[1m200/200\u001b[0m \u001b[32m━━━━━━━━━━━━━━━━━━━━\u001b[0m\u001b[37m\u001b[0m \u001b[1m1s\u001b[0m 5ms/step - loss: 0.0278 - mae: 0.0850 - mse: 0.0210 - val_loss: 0.0292 - val_mae: 0.0809 - val_mse: 0.0224 - learning_rate: 5.0000e-04\n",
      "Epoch 193/500\n",
      "\u001b[1m200/200\u001b[0m \u001b[32m━━━━━━━━━━━━━━━━━━━━\u001b[0m\u001b[37m\u001b[0m \u001b[1m1s\u001b[0m 5ms/step - loss: 0.0274 - mae: 0.0844 - mse: 0.0206 - val_loss: 0.0289 - val_mae: 0.0784 - val_mse: 0.0222 - learning_rate: 5.0000e-04\n",
      "Epoch 194/500\n",
      "\u001b[1m200/200\u001b[0m \u001b[32m━━━━━━━━━━━━━━━━━━━━\u001b[0m\u001b[37m\u001b[0m \u001b[1m1s\u001b[0m 5ms/step - loss: 0.0276 - mae: 0.0846 - mse: 0.0208 - val_loss: 0.0294 - val_mae: 0.0806 - val_mse: 0.0227 - learning_rate: 5.0000e-04\n",
      "Epoch 195/500\n",
      "\u001b[1m200/200\u001b[0m \u001b[32m━━━━━━━━━━━━━━━━━━━━\u001b[0m\u001b[37m\u001b[0m \u001b[1m0s\u001b[0m 5ms/step - loss: 0.0290 - mae: 0.0861 - mse: 0.0223"
     ]
    },
    {
     "name": "stderr",
     "output_type": "stream",
     "text": [
      "WARNING:absl:You are saving your model as an HDF5 file via `model.save()` or `keras.saving.save_model(model)`. This file format is considered legacy. We recommend using instead the native Keras format, e.g. `model.save('my_model.keras')` or `keras.saving.save_model(model, 'my_model.keras')`. \n"
     ]
    },
    {
     "name": "stdout",
     "output_type": "stream",
     "text": [
      "\u001b[1m200/200\u001b[0m \u001b[32m━━━━━━━━━━━━━━━━━━━━\u001b[0m\u001b[37m\u001b[0m \u001b[1m1s\u001b[0m 6ms/step - loss: 0.0290 - mae: 0.0861 - mse: 0.0223 - val_loss: 0.0286 - val_mae: 0.0780 - val_mse: 0.0219 - learning_rate: 5.0000e-04\n",
      "Epoch 196/500\n",
      "\u001b[1m200/200\u001b[0m \u001b[32m━━━━━━━━━━━━━━━━━━━━\u001b[0m\u001b[37m\u001b[0m \u001b[1m1s\u001b[0m 5ms/step - loss: 0.0272 - mae: 0.0838 - mse: 0.0205 - val_loss: 0.0289 - val_mae: 0.0796 - val_mse: 0.0222 - learning_rate: 5.0000e-04\n",
      "Epoch 197/500\n",
      "\u001b[1m200/200\u001b[0m \u001b[32m━━━━━━━━━━━━━━━━━━━━\u001b[0m\u001b[37m\u001b[0m \u001b[1m1s\u001b[0m 5ms/step - loss: 0.0279 - mae: 0.0844 - mse: 0.0212 - val_loss: 0.0309 - val_mae: 0.0807 - val_mse: 0.0242 - learning_rate: 5.0000e-04\n",
      "Epoch 198/500\n",
      "\u001b[1m200/200\u001b[0m \u001b[32m━━━━━━━━━━━━━━━━━━━━\u001b[0m\u001b[37m\u001b[0m \u001b[1m1s\u001b[0m 5ms/step - loss: 0.0279 - mae: 0.0842 - mse: 0.0213 - val_loss: 0.0295 - val_mae: 0.0818 - val_mse: 0.0228 - learning_rate: 5.0000e-04\n",
      "Epoch 199/500\n",
      "\u001b[1m200/200\u001b[0m \u001b[32m━━━━━━━━━━━━━━━━━━━━\u001b[0m\u001b[37m\u001b[0m \u001b[1m1s\u001b[0m 5ms/step - loss: 0.0273 - mae: 0.0836 - mse: 0.0206 - val_loss: 0.0293 - val_mae: 0.0802 - val_mse: 0.0227 - learning_rate: 5.0000e-04\n",
      "Epoch 200/500\n",
      "\u001b[1m200/200\u001b[0m \u001b[32m━━━━━━━━━━━━━━━━━━━━\u001b[0m\u001b[37m\u001b[0m \u001b[1m1s\u001b[0m 5ms/step - loss: 0.0278 - mae: 0.0849 - mse: 0.0212 - val_loss: 0.0294 - val_mae: 0.0818 - val_mse: 0.0228 - learning_rate: 5.0000e-04\n",
      "Epoch 201/500\n",
      "\u001b[1m192/200\u001b[0m \u001b[32m━━━━━━━━━━━━━━━━━━━\u001b[0m\u001b[37m━\u001b[0m \u001b[1m0s\u001b[0m 5ms/step - loss: 0.0270 - mae: 0.0838 - mse: 0.0205\n",
      "Epoch 201: ReduceLROnPlateau reducing learning rate to 0.00035000001662410796.\n",
      "\u001b[1m200/200\u001b[0m \u001b[32m━━━━━━━━━━━━━━━━━━━━\u001b[0m\u001b[37m\u001b[0m \u001b[1m1s\u001b[0m 5ms/step - loss: 0.0270 - mae: 0.0838 - mse: 0.0205 - val_loss: 0.0305 - val_mae: 0.0845 - val_mse: 0.0240 - learning_rate: 5.0000e-04\n",
      "Epoch 202/500\n",
      "\u001b[1m195/200\u001b[0m \u001b[32m━━━━━━━━━━━━━━━━━━━\u001b[0m\u001b[37m━\u001b[0m \u001b[1m0s\u001b[0m 5ms/step - loss: 0.0282 - mae: 0.0853 - mse: 0.0217"
     ]
    },
    {
     "name": "stderr",
     "output_type": "stream",
     "text": [
      "WARNING:absl:You are saving your model as an HDF5 file via `model.save()` or `keras.saving.save_model(model)`. This file format is considered legacy. We recommend using instead the native Keras format, e.g. `model.save('my_model.keras')` or `keras.saving.save_model(model, 'my_model.keras')`. \n"
     ]
    },
    {
     "name": "stdout",
     "output_type": "stream",
     "text": [
      "\u001b[1m200/200\u001b[0m \u001b[32m━━━━━━━━━━━━━━━━━━━━\u001b[0m\u001b[37m\u001b[0m \u001b[1m1s\u001b[0m 5ms/step - loss: 0.0282 - mae: 0.0853 - mse: 0.0216 - val_loss: 0.0282 - val_mae: 0.0759 - val_mse: 0.0217 - learning_rate: 3.5000e-04\n",
      "Epoch 203/500\n",
      "\u001b[1m195/200\u001b[0m \u001b[32m━━━━━━━━━━━━━━━━━━━\u001b[0m\u001b[37m━\u001b[0m \u001b[1m0s\u001b[0m 5ms/step - loss: 0.0266 - mae: 0.0836 - mse: 0.0201"
     ]
    },
    {
     "name": "stderr",
     "output_type": "stream",
     "text": [
      "WARNING:absl:You are saving your model as an HDF5 file via `model.save()` or `keras.saving.save_model(model)`. This file format is considered legacy. We recommend using instead the native Keras format, e.g. `model.save('my_model.keras')` or `keras.saving.save_model(model, 'my_model.keras')`. \n"
     ]
    },
    {
     "name": "stdout",
     "output_type": "stream",
     "text": [
      "\u001b[1m200/200\u001b[0m \u001b[32m━━━━━━━━━━━━━━━━━━━━\u001b[0m\u001b[37m\u001b[0m \u001b[1m1s\u001b[0m 5ms/step - loss: 0.0266 - mae: 0.0836 - mse: 0.0201 - val_loss: 0.0275 - val_mae: 0.0757 - val_mse: 0.0210 - learning_rate: 3.5000e-04\n",
      "Epoch 204/500\n",
      "\u001b[1m192/200\u001b[0m \u001b[32m━━━━━━━━━━━━━━━━━━━\u001b[0m\u001b[37m━\u001b[0m \u001b[1m0s\u001b[0m 5ms/step - loss: 0.0265 - mae: 0.0835 - mse: 0.0200"
     ]
    },
    {
     "name": "stderr",
     "output_type": "stream",
     "text": [
      "WARNING:absl:You are saving your model as an HDF5 file via `model.save()` or `keras.saving.save_model(model)`. This file format is considered legacy. We recommend using instead the native Keras format, e.g. `model.save('my_model.keras')` or `keras.saving.save_model(model, 'my_model.keras')`. \n"
     ]
    },
    {
     "name": "stdout",
     "output_type": "stream",
     "text": [
      "\u001b[1m200/200\u001b[0m \u001b[32m━━━━━━━━━━━━━━━━━━━━\u001b[0m\u001b[37m\u001b[0m \u001b[1m1s\u001b[0m 5ms/step - loss: 0.0265 - mae: 0.0835 - mse: 0.0200 - val_loss: 0.0271 - val_mae: 0.0757 - val_mse: 0.0207 - learning_rate: 3.5000e-04\n",
      "Epoch 205/500\n",
      "\u001b[1m200/200\u001b[0m \u001b[32m━━━━━━━━━━━━━━━━━━━━\u001b[0m\u001b[37m\u001b[0m \u001b[1m1s\u001b[0m 5ms/step - loss: 0.0263 - mae: 0.0828 - mse: 0.0199 - val_loss: 0.0284 - val_mae: 0.0790 - val_mse: 0.0220 - learning_rate: 3.5000e-04\n",
      "Epoch 206/500\n",
      "\u001b[1m200/200\u001b[0m \u001b[32m━━━━━━━━━━━━━━━━━━━━\u001b[0m\u001b[37m\u001b[0m \u001b[1m1s\u001b[0m 5ms/step - loss: 0.0263 - mae: 0.0835 - mse: 0.0199 - val_loss: 0.0277 - val_mae: 0.0766 - val_mse: 0.0213 - learning_rate: 3.5000e-04\n",
      "Epoch 207/500\n",
      "\u001b[1m200/200\u001b[0m \u001b[32m━━━━━━━━━━━━━━━━━━━━\u001b[0m\u001b[37m\u001b[0m \u001b[1m1s\u001b[0m 5ms/step - loss: 0.0265 - mae: 0.0831 - mse: 0.0201 - val_loss: 0.0272 - val_mae: 0.0752 - val_mse: 0.0208 - learning_rate: 3.5000e-04\n",
      "Epoch 208/500\n",
      "\u001b[1m200/200\u001b[0m \u001b[32m━━━━━━━━━━━━━━━━━━━━\u001b[0m\u001b[37m\u001b[0m \u001b[1m1s\u001b[0m 5ms/step - loss: 0.0264 - mae: 0.0828 - mse: 0.0200 - val_loss: 0.0278 - val_mae: 0.0781 - val_mse: 0.0214 - learning_rate: 3.5000e-04\n",
      "Epoch 209/500\n",
      "\u001b[1m200/200\u001b[0m \u001b[32m━━━━━━━━━━━━━━━━━━━━\u001b[0m\u001b[37m\u001b[0m \u001b[1m1s\u001b[0m 5ms/step - loss: 0.0265 - mae: 0.0840 - mse: 0.0202 - val_loss: 0.0281 - val_mae: 0.0777 - val_mse: 0.0218 - learning_rate: 3.5000e-04\n",
      "Epoch 210/500\n",
      "\u001b[1m200/200\u001b[0m \u001b[32m━━━━━━━━━━━━━━━━━━━━\u001b[0m\u001b[37m\u001b[0m \u001b[1m1s\u001b[0m 5ms/step - loss: 0.0263 - mae: 0.0835 - mse: 0.0200 - val_loss: 0.0277 - val_mae: 0.0762 - val_mse: 0.0214 - learning_rate: 3.5000e-04\n",
      "Epoch 211/500\n",
      "\u001b[1m200/200\u001b[0m \u001b[32m━━━━━━━━━━━━━━━━━━━━\u001b[0m\u001b[37m\u001b[0m \u001b[1m1s\u001b[0m 5ms/step - loss: 0.0258 - mae: 0.0824 - mse: 0.0195 - val_loss: 0.0278 - val_mae: 0.0770 - val_mse: 0.0215 - learning_rate: 3.5000e-04\n",
      "Epoch 212/500\n",
      "\u001b[1m200/200\u001b[0m \u001b[32m━━━━━━━━━━━━━━━━━━━━\u001b[0m\u001b[37m\u001b[0m \u001b[1m1s\u001b[0m 5ms/step - loss: 0.0262 - mae: 0.0825 - mse: 0.0200 - val_loss: 0.0272 - val_mae: 0.0761 - val_mse: 0.0210 - learning_rate: 3.5000e-04\n",
      "Epoch 213/500\n",
      "\u001b[1m200/200\u001b[0m \u001b[32m━━━━━━━━━━━━━━━━━━━━\u001b[0m\u001b[37m\u001b[0m \u001b[1m1s\u001b[0m 5ms/step - loss: 0.0259 - mae: 0.0824 - mse: 0.0197 - val_loss: 0.0284 - val_mae: 0.0773 - val_mse: 0.0222 - learning_rate: 3.5000e-04\n",
      "Epoch 214/500\n",
      "\u001b[1m197/200\u001b[0m \u001b[32m━━━━━━━━━━━━━━━━━━━\u001b[0m\u001b[37m━\u001b[0m \u001b[1m0s\u001b[0m 5ms/step - loss: 0.0259 - mae: 0.0824 - mse: 0.0197\n",
      "Epoch 214: ReduceLROnPlateau reducing learning rate to 0.00024500001163687554.\n",
      "\u001b[1m200/200\u001b[0m \u001b[32m━━━━━━━━━━━━━━━━━━━━\u001b[0m\u001b[37m\u001b[0m \u001b[1m1s\u001b[0m 5ms/step - loss: 0.0259 - mae: 0.0824 - mse: 0.0197 - val_loss: 0.0280 - val_mae: 0.0768 - val_mse: 0.0218 - learning_rate: 3.5000e-04\n",
      "Epoch 215/500\n",
      "\u001b[1m194/200\u001b[0m \u001b[32m━━━━━━━━━━━━━━━━━━━\u001b[0m\u001b[37m━\u001b[0m \u001b[1m0s\u001b[0m 5ms/step - loss: 0.0260 - mae: 0.0820 - mse: 0.0198"
     ]
    },
    {
     "name": "stderr",
     "output_type": "stream",
     "text": [
      "WARNING:absl:You are saving your model as an HDF5 file via `model.save()` or `keras.saving.save_model(model)`. This file format is considered legacy. We recommend using instead the native Keras format, e.g. `model.save('my_model.keras')` or `keras.saving.save_model(model, 'my_model.keras')`. \n"
     ]
    },
    {
     "name": "stdout",
     "output_type": "stream",
     "text": [
      "\u001b[1m200/200\u001b[0m \u001b[32m━━━━━━━━━━━━━━━━━━━━\u001b[0m\u001b[37m\u001b[0m \u001b[1m1s\u001b[0m 5ms/step - loss: 0.0259 - mae: 0.0820 - mse: 0.0197 - val_loss: 0.0267 - val_mae: 0.0734 - val_mse: 0.0205 - learning_rate: 2.4500e-04\n",
      "Epoch 216/500\n",
      "\u001b[1m200/200\u001b[0m \u001b[32m━━━━━━━━━━━━━━━━━━━━\u001b[0m\u001b[37m\u001b[0m \u001b[1m1s\u001b[0m 6ms/step - loss: 0.0254 - mae: 0.0810 - mse: 0.0192 - val_loss: 0.0281 - val_mae: 0.0763 - val_mse: 0.0220 - learning_rate: 2.4500e-04\n",
      "Epoch 217/500\n",
      "\u001b[1m200/200\u001b[0m \u001b[32m━━━━━━━━━━━━━━━━━━━━\u001b[0m\u001b[37m\u001b[0m \u001b[1m1s\u001b[0m 6ms/step - loss: 0.0252 - mae: 0.0808 - mse: 0.0190 - val_loss: 0.0270 - val_mae: 0.0744 - val_mse: 0.0208 - learning_rate: 2.4500e-04\n",
      "Epoch 218/500\n",
      "\u001b[1m200/200\u001b[0m \u001b[32m━━━━━━━━━━━━━━━━━━━━\u001b[0m\u001b[37m\u001b[0m \u001b[1m1s\u001b[0m 5ms/step - loss: 0.0253 - mae: 0.0804 - mse: 0.0192 - val_loss: 0.0267 - val_mae: 0.0734 - val_mse: 0.0206 - learning_rate: 2.4500e-04\n",
      "Epoch 219/500\n",
      "\u001b[1m200/200\u001b[0m \u001b[32m━━━━━━━━━━━━━━━━━━━━\u001b[0m\u001b[37m\u001b[0m \u001b[1m1s\u001b[0m 5ms/step - loss: 0.0247 - mae: 0.0804 - mse: 0.0186 - val_loss: 0.0274 - val_mae: 0.0739 - val_mse: 0.0213 - learning_rate: 2.4500e-04\n",
      "Epoch 220/500\n",
      "\u001b[1m200/200\u001b[0m \u001b[32m━━━━━━━━━━━━━━━━━━━━\u001b[0m\u001b[37m\u001b[0m \u001b[1m1s\u001b[0m 5ms/step - loss: 0.0245 - mae: 0.0798 - mse: 0.0185 - val_loss: 0.0276 - val_mae: 0.0754 - val_mse: 0.0215 - learning_rate: 2.4500e-04\n",
      "Epoch 221/500\n",
      "\u001b[1m200/200\u001b[0m \u001b[32m━━━━━━━━━━━━━━━━━━━━\u001b[0m\u001b[37m\u001b[0m \u001b[1m1s\u001b[0m 5ms/step - loss: 0.0249 - mae: 0.0801 - mse: 0.0188 - val_loss: 0.0268 - val_mae: 0.0741 - val_mse: 0.0208 - learning_rate: 2.4500e-04\n",
      "Epoch 222/500\n",
      "\u001b[1m200/200\u001b[0m \u001b[32m━━━━━━━━━━━━━━━━━━━━\u001b[0m\u001b[37m\u001b[0m \u001b[1m1s\u001b[0m 5ms/step - loss: 0.0246 - mae: 0.0799 - mse: 0.0186 - val_loss: 0.0268 - val_mae: 0.0732 - val_mse: 0.0208 - learning_rate: 2.4500e-04\n",
      "Epoch 223/500\n",
      "\u001b[1m196/200\u001b[0m \u001b[32m━━━━━━━━━━━━━━━━━━━\u001b[0m\u001b[37m━\u001b[0m \u001b[1m0s\u001b[0m 5ms/step - loss: 0.0245 - mae: 0.0795 - mse: 0.0185"
     ]
    },
    {
     "name": "stderr",
     "output_type": "stream",
     "text": [
      "WARNING:absl:You are saving your model as an HDF5 file via `model.save()` or `keras.saving.save_model(model)`. This file format is considered legacy. We recommend using instead the native Keras format, e.g. `model.save('my_model.keras')` or `keras.saving.save_model(model, 'my_model.keras')`. \n"
     ]
    },
    {
     "name": "stdout",
     "output_type": "stream",
     "text": [
      "\u001b[1m200/200\u001b[0m \u001b[32m━━━━━━━━━━━━━━━━━━━━\u001b[0m\u001b[37m\u001b[0m \u001b[1m1s\u001b[0m 5ms/step - loss: 0.0245 - mae: 0.0795 - mse: 0.0185 - val_loss: 0.0267 - val_mae: 0.0730 - val_mse: 0.0207 - learning_rate: 2.4500e-04\n",
      "Epoch 224/500\n",
      "\u001b[1m200/200\u001b[0m \u001b[32m━━━━━━━━━━━━━━━━━━━━\u001b[0m\u001b[37m\u001b[0m \u001b[1m1s\u001b[0m 5ms/step - loss: 0.0245 - mae: 0.0796 - mse: 0.0185 - val_loss: 0.0271 - val_mae: 0.0743 - val_mse: 0.0211 - learning_rate: 2.4500e-04\n",
      "Epoch 225/500\n",
      "\u001b[1m197/200\u001b[0m \u001b[32m━━━━━━━━━━━━━━━━━━━\u001b[0m\u001b[37m━\u001b[0m \u001b[1m0s\u001b[0m 5ms/step - loss: 0.0245 - mae: 0.0794 - mse: 0.0186\n",
      "Epoch 225: ReduceLROnPlateau reducing learning rate to 0.00017150000203400848.\n",
      "\u001b[1m200/200\u001b[0m \u001b[32m━━━━━━━━━━━━━━━━━━━━\u001b[0m\u001b[37m\u001b[0m \u001b[1m1s\u001b[0m 6ms/step - loss: 0.0245 - mae: 0.0794 - mse: 0.0186 - val_loss: 0.0275 - val_mae: 0.0745 - val_mse: 0.0216 - learning_rate: 2.4500e-04\n",
      "Epoch 226/500\n",
      "\u001b[1m200/200\u001b[0m \u001b[32m━━━━━━━━━━━━━━━━━━━━\u001b[0m\u001b[37m\u001b[0m \u001b[1m1s\u001b[0m 5ms/step - loss: 0.0239 - mae: 0.0788 - mse: 0.0179 - val_loss: 0.0274 - val_mae: 0.0746 - val_mse: 0.0215 - learning_rate: 1.7150e-04\n",
      "Epoch 227/500\n",
      "\u001b[1m200/200\u001b[0m \u001b[32m━━━━━━━━━━━━━━━━━━━━\u001b[0m\u001b[37m\u001b[0m \u001b[1m1s\u001b[0m 5ms/step - loss: 0.0235 - mae: 0.0776 - mse: 0.0176 - val_loss: 0.0271 - val_mae: 0.0749 - val_mse: 0.0212 - learning_rate: 1.7150e-04\n",
      "Epoch 228/500\n",
      "\u001b[1m200/200\u001b[0m \u001b[32m━━━━━━━━━━━━━━━━━━━━\u001b[0m\u001b[37m\u001b[0m \u001b[1m1s\u001b[0m 5ms/step - loss: 0.0235 - mae: 0.0779 - mse: 0.0176 - val_loss: 0.0271 - val_mae: 0.0732 - val_mse: 0.0212 - learning_rate: 1.7150e-04\n",
      "Epoch 229/500\n",
      "\u001b[1m200/200\u001b[0m \u001b[32m━━━━━━━━━━━━━━━━━━━━\u001b[0m\u001b[37m\u001b[0m \u001b[1m1s\u001b[0m 5ms/step - loss: 0.0238 - mae: 0.0778 - mse: 0.0179 - val_loss: 0.0268 - val_mae: 0.0730 - val_mse: 0.0210 - learning_rate: 1.7150e-04\n",
      "Epoch 230/500\n",
      "\u001b[1m197/200\u001b[0m \u001b[32m━━━━━━━━━━━━━━━━━━━\u001b[0m\u001b[37m━\u001b[0m \u001b[1m0s\u001b[0m 5ms/step - loss: 0.0234 - mae: 0.0772 - mse: 0.0176"
     ]
    },
    {
     "name": "stderr",
     "output_type": "stream",
     "text": [
      "WARNING:absl:You are saving your model as an HDF5 file via `model.save()` or `keras.saving.save_model(model)`. This file format is considered legacy. We recommend using instead the native Keras format, e.g. `model.save('my_model.keras')` or `keras.saving.save_model(model, 'my_model.keras')`. \n"
     ]
    },
    {
     "name": "stdout",
     "output_type": "stream",
     "text": [
      "\u001b[1m200/200\u001b[0m \u001b[32m━━━━━━━━━━━━━━━━━━━━\u001b[0m\u001b[37m\u001b[0m \u001b[1m1s\u001b[0m 6ms/step - loss: 0.0234 - mae: 0.0772 - mse: 0.0175 - val_loss: 0.0263 - val_mae: 0.0729 - val_mse: 0.0204 - learning_rate: 1.7150e-04\n",
      "Epoch 231/500\n",
      "\u001b[1m200/200\u001b[0m \u001b[32m━━━━━━━━━━━━━━━━━━━━\u001b[0m\u001b[37m\u001b[0m \u001b[1m1s\u001b[0m 5ms/step - loss: 0.0238 - mae: 0.0781 - mse: 0.0180 - val_loss: 0.0266 - val_mae: 0.0731 - val_mse: 0.0208 - learning_rate: 1.7150e-04\n",
      "Epoch 232/500\n",
      "\u001b[1m200/200\u001b[0m \u001b[32m━━━━━━━━━━━━━━━━━━━━\u001b[0m\u001b[37m\u001b[0m \u001b[1m1s\u001b[0m 5ms/step - loss: 0.0232 - mae: 0.0782 - mse: 0.0174 - val_loss: 0.0265 - val_mae: 0.0730 - val_mse: 0.0207 - learning_rate: 1.7150e-04\n",
      "Epoch 233/500\n",
      "\u001b[1m200/200\u001b[0m \u001b[32m━━━━━━━━━━━━━━━━━━━━\u001b[0m\u001b[37m\u001b[0m \u001b[1m1s\u001b[0m 5ms/step - loss: 0.0234 - mae: 0.0782 - mse: 0.0176 - val_loss: 0.0270 - val_mae: 0.0742 - val_mse: 0.0212 - learning_rate: 1.7150e-04\n",
      "Epoch 234/500\n",
      "\u001b[1m200/200\u001b[0m \u001b[32m━━━━━━━━━━━━━━━━━━━━\u001b[0m\u001b[37m\u001b[0m \u001b[1m1s\u001b[0m 6ms/step - loss: 0.0231 - mae: 0.0777 - mse: 0.0173 - val_loss: 0.0273 - val_mae: 0.0745 - val_mse: 0.0216 - learning_rate: 1.7150e-04\n",
      "Epoch 235/500\n",
      "\u001b[1m200/200\u001b[0m \u001b[32m━━━━━━━━━━━━━━━━━━━━\u001b[0m\u001b[37m\u001b[0m \u001b[1m1s\u001b[0m 5ms/step - loss: 0.0229 - mae: 0.0771 - mse: 0.0171 - val_loss: 0.0270 - val_mae: 0.0731 - val_mse: 0.0213 - learning_rate: 1.7150e-04\n",
      "Epoch 236/500\n",
      "\u001b[1m200/200\u001b[0m \u001b[32m━━━━━━━━━━━━━━━━━━━━\u001b[0m\u001b[37m\u001b[0m \u001b[1m1s\u001b[0m 5ms/step - loss: 0.0235 - mae: 0.0779 - mse: 0.0178 - val_loss: 0.0274 - val_mae: 0.0738 - val_mse: 0.0217 - learning_rate: 1.7150e-04\n",
      "Epoch 237/500\n",
      "\u001b[1m200/200\u001b[0m \u001b[32m━━━━━━━━━━━━━━━━━━━━\u001b[0m\u001b[37m\u001b[0m \u001b[1m1s\u001b[0m 5ms/step - loss: 0.0233 - mae: 0.0777 - mse: 0.0176 - val_loss: 0.0270 - val_mae: 0.0737 - val_mse: 0.0213 - learning_rate: 1.7150e-04\n",
      "Epoch 238/500\n",
      "\u001b[1m200/200\u001b[0m \u001b[32m━━━━━━━━━━━━━━━━━━━━\u001b[0m\u001b[37m\u001b[0m \u001b[1m1s\u001b[0m 5ms/step - loss: 0.0230 - mae: 0.0774 - mse: 0.0173 - val_loss: 0.0270 - val_mae: 0.0730 - val_mse: 0.0213 - learning_rate: 1.7150e-04\n",
      "Epoch 239/500\n",
      "\u001b[1m200/200\u001b[0m \u001b[32m━━━━━━━━━━━━━━━━━━━━\u001b[0m\u001b[37m\u001b[0m \u001b[1m1s\u001b[0m 5ms/step - loss: 0.0228 - mae: 0.0777 - mse: 0.0171 - val_loss: 0.0270 - val_mae: 0.0729 - val_mse: 0.0213 - learning_rate: 1.7150e-04\n",
      "Epoch 240/500\n",
      "\u001b[1m194/200\u001b[0m \u001b[32m━━━━━━━━━━━━━━━━━━━\u001b[0m\u001b[37m━\u001b[0m \u001b[1m0s\u001b[0m 5ms/step - loss: 0.0227 - mae: 0.0768 - mse: 0.0170\n",
      "Epoch 240: ReduceLROnPlateau reducing learning rate to 0.00012004999734926967.\n",
      "\u001b[1m200/200\u001b[0m \u001b[32m━━━━━━━━━━━━━━━━━━━━\u001b[0m\u001b[37m\u001b[0m \u001b[1m1s\u001b[0m 5ms/step - loss: 0.0226 - mae: 0.0768 - mse: 0.0170 - val_loss: 0.0263 - val_mae: 0.0724 - val_mse: 0.0206 - learning_rate: 1.7150e-04\n",
      "Epoch 241/500\n",
      "\u001b[1m196/200\u001b[0m \u001b[32m━━━━━━━━━━━━━━━━━━━\u001b[0m\u001b[37m━\u001b[0m \u001b[1m0s\u001b[0m 5ms/step - loss: 0.0230 - mae: 0.0767 - mse: 0.0173"
     ]
    },
    {
     "name": "stderr",
     "output_type": "stream",
     "text": [
      "WARNING:absl:You are saving your model as an HDF5 file via `model.save()` or `keras.saving.save_model(model)`. This file format is considered legacy. We recommend using instead the native Keras format, e.g. `model.save('my_model.keras')` or `keras.saving.save_model(model, 'my_model.keras')`. \n"
     ]
    },
    {
     "name": "stdout",
     "output_type": "stream",
     "text": [
      "\u001b[1m200/200\u001b[0m \u001b[32m━━━━━━━━━━━━━━━━━━━━\u001b[0m\u001b[37m\u001b[0m \u001b[1m1s\u001b[0m 5ms/step - loss: 0.0230 - mae: 0.0767 - mse: 0.0173 - val_loss: 0.0261 - val_mae: 0.0721 - val_mse: 0.0205 - learning_rate: 1.2005e-04\n",
      "Epoch 242/500\n",
      "\u001b[1m200/200\u001b[0m \u001b[32m━━━━━━━━━━━━━━━━━━━━\u001b[0m\u001b[37m\u001b[0m \u001b[1m1s\u001b[0m 6ms/step - loss: 0.0225 - mae: 0.0763 - mse: 0.0168 - val_loss: 0.0269 - val_mae: 0.0727 - val_mse: 0.0212 - learning_rate: 1.2005e-04\n",
      "Epoch 243/500\n",
      "\u001b[1m200/200\u001b[0m \u001b[32m━━━━━━━━━━━━━━━━━━━━\u001b[0m\u001b[37m\u001b[0m \u001b[1m1s\u001b[0m 6ms/step - loss: 0.0224 - mae: 0.0761 - mse: 0.0168 - val_loss: 0.0264 - val_mae: 0.0729 - val_mse: 0.0208 - learning_rate: 1.2005e-04\n",
      "Epoch 244/500\n",
      "\u001b[1m197/200\u001b[0m \u001b[32m━━━━━━━━━━━━━━━━━━━\u001b[0m\u001b[37m━\u001b[0m \u001b[1m0s\u001b[0m 5ms/step - loss: 0.0226 - mae: 0.0766 - mse: 0.0169"
     ]
    },
    {
     "name": "stderr",
     "output_type": "stream",
     "text": [
      "WARNING:absl:You are saving your model as an HDF5 file via `model.save()` or `keras.saving.save_model(model)`. This file format is considered legacy. We recommend using instead the native Keras format, e.g. `model.save('my_model.keras')` or `keras.saving.save_model(model, 'my_model.keras')`. \n"
     ]
    },
    {
     "name": "stdout",
     "output_type": "stream",
     "text": [
      "\u001b[1m200/200\u001b[0m \u001b[32m━━━━━━━━━━━━━━━━━━━━\u001b[0m\u001b[37m\u001b[0m \u001b[1m1s\u001b[0m 5ms/step - loss: 0.0226 - mae: 0.0766 - mse: 0.0169 - val_loss: 0.0261 - val_mae: 0.0720 - val_mse: 0.0205 - learning_rate: 1.2005e-04\n",
      "Epoch 245/500\n",
      "\u001b[1m200/200\u001b[0m \u001b[32m━━━━━━━━━━━━━━━━━━━━\u001b[0m\u001b[37m\u001b[0m \u001b[1m1s\u001b[0m 5ms/step - loss: 0.0230 - mae: 0.0770 - mse: 0.0174 - val_loss: 0.0267 - val_mae: 0.0722 - val_mse: 0.0212 - learning_rate: 1.2005e-04\n",
      "Epoch 246/500\n",
      "\u001b[1m200/200\u001b[0m \u001b[32m━━━━━━━━━━━━━━━━━━━━\u001b[0m\u001b[37m\u001b[0m \u001b[1m1s\u001b[0m 5ms/step - loss: 0.0225 - mae: 0.0763 - mse: 0.0169 - val_loss: 0.0269 - val_mae: 0.0729 - val_mse: 0.0213 - learning_rate: 1.2005e-04\n",
      "Epoch 247/500\n",
      "\u001b[1m195/200\u001b[0m \u001b[32m━━━━━━━━━━━━━━━━━━━\u001b[0m\u001b[37m━\u001b[0m \u001b[1m0s\u001b[0m 5ms/step - loss: 0.0220 - mae: 0.0753 - mse: 0.0165"
     ]
    },
    {
     "name": "stderr",
     "output_type": "stream",
     "text": [
      "WARNING:absl:You are saving your model as an HDF5 file via `model.save()` or `keras.saving.save_model(model)`. This file format is considered legacy. We recommend using instead the native Keras format, e.g. `model.save('my_model.keras')` or `keras.saving.save_model(model, 'my_model.keras')`. \n"
     ]
    },
    {
     "name": "stdout",
     "output_type": "stream",
     "text": [
      "\u001b[1m200/200\u001b[0m \u001b[32m━━━━━━━━━━━━━━━━━━━━\u001b[0m\u001b[37m\u001b[0m \u001b[1m1s\u001b[0m 5ms/step - loss: 0.0220 - mae: 0.0753 - mse: 0.0165 - val_loss: 0.0261 - val_mae: 0.0722 - val_mse: 0.0205 - learning_rate: 1.2005e-04\n",
      "Epoch 248/500\n",
      "\u001b[1m200/200\u001b[0m \u001b[32m━━━━━━━━━━━━━━━━━━━━\u001b[0m\u001b[37m\u001b[0m \u001b[1m1s\u001b[0m 5ms/step - loss: 0.0220 - mae: 0.0762 - mse: 0.0164 - val_loss: 0.0264 - val_mae: 0.0721 - val_mse: 0.0209 - learning_rate: 1.2005e-04\n",
      "Epoch 249/500\n",
      "\u001b[1m200/200\u001b[0m \u001b[32m━━━━━━━━━━━━━━━━━━━━\u001b[0m\u001b[37m\u001b[0m \u001b[1m1s\u001b[0m 5ms/step - loss: 0.0218 - mae: 0.0754 - mse: 0.0162 - val_loss: 0.0265 - val_mae: 0.0722 - val_mse: 0.0210 - learning_rate: 1.2005e-04\n",
      "Epoch 250/500\n",
      "\u001b[1m200/200\u001b[0m \u001b[32m━━━━━━━━━━━━━━━━━━━━\u001b[0m\u001b[37m\u001b[0m \u001b[1m1s\u001b[0m 5ms/step - loss: 0.0225 - mae: 0.0758 - mse: 0.0169 - val_loss: 0.0262 - val_mae: 0.0721 - val_mse: 0.0207 - learning_rate: 1.2005e-04\n",
      "Epoch 251/500\n",
      "\u001b[1m194/200\u001b[0m \u001b[32m━━━━━━━━━━━━━━━━━━━\u001b[0m\u001b[37m━\u001b[0m \u001b[1m0s\u001b[0m 5ms/step - loss: 0.0222 - mae: 0.0759 - mse: 0.0167\n",
      "Epoch 251: ReduceLROnPlateau reducing learning rate to 8.403499814448878e-05.\n",
      "\u001b[1m200/200\u001b[0m \u001b[32m━━━━━━━━━━━━━━━━━━━━\u001b[0m\u001b[37m\u001b[0m \u001b[1m1s\u001b[0m 5ms/step - loss: 0.0222 - mae: 0.0759 - mse: 0.0167 - val_loss: 0.0263 - val_mae: 0.0724 - val_mse: 0.0208 - learning_rate: 1.2005e-04\n",
      "Epoch 252/500\n",
      "\u001b[1m200/200\u001b[0m \u001b[32m━━━━━━━━━━━━━━━━━━━━\u001b[0m\u001b[37m\u001b[0m \u001b[1m1s\u001b[0m 6ms/step - loss: 0.0221 - mae: 0.0753 - mse: 0.0166 - val_loss: 0.0264 - val_mae: 0.0733 - val_mse: 0.0209 - learning_rate: 8.4035e-05\n",
      "Epoch 253/500\n",
      "\u001b[1m200/200\u001b[0m \u001b[32m━━━━━━━━━━━━━━━━━━━━\u001b[0m\u001b[37m\u001b[0m \u001b[1m1s\u001b[0m 5ms/step - loss: 0.0226 - mae: 0.0762 - mse: 0.0171 - val_loss: 0.0266 - val_mae: 0.0717 - val_mse: 0.0211 - learning_rate: 8.4035e-05\n",
      "Epoch 254/500\n",
      "\u001b[1m200/200\u001b[0m \u001b[32m━━━━━━━━━━━━━━━━━━━━\u001b[0m\u001b[37m\u001b[0m \u001b[1m1s\u001b[0m 5ms/step - loss: 0.0220 - mae: 0.0750 - mse: 0.0165 - val_loss: 0.0265 - val_mae: 0.0715 - val_mse: 0.0210 - learning_rate: 8.4035e-05\n",
      "Epoch 255/500\n",
      "\u001b[1m200/200\u001b[0m \u001b[32m━━━━━━━━━━━━━━━━━━━━\u001b[0m\u001b[37m\u001b[0m \u001b[1m1s\u001b[0m 5ms/step - loss: 0.0216 - mae: 0.0754 - mse: 0.0161 - val_loss: 0.0262 - val_mae: 0.0721 - val_mse: 0.0207 - learning_rate: 8.4035e-05\n",
      "Epoch 256/500\n",
      "\u001b[1m200/200\u001b[0m \u001b[32m━━━━━━━━━━━━━━━━━━━━\u001b[0m\u001b[37m\u001b[0m \u001b[1m1s\u001b[0m 5ms/step - loss: 0.0217 - mae: 0.0749 - mse: 0.0162 - val_loss: 0.0264 - val_mae: 0.0718 - val_mse: 0.0209 - learning_rate: 8.4035e-05\n",
      "Epoch 257/500\n",
      "\u001b[1m200/200\u001b[0m \u001b[32m━━━━━━━━━━━━━━━━━━━━\u001b[0m\u001b[37m\u001b[0m \u001b[1m1s\u001b[0m 5ms/step - loss: 0.0216 - mae: 0.0750 - mse: 0.0161 - val_loss: 0.0262 - val_mae: 0.0715 - val_mse: 0.0208 - learning_rate: 8.4035e-05\n",
      "Epoch 258/500\n",
      "\u001b[1m200/200\u001b[0m \u001b[32m━━━━━━━━━━━━━━━━━━━━\u001b[0m\u001b[37m\u001b[0m \u001b[1m1s\u001b[0m 5ms/step - loss: 0.0213 - mae: 0.0748 - mse: 0.0159 - val_loss: 0.0266 - val_mae: 0.0721 - val_mse: 0.0212 - learning_rate: 8.4035e-05\n",
      "Epoch 259/500\n",
      "\u001b[1m200/200\u001b[0m \u001b[32m━━━━━━━━━━━━━━━━━━━━\u001b[0m\u001b[37m\u001b[0m \u001b[1m1s\u001b[0m 5ms/step - loss: 0.0212 - mae: 0.0746 - mse: 0.0157 - val_loss: 0.0266 - val_mae: 0.0719 - val_mse: 0.0212 - learning_rate: 8.4035e-05\n",
      "Epoch 260/500\n",
      "\u001b[1m200/200\u001b[0m \u001b[32m━━━━━━━━━━━━━━━━━━━━\u001b[0m\u001b[37m\u001b[0m \u001b[1m1s\u001b[0m 5ms/step - loss: 0.0216 - mae: 0.0753 - mse: 0.0161 - val_loss: 0.0267 - val_mae: 0.0710 - val_mse: 0.0213 - learning_rate: 8.4035e-05\n",
      "Epoch 261/500\n",
      "\u001b[1m199/200\u001b[0m \u001b[32m━━━━━━━━━━━━━━━━━━━\u001b[0m\u001b[37m━\u001b[0m \u001b[1m0s\u001b[0m 5ms/step - loss: 0.0211 - mae: 0.0742 - mse: 0.0157\n",
      "Epoch 261: ReduceLROnPlateau reducing learning rate to 5.882449768250808e-05.\n",
      "\u001b[1m200/200\u001b[0m \u001b[32m━━━━━━━━━━━━━━━━━━━━\u001b[0m\u001b[37m\u001b[0m \u001b[1m1s\u001b[0m 5ms/step - loss: 0.0211 - mae: 0.0742 - mse: 0.0157 - val_loss: 0.0269 - val_mae: 0.0720 - val_mse: 0.0214 - learning_rate: 8.4035e-05\n",
      "Epoch 262/500\n",
      "\u001b[1m200/200\u001b[0m \u001b[32m━━━━━━━━━━━━━━━━━━━━\u001b[0m\u001b[37m\u001b[0m \u001b[1m1s\u001b[0m 5ms/step - loss: 0.0213 - mae: 0.0746 - mse: 0.0158 - val_loss: 0.0264 - val_mae: 0.0710 - val_mse: 0.0210 - learning_rate: 5.8824e-05\n",
      "Epoch 263/500\n",
      "\u001b[1m200/200\u001b[0m \u001b[32m━━━━━━━━━━━━━━━━━━━━\u001b[0m\u001b[37m\u001b[0m \u001b[1m1s\u001b[0m 6ms/step - loss: 0.0218 - mae: 0.0749 - mse: 0.0164 - val_loss: 0.0267 - val_mae: 0.0718 - val_mse: 0.0213 - learning_rate: 5.8824e-05\n",
      "Epoch 264/500\n",
      "\u001b[1m200/200\u001b[0m \u001b[32m━━━━━━━━━━━━━━━━━━━━\u001b[0m\u001b[37m\u001b[0m \u001b[1m1s\u001b[0m 5ms/step - loss: 0.0210 - mae: 0.0742 - mse: 0.0156 - val_loss: 0.0266 - val_mae: 0.0711 - val_mse: 0.0212 - learning_rate: 5.8824e-05\n",
      "Epoch 265/500\n",
      "\u001b[1m192/200\u001b[0m \u001b[32m━━━━━━━━━━━━━━━━━━━\u001b[0m\u001b[37m━\u001b[0m \u001b[1m0s\u001b[0m 5ms/step - loss: 0.0209 - mae: 0.0741 - mse: 0.0155"
     ]
    },
    {
     "name": "stderr",
     "output_type": "stream",
     "text": [
      "WARNING:absl:You are saving your model as an HDF5 file via `model.save()` or `keras.saving.save_model(model)`. This file format is considered legacy. We recommend using instead the native Keras format, e.g. `model.save('my_model.keras')` or `keras.saving.save_model(model, 'my_model.keras')`. \n"
     ]
    },
    {
     "name": "stdout",
     "output_type": "stream",
     "text": [
      "\u001b[1m200/200\u001b[0m \u001b[32m━━━━━━━━━━━━━━━━━━━━\u001b[0m\u001b[37m\u001b[0m \u001b[1m1s\u001b[0m 5ms/step - loss: 0.0209 - mae: 0.0741 - mse: 0.0155 - val_loss: 0.0259 - val_mae: 0.0700 - val_mse: 0.0205 - learning_rate: 5.8824e-05\n",
      "Epoch 266/500\n",
      "\u001b[1m200/200\u001b[0m \u001b[32m━━━━━━━━━━━━━━━━━━━━\u001b[0m\u001b[37m\u001b[0m \u001b[1m1s\u001b[0m 5ms/step - loss: 0.0213 - mae: 0.0740 - mse: 0.0159 - val_loss: 0.0260 - val_mae: 0.0707 - val_mse: 0.0206 - learning_rate: 5.8824e-05\n",
      "Epoch 267/500\n",
      "\u001b[1m190/200\u001b[0m \u001b[32m━━━━━━━━━━━━━━━━━━━\u001b[0m\u001b[37m━\u001b[0m \u001b[1m0s\u001b[0m 5ms/step - loss: 0.0210 - mae: 0.0737 - mse: 0.0156"
     ]
    },
    {
     "name": "stderr",
     "output_type": "stream",
     "text": [
      "WARNING:absl:You are saving your model as an HDF5 file via `model.save()` or `keras.saving.save_model(model)`. This file format is considered legacy. We recommend using instead the native Keras format, e.g. `model.save('my_model.keras')` or `keras.saving.save_model(model, 'my_model.keras')`. \n"
     ]
    },
    {
     "name": "stdout",
     "output_type": "stream",
     "text": [
      "\u001b[1m200/200\u001b[0m \u001b[32m━━━━━━━━━━━━━━━━━━━━\u001b[0m\u001b[37m\u001b[0m \u001b[1m1s\u001b[0m 6ms/step - loss: 0.0210 - mae: 0.0737 - mse: 0.0156 - val_loss: 0.0258 - val_mae: 0.0700 - val_mse: 0.0205 - learning_rate: 5.8824e-05\n",
      "Epoch 268/500\n",
      "\u001b[1m200/200\u001b[0m \u001b[32m━━━━━━━━━━━━━━━━━━━━\u001b[0m\u001b[37m\u001b[0m \u001b[1m1s\u001b[0m 6ms/step - loss: 0.0210 - mae: 0.0737 - mse: 0.0156 - val_loss: 0.0258 - val_mae: 0.0704 - val_mse: 0.0205 - learning_rate: 5.8824e-05\n",
      "Epoch 269/500\n",
      "\u001b[1m194/200\u001b[0m \u001b[32m━━━━━━━━━━━━━━━━━━━\u001b[0m\u001b[37m━\u001b[0m \u001b[1m0s\u001b[0m 6ms/step - loss: 0.0209 - mae: 0.0737 - mse: 0.0156"
     ]
    },
    {
     "name": "stderr",
     "output_type": "stream",
     "text": [
      "WARNING:absl:You are saving your model as an HDF5 file via `model.save()` or `keras.saving.save_model(model)`. This file format is considered legacy. We recommend using instead the native Keras format, e.g. `model.save('my_model.keras')` or `keras.saving.save_model(model, 'my_model.keras')`. \n"
     ]
    },
    {
     "name": "stdout",
     "output_type": "stream",
     "text": [
      "\u001b[1m200/200\u001b[0m \u001b[32m━━━━━━━━━━━━━━━━━━━━\u001b[0m\u001b[37m\u001b[0m \u001b[1m1s\u001b[0m 6ms/step - loss: 0.0209 - mae: 0.0737 - mse: 0.0156 - val_loss: 0.0258 - val_mae: 0.0703 - val_mse: 0.0204 - learning_rate: 5.8824e-05\n",
      "Epoch 270/500\n",
      "\u001b[1m200/200\u001b[0m \u001b[32m━━━━━━━━━━━━━━━━━━━━\u001b[0m\u001b[37m\u001b[0m \u001b[1m1s\u001b[0m 5ms/step - loss: 0.0207 - mae: 0.0735 - mse: 0.0154 - val_loss: 0.0258 - val_mae: 0.0703 - val_mse: 0.0204 - learning_rate: 5.8824e-05\n",
      "Epoch 271/500\n",
      "\u001b[1m200/200\u001b[0m \u001b[32m━━━━━━━━━━━━━━━━━━━━\u001b[0m\u001b[37m\u001b[0m \u001b[1m1s\u001b[0m 5ms/step - loss: 0.0215 - mae: 0.0744 - mse: 0.0162 - val_loss: 0.0260 - val_mae: 0.0708 - val_mse: 0.0206 - learning_rate: 5.8824e-05\n",
      "Epoch 272/500\n",
      "\u001b[1m200/200\u001b[0m \u001b[32m━━━━━━━━━━━━━━━━━━━━\u001b[0m\u001b[37m\u001b[0m \u001b[1m1s\u001b[0m 5ms/step - loss: 0.0209 - mae: 0.0738 - mse: 0.0156 - val_loss: 0.0265 - val_mae: 0.0715 - val_mse: 0.0211 - learning_rate: 5.8824e-05\n",
      "Epoch 273/500\n",
      "\u001b[1m200/200\u001b[0m \u001b[32m━━━━━━━━━━━━━━━━━━━━\u001b[0m\u001b[37m\u001b[0m \u001b[1m1s\u001b[0m 5ms/step - loss: 0.0208 - mae: 0.0739 - mse: 0.0155 - val_loss: 0.0261 - val_mae: 0.0709 - val_mse: 0.0208 - learning_rate: 5.8824e-05\n",
      "Epoch 274/500\n",
      "\u001b[1m200/200\u001b[0m \u001b[32m━━━━━━━━━━━━━━━━━━━━\u001b[0m\u001b[37m\u001b[0m \u001b[1m1s\u001b[0m 5ms/step - loss: 0.0207 - mae: 0.0738 - mse: 0.0153 - val_loss: 0.0258 - val_mae: 0.0705 - val_mse: 0.0205 - learning_rate: 5.8824e-05\n",
      "Epoch 275/500\n",
      "\u001b[1m200/200\u001b[0m \u001b[32m━━━━━━━━━━━━━━━━━━━━\u001b[0m\u001b[37m\u001b[0m \u001b[1m1s\u001b[0m 6ms/step - loss: 0.0209 - mae: 0.0735 - mse: 0.0156 - val_loss: 0.0258 - val_mae: 0.0704 - val_mse: 0.0205 - learning_rate: 5.8824e-05\n",
      "Epoch 276/500\n",
      "\u001b[1m200/200\u001b[0m \u001b[32m━━━━━━━━━━━━━━━━━━━━\u001b[0m\u001b[37m\u001b[0m \u001b[1m1s\u001b[0m 6ms/step - loss: 0.0206 - mae: 0.0738 - mse: 0.0153 - val_loss: 0.0260 - val_mae: 0.0705 - val_mse: 0.0207 - learning_rate: 5.8824e-05\n",
      "Epoch 277/500\n",
      "\u001b[1m200/200\u001b[0m \u001b[32m━━━━━━━━━━━━━━━━━━━━\u001b[0m\u001b[37m\u001b[0m \u001b[1m1s\u001b[0m 6ms/step - loss: 0.0205 - mae: 0.0737 - mse: 0.0152 - val_loss: 0.0261 - val_mae: 0.0708 - val_mse: 0.0208 - learning_rate: 5.8824e-05\n",
      "Epoch 278/500\n",
      "\u001b[1m200/200\u001b[0m \u001b[32m━━━━━━━━━━━━━━━━━━━━\u001b[0m\u001b[37m\u001b[0m \u001b[1m1s\u001b[0m 5ms/step - loss: 0.0210 - mae: 0.0740 - mse: 0.0157 - val_loss: 0.0260 - val_mae: 0.0704 - val_mse: 0.0207 - learning_rate: 5.8824e-05\n",
      "Epoch 279/500\n",
      "\u001b[1m192/200\u001b[0m \u001b[32m━━━━━━━━━━━━━━━━━━━\u001b[0m\u001b[37m━\u001b[0m \u001b[1m0s\u001b[0m 5ms/step - loss: 0.0208 - mae: 0.0738 - mse: 0.0156"
     ]
    },
    {
     "name": "stderr",
     "output_type": "stream",
     "text": [
      "WARNING:absl:You are saving your model as an HDF5 file via `model.save()` or `keras.saving.save_model(model)`. This file format is considered legacy. We recommend using instead the native Keras format, e.g. `model.save('my_model.keras')` or `keras.saving.save_model(model, 'my_model.keras')`. \n"
     ]
    },
    {
     "name": "stdout",
     "output_type": "stream",
     "text": [
      "\n",
      "Epoch 279: ReduceLROnPlateau reducing learning rate to 4.117714888707269e-05.\n",
      "\u001b[1m200/200\u001b[0m \u001b[32m━━━━━━━━━━━━━━━━━━━━\u001b[0m\u001b[37m\u001b[0m \u001b[1m1s\u001b[0m 5ms/step - loss: 0.0208 - mae: 0.0738 - mse: 0.0155 - val_loss: 0.0257 - val_mae: 0.0705 - val_mse: 0.0204 - learning_rate: 5.8824e-05\n",
      "Epoch 280/500\n",
      "\u001b[1m197/200\u001b[0m \u001b[32m━━━━━━━━━━━━━━━━━━━\u001b[0m\u001b[37m━\u001b[0m \u001b[1m0s\u001b[0m 5ms/step - loss: 0.0204 - mae: 0.0732 - mse: 0.0151"
     ]
    },
    {
     "name": "stderr",
     "output_type": "stream",
     "text": [
      "WARNING:absl:You are saving your model as an HDF5 file via `model.save()` or `keras.saving.save_model(model)`. This file format is considered legacy. We recommend using instead the native Keras format, e.g. `model.save('my_model.keras')` or `keras.saving.save_model(model, 'my_model.keras')`. \n"
     ]
    },
    {
     "name": "stdout",
     "output_type": "stream",
     "text": [
      "\u001b[1m200/200\u001b[0m \u001b[32m━━━━━━━━━━━━━━━━━━━━\u001b[0m\u001b[37m\u001b[0m \u001b[1m1s\u001b[0m 6ms/step - loss: 0.0204 - mae: 0.0732 - mse: 0.0151 - val_loss: 0.0255 - val_mae: 0.0697 - val_mse: 0.0202 - learning_rate: 4.1177e-05\n",
      "Epoch 281/500\n",
      "\u001b[1m200/200\u001b[0m \u001b[32m━━━━━━━━━━━━━━━━━━━━\u001b[0m\u001b[37m\u001b[0m \u001b[1m1s\u001b[0m 6ms/step - loss: 0.0202 - mae: 0.0732 - mse: 0.0149 - val_loss: 0.0259 - val_mae: 0.0699 - val_mse: 0.0206 - learning_rate: 4.1177e-05\n",
      "Epoch 282/500\n",
      "\u001b[1m200/200\u001b[0m \u001b[32m━━━━━━━━━━━━━━━━━━━━\u001b[0m\u001b[37m\u001b[0m \u001b[1m1s\u001b[0m 5ms/step - loss: 0.0202 - mae: 0.0731 - mse: 0.0149 - val_loss: 0.0261 - val_mae: 0.0702 - val_mse: 0.0208 - learning_rate: 4.1177e-05\n",
      "Epoch 283/500\n",
      "\u001b[1m200/200\u001b[0m \u001b[32m━━━━━━━━━━━━━━━━━━━━\u001b[0m\u001b[37m\u001b[0m \u001b[1m1s\u001b[0m 5ms/step - loss: 0.0203 - mae: 0.0731 - mse: 0.0150 - val_loss: 0.0257 - val_mae: 0.0701 - val_mse: 0.0204 - learning_rate: 4.1177e-05\n",
      "Epoch 284/500\n",
      "\u001b[1m200/200\u001b[0m \u001b[32m━━━━━━━━━━━━━━━━━━━━\u001b[0m\u001b[37m\u001b[0m \u001b[1m1s\u001b[0m 5ms/step - loss: 0.0204 - mae: 0.0736 - mse: 0.0151 - val_loss: 0.0257 - val_mae: 0.0698 - val_mse: 0.0204 - learning_rate: 4.1177e-05\n",
      "Epoch 285/500\n",
      "\u001b[1m200/200\u001b[0m \u001b[32m━━━━━━━━━━━━━━━━━━━━\u001b[0m\u001b[37m\u001b[0m \u001b[1m1s\u001b[0m 5ms/step - loss: 0.0205 - mae: 0.0734 - mse: 0.0152 - val_loss: 0.0256 - val_mae: 0.0695 - val_mse: 0.0204 - learning_rate: 4.1177e-05\n",
      "Epoch 286/500\n",
      "\u001b[1m200/200\u001b[0m \u001b[32m━━━━━━━━━━━━━━━━━━━━\u001b[0m\u001b[37m\u001b[0m \u001b[1m1s\u001b[0m 5ms/step - loss: 0.0204 - mae: 0.0732 - mse: 0.0151 - val_loss: 0.0257 - val_mae: 0.0699 - val_mse: 0.0204 - learning_rate: 4.1177e-05\n",
      "Epoch 287/500\n",
      "\u001b[1m200/200\u001b[0m \u001b[32m━━━━━━━━━━━━━━━━━━━━\u001b[0m\u001b[37m\u001b[0m \u001b[1m1s\u001b[0m 5ms/step - loss: 0.0203 - mae: 0.0734 - mse: 0.0150 - val_loss: 0.0258 - val_mae: 0.0696 - val_mse: 0.0205 - learning_rate: 4.1177e-05\n",
      "Epoch 288/500\n",
      "\u001b[1m200/200\u001b[0m \u001b[32m━━━━━━━━━━━━━━━━━━━━\u001b[0m\u001b[37m\u001b[0m \u001b[1m1s\u001b[0m 5ms/step - loss: 0.0205 - mae: 0.0733 - mse: 0.0153 - val_loss: 0.0258 - val_mae: 0.0701 - val_mse: 0.0206 - learning_rate: 4.1177e-05\n",
      "Epoch 289/500\n",
      "\u001b[1m200/200\u001b[0m \u001b[32m━━━━━━━━━━━━━━━━━━━━\u001b[0m\u001b[37m\u001b[0m \u001b[1m1s\u001b[0m 5ms/step - loss: 0.0205 - mae: 0.0730 - mse: 0.0153 - val_loss: 0.0259 - val_mae: 0.0697 - val_mse: 0.0206 - learning_rate: 4.1177e-05\n",
      "Epoch 290/500\n",
      "\u001b[1m196/200\u001b[0m \u001b[32m━━━━━━━━━━━━━━━━━━━\u001b[0m\u001b[37m━\u001b[0m \u001b[1m0s\u001b[0m 5ms/step - loss: 0.0207 - mae: 0.0736 - mse: 0.0155\n",
      "Epoch 290: ReduceLROnPlateau reducing learning rate to 2.88240029476583e-05.\n",
      "\u001b[1m200/200\u001b[0m \u001b[32m━━━━━━━━━━━━━━━━━━━━\u001b[0m\u001b[37m\u001b[0m \u001b[1m1s\u001b[0m 5ms/step - loss: 0.0207 - mae: 0.0736 - mse: 0.0155 - val_loss: 0.0257 - val_mae: 0.0700 - val_mse: 0.0204 - learning_rate: 4.1177e-05\n",
      "Epoch 291/500\n",
      "\u001b[1m200/200\u001b[0m \u001b[32m━━━━━━━━━━━━━━━━━━━━\u001b[0m\u001b[37m\u001b[0m \u001b[1m1s\u001b[0m 5ms/step - loss: 0.0203 - mae: 0.0727 - mse: 0.0151 - val_loss: 0.0258 - val_mae: 0.0694 - val_mse: 0.0206 - learning_rate: 2.8824e-05\n",
      "Epoch 292/500\n",
      "\u001b[1m196/200\u001b[0m \u001b[32m━━━━━━━━━━━━━━━━━━━\u001b[0m\u001b[37m━\u001b[0m \u001b[1m0s\u001b[0m 5ms/step - loss: 0.0200 - mae: 0.0723 - mse: 0.0148"
     ]
    },
    {
     "name": "stderr",
     "output_type": "stream",
     "text": [
      "WARNING:absl:You are saving your model as an HDF5 file via `model.save()` or `keras.saving.save_model(model)`. This file format is considered legacy. We recommend using instead the native Keras format, e.g. `model.save('my_model.keras')` or `keras.saving.save_model(model, 'my_model.keras')`. \n"
     ]
    },
    {
     "name": "stdout",
     "output_type": "stream",
     "text": [
      "\u001b[1m200/200\u001b[0m \u001b[32m━━━━━━━━━━━━━━━━━━━━\u001b[0m\u001b[37m\u001b[0m \u001b[1m1s\u001b[0m 5ms/step - loss: 0.0200 - mae: 0.0723 - mse: 0.0148 - val_loss: 0.0254 - val_mae: 0.0692 - val_mse: 0.0202 - learning_rate: 2.8824e-05\n",
      "Epoch 293/500\n",
      "\u001b[1m200/200\u001b[0m \u001b[32m━━━━━━━━━━━━━━━━━━━━\u001b[0m\u001b[37m\u001b[0m \u001b[1m1s\u001b[0m 5ms/step - loss: 0.0202 - mae: 0.0728 - mse: 0.0150 - val_loss: 0.0256 - val_mae: 0.0694 - val_mse: 0.0204 - learning_rate: 2.8824e-05\n",
      "Epoch 294/500\n",
      "\u001b[1m200/200\u001b[0m \u001b[32m━━━━━━━━━━━━━━━━━━━━\u001b[0m\u001b[37m\u001b[0m \u001b[1m1s\u001b[0m 5ms/step - loss: 0.0201 - mae: 0.0727 - mse: 0.0149 - val_loss: 0.0258 - val_mae: 0.0696 - val_mse: 0.0206 - learning_rate: 2.8824e-05\n",
      "Epoch 295/500\n",
      "\u001b[1m200/200\u001b[0m \u001b[32m━━━━━━━━━━━━━━━━━━━━\u001b[0m\u001b[37m\u001b[0m \u001b[1m1s\u001b[0m 5ms/step - loss: 0.0201 - mae: 0.0729 - mse: 0.0149 - val_loss: 0.0258 - val_mae: 0.0698 - val_mse: 0.0206 - learning_rate: 2.8824e-05\n",
      "Epoch 296/500\n",
      "\u001b[1m200/200\u001b[0m \u001b[32m━━━━━━━━━━━━━━━━━━━━\u001b[0m\u001b[37m\u001b[0m \u001b[1m1s\u001b[0m 6ms/step - loss: 0.0202 - mae: 0.0728 - mse: 0.0149 - val_loss: 0.0257 - val_mae: 0.0695 - val_mse: 0.0205 - learning_rate: 2.8824e-05\n",
      "Epoch 297/500\n",
      "\u001b[1m200/200\u001b[0m \u001b[32m━━━━━━━━━━━━━━━━━━━━\u001b[0m\u001b[37m\u001b[0m \u001b[1m1s\u001b[0m 5ms/step - loss: 0.0201 - mae: 0.0729 - mse: 0.0149 - val_loss: 0.0258 - val_mae: 0.0694 - val_mse: 0.0206 - learning_rate: 2.8824e-05\n",
      "Epoch 298/500\n",
      "\u001b[1m200/200\u001b[0m \u001b[32m━━━━━━━━━━━━━━━━━━━━\u001b[0m\u001b[37m\u001b[0m \u001b[1m1s\u001b[0m 5ms/step - loss: 0.0198 - mae: 0.0726 - mse: 0.0146 - val_loss: 0.0258 - val_mae: 0.0693 - val_mse: 0.0206 - learning_rate: 2.8824e-05\n",
      "Epoch 299/500\n",
      "\u001b[1m200/200\u001b[0m \u001b[32m━━━━━━━━━━━━━━━━━━━━\u001b[0m\u001b[37m\u001b[0m \u001b[1m1s\u001b[0m 5ms/step - loss: 0.0202 - mae: 0.0725 - mse: 0.0150 - val_loss: 0.0257 - val_mae: 0.0694 - val_mse: 0.0205 - learning_rate: 2.8824e-05\n",
      "Epoch 300/500\n",
      "\u001b[1m200/200\u001b[0m \u001b[32m━━━━━━━━━━━━━━━━━━━━\u001b[0m\u001b[37m\u001b[0m \u001b[1m1s\u001b[0m 5ms/step - loss: 0.0201 - mae: 0.0731 - mse: 0.0149 - val_loss: 0.0256 - val_mae: 0.0694 - val_mse: 0.0204 - learning_rate: 2.8824e-05\n",
      "Epoch 301/500\n",
      "\u001b[1m200/200\u001b[0m \u001b[32m━━━━━━━━━━━━━━━━━━━━\u001b[0m\u001b[37m\u001b[0m \u001b[1m1s\u001b[0m 5ms/step - loss: 0.0202 - mae: 0.0728 - mse: 0.0150 - val_loss: 0.0259 - val_mae: 0.0694 - val_mse: 0.0207 - learning_rate: 2.8824e-05\n",
      "Epoch 302/500\n",
      "\u001b[1m200/200\u001b[0m \u001b[32m━━━━━━━━━━━━━━━━━━━━\u001b[0m\u001b[37m\u001b[0m \u001b[1m0s\u001b[0m 5ms/step - loss: 0.0199 - mae: 0.0722 - mse: 0.0147\n",
      "Epoch 302: ReduceLROnPlateau reducing learning rate to 2.0176801808702293e-05.\n",
      "\u001b[1m200/200\u001b[0m \u001b[32m━━━━━━━━━━━━━━━━━━━━\u001b[0m\u001b[37m\u001b[0m \u001b[1m1s\u001b[0m 5ms/step - loss: 0.0199 - mae: 0.0722 - mse: 0.0147 - val_loss: 0.0257 - val_mae: 0.0696 - val_mse: 0.0205 - learning_rate: 2.8824e-05\n",
      "Epoch 303/500\n",
      "\u001b[1m200/200\u001b[0m \u001b[32m━━━━━━━━━━━━━━━━━━━━\u001b[0m\u001b[37m\u001b[0m \u001b[1m1s\u001b[0m 5ms/step - loss: 0.0199 - mae: 0.0726 - mse: 0.0147 - val_loss: 0.0256 - val_mae: 0.0694 - val_mse: 0.0205 - learning_rate: 2.0177e-05\n",
      "Epoch 304/500\n",
      "\u001b[1m200/200\u001b[0m \u001b[32m━━━━━━━━━━━━━━━━━━━━\u001b[0m\u001b[37m\u001b[0m \u001b[1m1s\u001b[0m 5ms/step - loss: 0.0202 - mae: 0.0725 - mse: 0.0150 - val_loss: 0.0258 - val_mae: 0.0694 - val_mse: 0.0206 - learning_rate: 2.0177e-05\n",
      "Epoch 305/500\n",
      "\u001b[1m200/200\u001b[0m \u001b[32m━━━━━━━━━━━━━━━━━━━━\u001b[0m\u001b[37m\u001b[0m \u001b[1m1s\u001b[0m 5ms/step - loss: 0.0205 - mae: 0.0730 - mse: 0.0153 - val_loss: 0.0258 - val_mae: 0.0694 - val_mse: 0.0206 - learning_rate: 2.0177e-05\n",
      "Epoch 306/500\n",
      "\u001b[1m200/200\u001b[0m \u001b[32m━━━━━━━━━━━━━━━━━━━━\u001b[0m\u001b[37m\u001b[0m \u001b[1m1s\u001b[0m 5ms/step - loss: 0.0204 - mae: 0.0730 - mse: 0.0153 - val_loss: 0.0258 - val_mae: 0.0694 - val_mse: 0.0206 - learning_rate: 2.0177e-05\n",
      "Epoch 307/500\n",
      "\u001b[1m200/200\u001b[0m \u001b[32m━━━━━━━━━━━━━━━━━━━━\u001b[0m\u001b[37m\u001b[0m \u001b[1m1s\u001b[0m 5ms/step - loss: 0.0200 - mae: 0.0723 - mse: 0.0148 - val_loss: 0.0259 - val_mae: 0.0698 - val_mse: 0.0208 - learning_rate: 2.0177e-05\n",
      "Epoch 308/500\n",
      "\u001b[1m200/200\u001b[0m \u001b[32m━━━━━━━━━━━━━━━━━━━━\u001b[0m\u001b[37m\u001b[0m \u001b[1m1s\u001b[0m 5ms/step - loss: 0.0201 - mae: 0.0727 - mse: 0.0150 - val_loss: 0.0258 - val_mae: 0.0694 - val_mse: 0.0206 - learning_rate: 2.0177e-05\n",
      "Epoch 309/500\n",
      "\u001b[1m200/200\u001b[0m \u001b[32m━━━━━━━━━━━━━━━━━━━━\u001b[0m\u001b[37m\u001b[0m \u001b[1m1s\u001b[0m 5ms/step - loss: 0.0199 - mae: 0.0725 - mse: 0.0147 - val_loss: 0.0259 - val_mae: 0.0697 - val_mse: 0.0207 - learning_rate: 2.0177e-05\n",
      "Epoch 310/500\n",
      "\u001b[1m200/200\u001b[0m \u001b[32m━━━━━━━━━━━━━━━━━━━━\u001b[0m\u001b[37m\u001b[0m \u001b[1m1s\u001b[0m 5ms/step - loss: 0.0198 - mae: 0.0724 - mse: 0.0146 - val_loss: 0.0257 - val_mae: 0.0695 - val_mse: 0.0205 - learning_rate: 2.0177e-05\n",
      "Epoch 311/500\n",
      "\u001b[1m200/200\u001b[0m \u001b[32m━━━━━━━━━━━━━━━━━━━━\u001b[0m\u001b[37m\u001b[0m \u001b[1m1s\u001b[0m 5ms/step - loss: 0.0200 - mae: 0.0728 - mse: 0.0148 - val_loss: 0.0259 - val_mae: 0.0694 - val_mse: 0.0207 - learning_rate: 2.0177e-05\n",
      "Epoch 312/500\n",
      "\u001b[1m196/200\u001b[0m \u001b[32m━━━━━━━━━━━━━━━━━━━\u001b[0m\u001b[37m━\u001b[0m \u001b[1m0s\u001b[0m 5ms/step - loss: 0.0197 - mae: 0.0720 - mse: 0.0145\n",
      "Epoch 312: ReduceLROnPlateau reducing learning rate to 1.4123761138762347e-05.\n",
      "\u001b[1m200/200\u001b[0m \u001b[32m━━━━━━━━━━━━━━━━━━━━\u001b[0m\u001b[37m\u001b[0m \u001b[1m1s\u001b[0m 5ms/step - loss: 0.0197 - mae: 0.0720 - mse: 0.0145 - val_loss: 0.0258 - val_mae: 0.0694 - val_mse: 0.0206 - learning_rate: 2.0177e-05\n",
      "Epoch 313/500\n",
      "\u001b[1m200/200\u001b[0m \u001b[32m━━━━━━━━━━━━━━━━━━━━\u001b[0m\u001b[37m\u001b[0m \u001b[1m1s\u001b[0m 5ms/step - loss: 0.0198 - mae: 0.0722 - mse: 0.0146 - val_loss: 0.0259 - val_mae: 0.0694 - val_mse: 0.0208 - learning_rate: 1.4124e-05\n",
      "Epoch 314/500\n",
      "\u001b[1m200/200\u001b[0m \u001b[32m━━━━━━━━━━━━━━━━━━━━\u001b[0m\u001b[37m\u001b[0m \u001b[1m1s\u001b[0m 5ms/step - loss: 0.0198 - mae: 0.0725 - mse: 0.0147 - val_loss: 0.0259 - val_mae: 0.0695 - val_mse: 0.0207 - learning_rate: 1.4124e-05\n",
      "Epoch 315/500\n",
      "\u001b[1m200/200\u001b[0m \u001b[32m━━━━━━━━━━━━━━━━━━━━\u001b[0m\u001b[37m\u001b[0m \u001b[1m1s\u001b[0m 6ms/step - loss: 0.0198 - mae: 0.0724 - mse: 0.0146 - val_loss: 0.0261 - val_mae: 0.0696 - val_mse: 0.0209 - learning_rate: 1.4124e-05\n",
      "Epoch 316/500\n",
      "\u001b[1m200/200\u001b[0m \u001b[32m━━━━━━━━━━━━━━━━━━━━\u001b[0m\u001b[37m\u001b[0m \u001b[1m1s\u001b[0m 6ms/step - loss: 0.0195 - mae: 0.0721 - mse: 0.0144 - val_loss: 0.0260 - val_mae: 0.0693 - val_mse: 0.0208 - learning_rate: 1.4124e-05\n",
      "Epoch 317/500\n",
      "\u001b[1m200/200\u001b[0m \u001b[32m━━━━━━━━━━━━━━━━━━━━\u001b[0m\u001b[37m\u001b[0m \u001b[1m1s\u001b[0m 5ms/step - loss: 0.0199 - mae: 0.0720 - mse: 0.0147 - val_loss: 0.0260 - val_mae: 0.0695 - val_mse: 0.0208 - learning_rate: 1.4124e-05\n",
      "\n",
      "Tiempo de entrenamiento: 345.72 segundos\n"
     ]
    }
   ],
   "source": [
    "# ----------------------------------------\n",
    "# 5. ENTRENAMIENTO\n",
    "# ----------------------------------------\n",
    "# Learning rate con schedule\n",
    "#initial_learning_rate = 0.001\n",
    "\n",
    "\n",
    "# Mezclar los datos antes de dividir\n",
    "indices = np.arange(len(X_scaled))\n",
    "np.random.shuffle(indices)\n",
    "X_scaled = X_scaled[indices]\n",
    "Y_scaled = Y_scaled[indices]\n",
    "\n",
    "# División inicial en train y test\n",
    "X_train, X_test, Y_train, Y_test = train_test_split(\n",
    "    X_scaled, Y_scaled,\n",
    "    test_size=0.2,\n",
    "    random_state=42,\n",
    "    shuffle=True\n",
    ")\n",
    "\n",
    "# 2. Ajustar el batch size y el learning rate\n",
    "batch_size = 128  # Aumentar el batch size para más estabilidad\n",
    "initial_learning_rate = 0.0005  # Reducir el learning rate inicial\n",
    "\n",
    "# 3. Modificar el optimizador y los callbacksß\n",
    "optimizer = tf.keras.optimizers.Adam(\n",
    "    learning_rate=initial_learning_rate,\n",
    "    weight_decay=1e-5,\n",
    "    beta_1=0.9,\n",
    "    beta_2=0.999,\n",
    "    epsilon=1e-7,\n",
    "    amsgrad=True \n",
    ")\n",
    "\n",
    "# Compilar con configuración mejorada\n",
    "model = create_deeponet(input_dim=X_train.shape[1], n_sensor=n_sensor)\n",
    "\n",
    "model.compile(\n",
    "    optimizer=optimizer,\n",
    "    loss='mse',\n",
    "    metrics=['mae', 'mse']\n",
    ")\n",
    "\n",
    "# Callbacks mejorados\n",
    "callbacks = [\n",
    "    tf.keras.callbacks.EarlyStopping(\n",
    "        monitor='val_loss',\n",
    "        patience=25,\n",
    "        restore_best_weights=True,\n",
    "        min_delta=1e-4,\n",
    "        mode='min'\n",
    "    ),\n",
    "    tf.keras.callbacks.ModelCheckpoint(\n",
    "        'best_model.h5',\n",
    "        monitor='val_loss',\n",
    "        save_best_only=True,\n",
    "        mode='min'\n",
    "    ),\n",
    "    tf.keras.callbacks.ReduceLROnPlateau(\n",
    "        monitor='val_loss',\n",
    "        factor=0.7,\n",
    "        patience=10,\n",
    "        min_lr=1e-6,\n",
    "        verbose=1,\n",
    "        mode='min'\n",
    "    )\n",
    "]\n",
    "\n",
    "start_time = time.time()\n",
    "\n",
    "\n",
    "history = model.fit(\n",
    "    [X_train, trunk_train],\n",
    "    Y_train,\n",
    "    epochs=500,\n",
    "    batch_size=batch_size,\n",
    "    validation_split=0.2,\n",
    "    shuffle=True,  # Asegurar que los datos se mezclen en cada época\n",
    "    callbacks=callbacks,\n",
    "    verbose=1\n",
    ") \n",
    "\n",
    "end_time = time.time()\n",
    "print(f\"\\nTiempo de entrenamiento: {end_time - start_time:.2f} segundos\")"
   ]
  },
  {
   "cell_type": "code",
   "execution_count": 69,
   "id": "6229490a",
   "metadata": {},
   "outputs": [
    {
     "name": "stdout",
     "output_type": "stream",
     "text": [
      "\u001b[1m250/250\u001b[0m \u001b[32m━━━━━━━━━━━━━━━━━━━━\u001b[0m\u001b[37m\u001b[0m \u001b[1m0s\u001b[0m 751us/step - loss: 0.0308 - mae: 0.0729 - mse: 0.0256\n",
      "\n",
      "Test loss (MSE): 0.0274\n",
      "\u001b[1m250/250\u001b[0m \u001b[32m━━━━━━━━━━━━━━━━━━━━\u001b[0m\u001b[37m\u001b[0m \u001b[1m0s\u001b[0m 584us/step\n",
      "\n",
      "Métricas de evaluación:\n",
      "MSE: 0.0222\n",
      "RMSE: 0.1490\n",
      "MAE: 0.0700\n",
      "R²: 0.9777\n"
     ]
    },
    {
     "data": {
      "image/png": "[encoded data removed]",
      "text/plain": [
       "<Figure size 1500x1000 with 4 Axes>"
      ]
     },
     "metadata": {},
     "output_type": "display_data"
    },
    {
     "data": {
      "image/png": "[encoded data removed]",
      "text/plain": [
       "<Figure size 1200x600 with 3 Axes>"
      ]
     },
     "metadata": {},
     "output_type": "display_data"
    }
   ],
   "source": [
    "# ----------------------------------------\n",
    "# 6. EVALUACIÓN Y VISUALIZACIÓN\n",
    "# ----------------------------------------\n",
    "# Evaluar\n",
    "test_metrics = model.evaluate([X_test, trunk_test], Y_test, verbose=1)\n",
    "print(f\"\\nTest loss (MSE): {test_metrics[0]:.4f}\")\n",
    "\n",
    "# Hacer predicciones\n",
    "Y_pred = model.predict([X_test, trunk_test])\n",
    "\n",
    "\n",
    "# Asegurar que Y_pred tenga la forma correcta (8000, 5)\n",
    "if Y_pred.shape != Y_test.shape:\n",
    "    Y_pred = Y_pred.reshape(Y_test.shape)\n",
    "\n",
    "\n",
    "# Aplanar arrays para métricas y visualización\n",
    "Y_test_flat = Y_test.ravel()\n",
    "Y_pred_flat = Y_pred.ravel()\n",
    "\n",
    "\n",
    "# Calcular métricas\n",
    "mse = np.mean((Y_pred_flat - Y_test_flat)**2)\n",
    "rmse = np.sqrt(mse)\n",
    "mae = np.mean(np.abs(Y_pred_flat - Y_test_flat))\n",
    "r2 = 1 - np.sum((Y_test_flat - Y_pred_flat)**2) / np.sum((Y_test_flat - np.mean(Y_test_flat))**2)\n",
    "\n",
    "# [Resto del código de visualización igual que antes...]\n",
    "\n",
    "# Imprimir métricas\n",
    "print(\"\\nMétricas de evaluación:\")\n",
    "print(f\"MSE: {mse:.4f}\")\n",
    "print(f\"RMSE: {rmse:.4f}\")\n",
    "print(f\"MAE: {mae:.4f}\")\n",
    "print(f\"R²: {r2:.4f}\")\n",
    "\n",
    "# Visualizaciones\n",
    "plt.figure(figsize=(15, 10))\n",
    "\n",
    "# 1. Gráfico de pérdida durante el entrenamiento\n",
    "plt.subplot(2, 2, 1)\n",
    "plt.plot(history.history['loss'], label='Training Loss')\n",
    "plt.plot(history.history['val_loss'], label='Validation Loss')\n",
    "plt.title('Model Loss')\n",
    "plt.xlabel('Epoch')\n",
    "plt.ylabel('Loss')\n",
    "plt.legend()\n",
    "plt.grid(True)\n",
    "\n",
    "# 2. Gráfico de MAE durante el entrenamiento\n",
    "plt.subplot(2, 2, 2)\n",
    "plt.plot(history.history['mae'], label='Training MAE')\n",
    "plt.plot(history.history['val_mae'], label='Validation MAE')\n",
    "plt.title('Model MAE')\n",
    "plt.xlabel('Epoch')\n",
    "plt.ylabel('MAE')\n",
    "plt.legend()\n",
    "plt.grid(True)\n",
    "\n",
    "# 3. Scatter plot de predicciones vs valores reales\n",
    "plt.subplot(2, 2, 3)\n",
    "plt.scatter(Y_test_flat, Y_pred_flat, alpha=0.5, s=20)\n",
    "min_val = min(np.min(Y_test_flat), np.min(Y_pred_flat))\n",
    "max_val = max(np.max(Y_test_flat), np.max(Y_pred_flat))\n",
    "plt.plot([min_val, max_val], [min_val, max_val], 'r--', label='Perfect Prediction')\n",
    "plt.xlabel('Valores Reales')\n",
    "plt.ylabel('Predicciones')\n",
    "plt.title(f'Predicciones vs Valores Reales (R² = {r2:.4f})')\n",
    "plt.legend()\n",
    "plt.grid(True)\n",
    "\n",
    "# 4. Histograma de errores\n",
    "plt.subplot(2, 2, 4)\n",
    "errors = Y_pred_flat - Y_test_flat\n",
    "plt.hist(errors, bins=50, edgecolor='black', alpha=0.7)\n",
    "plt.axvline(x=0, color='r', linestyle='--', alpha=0.5)\n",
    "plt.title(f'Distribución de Errores (MAE = {mae:.4f})')\n",
    "plt.xlabel('Error')\n",
    "plt.ylabel('Frecuencia')\n",
    "plt.grid(True)\n",
    "\n",
    "plt.tight_layout()\n",
    "plt.show()\n",
    "\n",
    "# Visualizar algunas predicciones específicas\n",
    "plt.figure(figsize=(12, 6))\n",
    "for i in range(3):  # Mostrar 3 ejemplos\n",
    "    plt.subplot(1, 3, i+1)\n",
    "    plt.plot(range(5), Y_test[i], 'bo-', label='Real')\n",
    "    plt.plot(range(5), Y_pred[i], 'ro--', label='Predicción')\n",
    "    plt.title(f'Ejemplo {i+1}')\n",
    "    plt.xlabel('Posición')\n",
    "    plt.ylabel('Valor')\n",
    "    plt.legend()\n",
    "    plt.grid(True)\n",
    "plt.tight_layout()\n",
    "plt.show()\n"
   ]
  }
 ],
 "metadata": {
  "kernelspec": {
   "display_name": ".venv",
   "language": "python",
   "name": "python3"
  },
  "language_info": {
   "codemirror_mode": {
    "name": "ipython",
    "version": 3
   },
   "file_extension": ".py",
   "mimetype": "text/x-python",
   "name": "python",
   "nbconvert_exporter": "python",
   "pygments_lexer": "ipython3",
   "version": "3.10.13"
  }
 },
 "nbformat": 4,
 "nbformat_minor": 5
}
